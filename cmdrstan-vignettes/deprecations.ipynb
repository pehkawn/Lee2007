{
 "cells": [
  {
   "cell_type": "markdown",
   "id": "5ef56548",
   "metadata": {},
   "source": [
    "# Handling deprecated Stan features with the canonicalizer in CmdStanR\n",
    "\n",
    "Authors: Rok Češnovar and Jonah Gabry\"\n",
    "\n",
    "(Jupyter notebook edited by Pål K.B. Bjartan)\n",
    "\n",
    "\n",
    "\n",
    "## Introduction\n",
    "\n",
    "This vignette demonstrates how to handle cases where your Stan program contains\n",
    "deprecated features resulting in deprecation warnings. In most cases, the\n",
    "Stan-to-C++ compiler can be used to automatically update your code to a\n",
    "non-deprecated feature that replaces the deprecated one. This vignette showcases\n",
    "how that automatic conversion can be done using CmdStanR.\n",
    "\n",
    "The automatic conversion of deprecated features to non-deprecated features is\n",
    "done using the so-called \"canonicalizer\", which is part of the Stan-to-C++\n",
    "compiler. We recommend using CmdStan 2.29.2 or later when using the\n",
    "canonicalizer and this vignette. The minimum CmdStanR version to run the\n",
    "code in the vignette is 0.5.0."
   ]
  },
  {
   "cell_type": "code",
   "execution_count": 1,
   "id": "674253a7",
   "metadata": {
    "vscode": {
     "languageId": "r"
    }
   },
   "outputs": [
    {
     "name": "stderr",
     "output_type": "stream",
     "text": [
      "This is cmdstanr version 0.6.0\n",
      "\n",
      "- CmdStanR documentation and vignettes: mc-stan.org/cmdstanr\n",
      "\n",
      "- CmdStan path: /opt/cmdstan/cmdstan-2.32.2\n",
      "\n",
      "- CmdStan version: 2.32.2\n",
      "\n"
     ]
    }
   ],
   "source": [
    "library(cmdstanr)\n",
    "check_cmdstan_toolchain(fix = TRUE, quiet = TRUE)"
   ]
  },
  {
   "cell_type": "markdown",
   "id": "65352fb2",
   "metadata": {},
   "source": [
    "## Deprecation warnings\n",
    "\n",
    "The following logistic regression model uses several deprecated language\n",
    "features, resulting in several warnings during compilation."
   ]
  },
  {
   "cell_type": "code",
   "execution_count": 4,
   "id": "5dac3e49",
   "metadata": {
    "vscode": {
     "languageId": "r"
    }
   },
   "outputs": [
    {
     "data": {
      "text/html": [
       "'/home/pal_bjartan/Backup/PhD/SEM-test-model/Lee2007/cmdrstan-vignettes'"
      ],
      "text/latex": [
       "'/home/pal\\_bjartan/Backup/PhD/SEM-test-model/Lee2007/cmdrstan-vignettes'"
      ],
      "text/markdown": [
       "'/home/pal_bjartan/Backup/PhD/SEM-test-model/Lee2007/cmdrstan-vignettes'"
      ],
      "text/plain": [
       "[1] \"/home/pal_bjartan/Backup/PhD/SEM-test-model/Lee2007/cmdrstan-vignettes\""
      ]
     },
     "metadata": {},
     "output_type": "display_data"
    }
   ],
   "source": [
    "getwd()"
   ]
  },
  {
   "cell_type": "code",
   "execution_count": 7,
   "id": "2395098a",
   "metadata": {
    "vscode": {
     "languageId": "r"
    }
   },
   "outputs": [
    {
     "name": "stderr",
     "output_type": "stream",
     "text": [
      "Warning in '/tmp/RtmpbbYYaX/model-894d9bfa40f0.stan', line 6, column 4: Declaration\n",
      "    of arrays by placing brackets after a variable name is deprecated and\n",
      "    will be removed in Stan 2.33.0. Instead use the array keyword before the\n",
      "    type. This can be changed automatically using the auto-format flag to\n",
      "    stanc\n",
      "Warning in '/tmp/RtmpbbYYaX/model-894d9bfa40f0.stan', line 13, column 4: Comments\n",
      "    beginning with # are deprecated and this syntax will be removed in Stan\n",
      "    2.33.0. Use // to begin line comments; this can be done automatically\n",
      "    using the auto-format flag to stanc\n",
      "Warning in '/tmp/RtmpbbYYaX/model-894d9bfa40f0.stan', line 14, column 14: std_normal_log\n",
      "    is deprecated and will be removed in Stan 2.33.0. Use std_normal_lpdf\n",
      "    instead. This can be automatically changed using the canonicalize flag\n",
      "    for stanc\n",
      "\n",
      "\n"
     ]
    }
   ],
   "source": [
    "\n",
    "stan_file <- write_stan_file(\"\n",
    "  data {\n",
    "    int<lower=1> k;\n",
    "    int<lower=0> n;\n",
    "    matrix[n, k] X;\n",
    "    int y[n];\n",
    "  }\n",
    "  parameters {\n",
    "    vector[k] beta;\n",
    "    real alpha;\n",
    "  }\n",
    "  model {\n",
    "    # priors\n",
    "    target += std_normal_log(beta);\n",
    "    alpha ~ std_normal();\n",
    "\n",
    "    y ~ bernoulli_logit(X * beta + alpha);\n",
    "  }\n",
    "  \", \n",
    "  dir = getwd(),\n",
    "  basename = \"deprecations.stan\")\n",
    "mod <- cmdstan_model(stan_file)"
   ]
  },
  {
   "cell_type": "markdown",
   "id": "f5cb976c",
   "metadata": {},
   "source": [
    "The first warning is about using the deprecated array syntax"
   ]
  },
  {
   "cell_type": "code",
   "execution_count": null,
   "id": "622fc715",
   "metadata": {
    "vscode": {
     "languageId": "r"
    }
   },
   "outputs": [],
   "source": [
    "int y[n];"
   ]
  },
  {
   "cell_type": "markdown",
   "id": "7a608545",
   "metadata": {},
   "source": [
    "which should be replaced with the new syntax using the `array` keyword:"
   ]
  },
  {
   "cell_type": "code",
   "execution_count": null,
   "id": "c747b5d9",
   "metadata": {
    "vscode": {
     "languageId": "r"
    }
   },
   "outputs": [],
   "source": [
    "array[n] int y;"
   ]
  },
  {
   "cell_type": "markdown",
   "id": "a588f664",
   "metadata": {},
   "source": [
    "The second warning is about using the deprecated commenting symbol `#`,\n",
    "which should be replaced by `//`.\n",
    "\n",
    "The last warning is about the use of the deprecated `_log` suffix for\n",
    "probability density and mass functions. In this case the `_log` suffix should be\n",
    "replaced with `_lpdf`. For probability mass functions the suffix `_lpmf` is\n",
    "used.\n",
    "\n",
    "We can go and fix these issues manually or use the canonicalizer as outlined\n",
    "in the next section.\n",
    "\n",
    "## Using the canonicalizer\n",
    "\n",
    "The canonicalizer is available through the `canonicalize` argument of the\n",
    "`$format()` method of the `CmdStanModel` class. The arguments accepts\n",
    "`TRUE` and `FALSE` values, in which case all or none of the features of the\n",
    "canonicalizer are used. It can also accept a list of character vectors that\n",
    "determine which features of the canonicalizer to use.\n",
    "\n",
    "The canonincalizer in CmdStan 2.29.2 supports four features: `parentheses`,\n",
    "`braces`, `includes` and `deprecations`. The `parentheses` and `braces` features\n",
    "clean up the use of parentheses and braces, while `includes` will replace\n",
    "`#include` statements with the code from the included files. See the\n",
    "[canonicalizer section of the Stan User's Guide](https://mc-stan.org/docs/2_29/stan-users-guide/stanc-pretty-printing.html#canonicalizing)\n",
    "for more details.\n",
    "\n",
    "In this vignette we will be using the `deprecations` feature that replaces\n",
    "deprecated Stan model features with non-deprecated ones if possible."
   ]
  },
  {
   "cell_type": "code",
   "execution_count": 8,
   "id": "338d621b",
   "metadata": {
    "vscode": {
     "languageId": "r"
    }
   },
   "outputs": [
    {
     "name": "stdout",
     "output_type": "stream",
     "text": [
      "data {\n",
      "  int<lower=1> k;\n",
      "  int<lower=0> n;\n",
      "  matrix[n, k] X;\n",
      "  array[n] int y;\n",
      "}\n",
      "parameters {\n",
      "  vector[k] beta;\n",
      "  real alpha;\n",
      "}\n",
      "model {\n",
      "  // priors\n",
      "  target += std_normal_lpdf(beta);\n",
      "  alpha ~ std_normal();\n",
      "  \n",
      "  y ~ bernoulli_logit(X * beta + alpha);\n",
      "}\n",
      "\n",
      "\n"
     ]
    }
   ],
   "source": [
    "mod$format(canonicalize = list(\"deprecations\"))"
   ]
  },
  {
   "cell_type": "markdown",
   "id": "f2327de3",
   "metadata": {},
   "source": [
    "By default, the format function will print the resulting model code. We\n",
    "can see that all three issues were resolved. `y` is now defined using the\n",
    "new array keyword, the comment uses `//` and the `std_normal_log()` is replaced\n",
    "with `std_normal_lpdf()`.\n",
    "\n",
    "You can also use the `$format()` method to write the updated version of the\n",
    "model directly to the Stan model file. That can be enabled by setting\n",
    "`overwrite_file = TRUE`. The previous version of the file will automatically\n",
    "be backed up to a file with the `.stan.bak` suffix. If that is not desired or\n",
    "you are using a version system and making a backup is redundant,\n",
    "you can disable it by setting `backup = FALSE`."
   ]
  },
  {
   "cell_type": "code",
   "execution_count": 9,
   "id": "2347f6be",
   "metadata": {
    "vscode": {
     "languageId": "r"
    }
   },
   "outputs": [
    {
     "name": "stdout",
     "output_type": "stream",
     "text": [
      "data {\n",
      "  int<lower=1> k;\n",
      "  int<lower=0> n;\n",
      "  matrix[n, k] X;\n",
      "  array[n] int y;\n",
      "}\n",
      "parameters {\n",
      "  vector[k] beta;\n",
      "  real alpha;\n",
      "}\n",
      "model {\n",
      "  // priors\n",
      "  target += std_normal_lpdf(beta);\n",
      "  alpha ~ std_normal();\n",
      "  \n",
      "  y ~ bernoulli_logit(X * beta + alpha);\n",
      "}\n",
      "\n",
      "\n"
     ]
    }
   ],
   "source": [
    "mod$format(\n",
    "    canonicalize = list(\"deprecations\"),\n",
    "    overwrite_file = TRUE,\n",
    "    backup = FALSE\n",
    ")\n",
    "mod$print()"
   ]
  }
 ],
 "metadata": {
  "kernelspec": {
   "display_name": "R",
   "language": "R",
   "name": "ir"
  },
  "language_info": {
   "codemirror_mode": "r",
   "file_extension": ".r",
   "mimetype": "text/x-r-source",
   "name": "R",
   "pygments_lexer": "r",
   "version": "4.3.1"
  }
 },
 "nbformat": 4,
 "nbformat_minor": 5
}
