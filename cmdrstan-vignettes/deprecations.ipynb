{
 "cells": [
  {
   "cell_type": "markdown",
   "id": "5ef56548",
   "metadata": {},
   "source": [
    "---\n",
    "title: \"Handling deprecated Stan features with the canonicalizer in CmdStanR\"\n",
    "author: \"Rok Češnovar and Jonah Gabry\"\n",
    "output:\n",
    "  rmarkdown::html_vignette:\n",
    "    toc: true\n",
    "    toc_depth: 4\n",
    "params:\n",
    "  EVAL: !r identical(Sys.getenv(\"NOT_CRAN\"), \"true\")\n",
    "vignette: >\n",
    "  %\\VignetteIndexEntry{Handling deprecated Stan features with the canonicalizer in CmdStanR}\n",
    "  %\\VignetteEngine{knitr::rmarkdown}\n",
    "  %\\VignetteEncoding{UTF-8}\n",
    "---\n",
    "\n",
    "\n",
    "\n",
    "## Introduction\n",
    "\n",
    "This vignette demonstrates how to handle cases where your Stan program contains\n",
    "deprecated features resulting in deprecation warnings. In most cases, the\n",
    "Stan-to-C++ compiler can be used to automatically update your code to a\n",
    "non-deprecated feature that replaces the deprecated one. This vignette showcases\n",
    "how that automatic conversion can be done using CmdStanR.\n",
    "\n",
    "The automatic conversion of deprecated features to non-deprecated features is\n",
    "done using the so-called \"canonicalizer\", which is part of the Stan-to-C++\n",
    "compiler. We recommend using CmdStan 2.29.2 or later when using the\n",
    "canonicalizer and this vignette. The minimum CmdStanR version to run the\n",
    "code in the vignette is 0.5.0."
   ]
  },
  {
   "cell_type": "code",
   "execution_count": null,
   "id": "674253a7",
   "metadata": {},
   "outputs": [],
   "source": [
    "%%R\n",
    "library(cmdstanr)\n",
    "check_cmdstan_toolchain(fix = TRUE, quiet = TRUE)"
   ]
  },
  {
   "cell_type": "markdown",
   "id": "65352fb2",
   "metadata": {},
   "source": [
    "## Deprecation warnings\n",
    "\n",
    "The following logistic regression model uses several deprecated language\n",
    "features, resulting in several warnings during compilation."
   ]
  },
  {
   "cell_type": "code",
   "execution_count": null,
   "id": "2395098a",
   "metadata": {},
   "outputs": [],
   "source": [
    "%%R\n",
    "stan_file <- write_stan_file(\"\n",
    "data {\n",
    "  int<lower=1> k;\n",
    "  int<lower=0> n;\n",
    "  matrix[n, k] X;\n",
    "  int y[n];\n",
    "}\n",
    "parameters {\n",
    "  vector[k] beta;\n",
    "  real alpha;\n",
    "}\n",
    "model {\n",
    "  # priors\n",
    "  target += std_normal_log(beta);\n",
    "  alpha ~ std_normal();\n",
    "\n",
    "  y ~ bernoulli_logit(X * beta + alpha);\n",
    "}\n",
    "\")\n",
    "mod <- cmdstan_model(stan_file)"
   ]
  },
  {
   "cell_type": "markdown",
   "id": "f5cb976c",
   "metadata": {},
   "source": [
    "The first warning is about using the deprecated array syntax"
   ]
  },
  {
   "cell_type": "code",
   "execution_count": null,
   "id": "622fc715",
   "metadata": {},
   "outputs": [],
   "source": [
    "int y[n];"
   ]
  },
  {
   "cell_type": "markdown",
   "id": "7a608545",
   "metadata": {},
   "source": [
    "which should be replaced with the new syntax using the `array` keyword:"
   ]
  },
  {
   "cell_type": "code",
   "execution_count": null,
   "id": "c747b5d9",
   "metadata": {},
   "outputs": [],
   "source": [
    "array[n] int y;"
   ]
  },
  {
   "cell_type": "markdown",
   "id": "a588f664",
   "metadata": {},
   "source": [
    "The second warning is about using the deprecated commenting symbol `#`,\n",
    "which should be replaced by `//`.\n",
    "\n",
    "The last warning is about the use of the deprecated `_log` suffix for\n",
    "probability density and mass functions. In this case the `_log` suffix should be\n",
    "replaced with `_lpdf`. For probability mass functions the suffix `_lpmf` is\n",
    "used.\n",
    "\n",
    "We can go and fix these issues manually or use the canonicalizer as outlined\n",
    "in the next section.\n",
    "\n",
    "## Using the canonicalizer\n",
    "\n",
    "The canonicalizer is available through the `canonicalize` argument of the\n",
    "`$format()` method of the `CmdStanModel` class. The arguments accepts\n",
    "`TRUE` and `FALSE` values, in which case all or none of the features of the\n",
    "canonicalizer are used. It can also accept a list of character vectors that\n",
    "determine which features of the canonicalizer to use.\n",
    "\n",
    "The canonincalizer in CmdStan 2.29.2 supports four features: `parentheses`,\n",
    "`braces`, `includes` and `deprecations`. The `parentheses` and `braces` features\n",
    "clean up the use of parentheses and braces, while `includes` will replace\n",
    "`#include` statements with the code from the included files. See the\n",
    "[canonicalizer section of the Stan User's Guide](https://mc-stan.org/docs/2_29/stan-users-guide/stanc-pretty-printing.html#canonicalizing)\n",
    "for more details.\n",
    "\n",
    "In this vignette we will be using the `deprecations` feature that replaces\n",
    "deprecated Stan model features with non-deprecated ones if possible."
   ]
  },
  {
   "cell_type": "code",
   "execution_count": null,
   "id": "338d621b",
   "metadata": {},
   "outputs": [],
   "source": [
    "%%R\n",
    "mod$format(canonicalize = list(\"deprecations\"))"
   ]
  },
  {
   "cell_type": "markdown",
   "id": "f2327de3",
   "metadata": {},
   "source": [
    "By default, the format function will print the resulting model code. We\n",
    "can see that all three issues were resolved. `y` is now defined using the\n",
    "new array keyword, the comment uses `//` and the `std_normal_log()` is replaced\n",
    "with `std_normal_lpdf()`.\n",
    "\n",
    "You can also use the `$format()` method to write the updated version of the\n",
    "model directly to the Stan model file. That can be enabled by setting\n",
    "`overwrite_file = TRUE`. The previous version of the file will automatically\n",
    "be backed up to a file with the `.stan.bak` suffix. If that is not desired or\n",
    "you are using a version system and making a backup is redundant,\n",
    "you can disable it by setting `backup = FALSE`."
   ]
  },
  {
   "cell_type": "code",
   "execution_count": null,
   "id": "2347f6be",
   "metadata": {},
   "outputs": [],
   "source": [
    "%%R\n",
    "mod$format(\n",
    "    canonicalize = list(\"deprecations\"),\n",
    "    overwrite_file = TRUE,\n",
    "    backup = FALSE\n",
    ")\n",
    "mod$print()"
   ]
  }
 ],
 "metadata": {},
 "nbformat": 4,
 "nbformat_minor": 5
}
