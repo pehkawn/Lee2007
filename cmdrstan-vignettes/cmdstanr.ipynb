{
 "cells": [
  {
   "cell_type": "markdown",
   "id": "0ae13d04",
   "metadata": {},
   "source": [
    "# Getting started with CmdStanR\n",
    "\n",
    "Authors: Jonah Gabry and Rok Češnovar\n",
    "\n",
    "(Jupyter notebook edited by Pål K. B. Bjartan)\n"
   ]
  },
  {
   "cell_type": "markdown",
   "id": "e119342e",
   "metadata": {},
   "source": [
    "\n",
    "\n",
    "## Introduction\n",
    "\n",
    "CmdStanR (Command Stan R) is a lightweight interface to\n",
    "[Stan](https://mc-stan.org/) for R users that provides an alternative to the\n",
    "traditional [RStan](https://mc-stan.org/rstan/) interface. See the [*Comparison\n",
    "with RStan*](#comparison-with-rstan) section later in this vignette for more\n",
    "details on how the two interfaces differ.\n",
    "\n",
    "**CmdStanR is not on CRAN yet**, but the beta release can be installed by\n",
    "running the following command in R."
   ]
  },
  {
   "cell_type": "code",
   "execution_count": null,
   "id": "0477b6bd",
   "metadata": {
    "vscode": {
     "languageId": "r"
    }
   },
   "outputs": [],
   "source": [
    "# we recommend running this is a fresh R session or restarting your current session\n",
    "# install.packages(\"cmdstanr\", repos = c(\"https://mc-stan.org/r-packages/\", getOption(\"repos\")))"
   ]
  },
  {
   "cell_type": "markdown",
   "id": "78047012",
   "metadata": {},
   "source": [
    "CmdStanR (the **cmdstanr** R package) can now be loaded like any other R\n",
    "package. We'll also load the **bayesplot** and **posterior** packages to use\n",
    "later in examples."
   ]
  },
  {
   "cell_type": "code",
   "execution_count": 1,
   "id": "43b03070",
   "metadata": {
    "vscode": {
     "languageId": "r"
    }
   },
   "outputs": [
    {
     "name": "stderr",
     "output_type": "stream",
     "text": [
      "This is cmdstanr version 0.6.0\n",
      "\n",
      "- CmdStanR documentation and vignettes: mc-stan.org/cmdstanr\n",
      "\n",
      "- CmdStan path: /opt/cmdstan/cmdstan-2.32.2\n",
      "\n",
      "- CmdStan version: 2.32.2\n",
      "\n",
      "This is posterior version 1.4.1\n",
      "\n",
      "\n",
      "Attaching package: ‘posterior’\n",
      "\n",
      "\n",
      "The following objects are masked from ‘package:stats’:\n",
      "\n",
      "    mad, sd, var\n",
      "\n",
      "\n",
      "The following objects are masked from ‘package:base’:\n",
      "\n",
      "    %in%, match\n",
      "\n",
      "\n",
      "This is bayesplot version 1.10.0\n",
      "\n",
      "- Online documentation and vignettes at mc-stan.org/bayesplot\n",
      "\n",
      "- bayesplot theme set to bayesplot::theme_default()\n",
      "\n",
      "   * Does _not_ affect other ggplot2 plots\n",
      "\n",
      "   * See ?bayesplot_theme_set for details on theme setting\n",
      "\n",
      "\n",
      "Attaching package: ‘bayesplot’\n",
      "\n",
      "\n",
      "The following object is masked from ‘package:posterior’:\n",
      "\n",
      "    rhat\n",
      "\n",
      "\n"
     ]
    }
   ],
   "source": [
    "library(cmdstanr)\n",
    "library(posterior)\n",
    "library(bayesplot)\n",
    "color_scheme_set(\"brightblue\")"
   ]
  },
  {
   "cell_type": "markdown",
   "id": "57e48054",
   "metadata": {},
   "source": [
    "## Installing CmdStan\n",
    "\n",
    "CmdStanR requires a working installation of\n",
    "[CmdStan](https://mc-stan.org/users/interfaces/cmdstan.html), the shell\n",
    "interface to Stan. If you don't have CmdStan installed then CmdStanR can install\n",
    "it for you, assuming you have a suitable C++ toolchain. The requirements are\n",
    "described in the CmdStan Guide:\n",
    "\n",
    "* https://mc-stan.org/docs/cmdstan-guide/cmdstan-installation.html\n",
    "\n",
    "To double check that your toolchain is set up properly you can call\n",
    "the `check_cmdstan_toolchain()` function:"
   ]
  },
  {
   "cell_type": "code",
   "execution_count": 2,
   "id": "55971997",
   "metadata": {
    "vscode": {
     "languageId": "r"
    }
   },
   "outputs": [
    {
     "name": "stderr",
     "output_type": "stream",
     "text": [
      "The C++ toolchain required for CmdStan is setup properly!\n",
      "\n"
     ]
    }
   ],
   "source": [
    "check_cmdstan_toolchain()"
   ]
  },
  {
   "cell_type": "markdown",
   "id": "12d5c61f",
   "metadata": {},
   "source": [
    "If your toolchain is configured correctly then CmdStan can be installed by\n",
    "calling the\n",
    "[`install_cmdstan()`](https://mc-stan.org/cmdstanr/reference/install_cmdstan.html)\n",
    "function:"
   ]
  },
  {
   "cell_type": "code",
   "execution_count": null,
   "id": "05dafc2d",
   "metadata": {
    "vscode": {
     "languageId": "r"
    }
   },
   "outputs": [],
   "source": [
    "# install_cmdstan(cores = parallel::detectCores())"
   ]
  },
  {
   "cell_type": "markdown",
   "id": "507b2dba",
   "metadata": {},
   "source": [
    "Before CmdStanR can be used it needs to know where the CmdStan installation is\n",
    "located. When the package is loaded it tries to help automate this to avoid\n",
    "having to manually set the path every session:\n",
    "\n",
    "1. If the environment variable `\"CMDSTAN\"` exists at load time then its value\n",
    "will be automatically set as the default path to CmdStan for the R session. This\n",
    "is useful if your CmdStan installation is not located in the default directory\n",
    "that would have been used by `install_cmdstan()` (see #2).\n",
    "\n",
    "2. If no environment variable is found when loaded but any directory in the form\n",
    "`\".cmdstan/cmdstan-[version]\"`, for example `\".cmdstan/cmdstan-2.23.0\"`,\n",
    "exists in the user's home directory (`Sys.getenv(\"HOME\")`,\n",
    "*not* the current working directory) then the path to the CmdStan with the\n",
    "largest version number will be set as the path to CmdStan for the R session.\n",
    "This is the same as the default directory that `install_cmdstan()` uses to\n",
    "install the latest version of CmdStan, so if that's how you installed CmdStan\n",
    "you shouldn't need to manually set the path to CmdStan when loading CmdStanR.\n",
    "\n",
    "If neither of these applies (or you want to subsequently change the path) you\n",
    "can use the `set_cmdstan_path()` function:"
   ]
  },
  {
   "cell_type": "code",
   "execution_count": null,
   "id": "8f688a9a",
   "metadata": {
    "vscode": {
     "languageId": "r"
    }
   },
   "outputs": [],
   "source": [
    "# set_cmdstan_path(PATH_TO_CMDSTAN)"
   ]
  },
  {
   "cell_type": "markdown",
   "id": "62c383de",
   "metadata": {},
   "source": [
    "To check the path to the CmdStan installation and the CmdStan version number\n",
    "you can use `cmdstan_path()` and `cmdstan_version()`:"
   ]
  },
  {
   "cell_type": "code",
   "execution_count": 3,
   "id": "3367e4b8",
   "metadata": {
    "vscode": {
     "languageId": "r"
    }
   },
   "outputs": [
    {
     "data": {
      "text/html": [
       "'/opt/cmdstan/cmdstan-2.32.2'"
      ],
      "text/latex": [
       "'/opt/cmdstan/cmdstan-2.32.2'"
      ],
      "text/markdown": [
       "'/opt/cmdstan/cmdstan-2.32.2'"
      ],
      "text/plain": [
       "[1] \"/opt/cmdstan/cmdstan-2.32.2\""
      ]
     },
     "metadata": {},
     "output_type": "display_data"
    },
    {
     "data": {
      "text/html": [
       "'2.32.2'"
      ],
      "text/latex": [
       "'2.32.2'"
      ],
      "text/markdown": [
       "'2.32.2'"
      ],
      "text/plain": [
       "[1] \"2.32.2\""
      ]
     },
     "metadata": {},
     "output_type": "display_data"
    }
   ],
   "source": [
    "cmdstan_path()\n",
    "cmdstan_version()"
   ]
  },
  {
   "cell_type": "markdown",
   "id": "325b1606",
   "metadata": {},
   "source": [
    "## Compiling a model\n",
    "\n",
    "The `cmdstan_model()` function creates a new\n",
    "[`CmdStanModel`](https://mc-stan.org/cmdstanr/reference/CmdStanModel.html)\n",
    "object from a file containing a Stan program. Under the hood, CmdStan is called\n",
    "to translate a Stan program to C++ and create a compiled executable. Here we'll\n",
    "use the example Stan program that comes with the CmdStan installation:"
   ]
  },
  {
   "cell_type": "code",
   "execution_count": 8,
   "id": "135f075e",
   "metadata": {
    "vscode": {
     "languageId": "r"
    }
   },
   "outputs": [],
   "source": [
    "file <- file.path(cmdstan_path(), \"examples\", \"bernoulli\", \"bernoulli.stan\")\n",
    "mod <- cmdstan_model(file, force_recompile = TRUE)"
   ]
  },
  {
   "cell_type": "markdown",
   "id": "59acedb9",
   "metadata": {},
   "source": [
    "The object `mod` is an [R6](https://r6.r-lib.org/) reference object of class\n",
    "[`CmdStanModel`](https://mc-stan.org/cmdstanr/reference/CmdStanModel.html) and\n",
    "behaves similarly to R's reference class objects and those in object oriented\n",
    "programming languages. Methods are accessed using the `$` operator. This design\n",
    "choice allows for CmdStanR and\n",
    "[CmdStanPy](https://github.com/stan-dev/cmdstanpy) to provide a similar user\n",
    "experience and share many implementation details.\n",
    "\n",
    "The Stan program can be printed using the `$print()` method:"
   ]
  },
  {
   "cell_type": "code",
   "execution_count": 9,
   "id": "7dbdc236",
   "metadata": {
    "vscode": {
     "languageId": "r"
    }
   },
   "outputs": [
    {
     "name": "stdout",
     "output_type": "stream",
     "text": [
      "data {\n",
      "  int<lower=0> N;\n",
      "  array[N] int<lower=0,upper=1> y;\n",
      "}\n",
      "parameters {\n",
      "  real<lower=0,upper=1> theta;\n",
      "}\n",
      "model {\n",
      "  theta ~ beta(1,1);  // uniform prior on interval 0,1\n",
      "  y ~ bernoulli(theta);\n",
      "}\n"
     ]
    }
   ],
   "source": [
    "mod$print()"
   ]
  },
  {
   "cell_type": "markdown",
   "id": "0d3e7638",
   "metadata": {},
   "source": [
    "The path to the compiled executable is returned by the `$exe_file()`\n",
    "method:"
   ]
  },
  {
   "cell_type": "code",
   "execution_count": 10,
   "id": "4572b4b1",
   "metadata": {
    "vscode": {
     "languageId": "r"
    }
   },
   "outputs": [
    {
     "data": {
      "text/html": [
       "'/opt/cmdstan/cmdstan-2.32.2/examples/bernoulli/bernoulli'"
      ],
      "text/latex": [
       "'/opt/cmdstan/cmdstan-2.32.2/examples/bernoulli/bernoulli'"
      ],
      "text/markdown": [
       "'/opt/cmdstan/cmdstan-2.32.2/examples/bernoulli/bernoulli'"
      ],
      "text/plain": [
       "[1] \"/opt/cmdstan/cmdstan-2.32.2/examples/bernoulli/bernoulli\""
      ]
     },
     "metadata": {},
     "output_type": "display_data"
    }
   ],
   "source": [
    "mod$exe_file()"
   ]
  },
  {
   "cell_type": "markdown",
   "id": "544cd2dd",
   "metadata": {},
   "source": [
    "## Running MCMC\n",
    "\n",
    "The\n",
    "[`$sample()`](https://mc-stan.org/cmdstanr/reference/model-method-sample.html)\n",
    "method for\n",
    "[`CmdStanModel`](https://mc-stan.org/cmdstanr/reference/CmdStanModel.html)\n",
    "objects runs Stan's default MCMC algorithm. The `data` argument accepts a named\n",
    "list of R objects (like for RStan) or a path to a data file compatible with\n",
    "CmdStan (JSON or R dump)."
   ]
  },
  {
   "cell_type": "code",
   "execution_count": 11,
   "id": "e9af546e",
   "metadata": {
    "vscode": {
     "languageId": "r"
    }
   },
   "outputs": [
    {
     "name": "stdout",
     "output_type": "stream",
     "text": [
      "Running MCMC with 4 chains, at most 16 in parallel...\n",
      "\n",
      "Chain 1 Iteration:    1 / 2000 [  0%]  (Warmup) \n",
      "Chain 1 Iteration:  500 / 2000 [ 25%]  (Warmup) \n",
      "Chain 1 Iteration: 1000 / 2000 [ 50%]  (Warmup) \n",
      "Chain 1 Iteration: 1001 / 2000 [ 50%]  (Sampling) \n",
      "Chain 1 Iteration: 1500 / 2000 [ 75%]  (Sampling) \n",
      "Chain 1 Iteration: 2000 / 2000 [100%]  (Sampling) \n",
      "Chain 2 Iteration:    1 / 2000 [  0%]  (Warmup) \n",
      "Chain 2 Iteration:  500 / 2000 [ 25%]  (Warmup) \n",
      "Chain 2 Iteration: 1000 / 2000 [ 50%]  (Warmup) \n",
      "Chain 2 Iteration: 1001 / 2000 [ 50%]  (Sampling) \n",
      "Chain 2 Iteration: 1500 / 2000 [ 75%]  (Sampling) \n",
      "Chain 2 Iteration: 2000 / 2000 [100%]  (Sampling) \n",
      "Chain 3 Iteration:    1 / 2000 [  0%]  (Warmup) \n",
      "Chain 3 Iteration:  500 / 2000 [ 25%]  (Warmup) \n",
      "Chain 3 Iteration: 1000 / 2000 [ 50%]  (Warmup) \n",
      "Chain 3 Iteration: 1001 / 2000 [ 50%]  (Sampling) \n",
      "Chain 3 Iteration: 1500 / 2000 [ 75%]  (Sampling) \n",
      "Chain 3 Iteration: 2000 / 2000 [100%]  (Sampling) \n",
      "Chain 4 Iteration:    1 / 2000 [  0%]  (Warmup) \n",
      "Chain 4 Iteration:  500 / 2000 [ 25%]  (Warmup) \n",
      "Chain 4 Iteration: 1000 / 2000 [ 50%]  (Warmup) \n",
      "Chain 4 Iteration: 1001 / 2000 [ 50%]  (Sampling) \n",
      "Chain 4 Iteration: 1500 / 2000 [ 75%]  (Sampling) \n",
      "Chain 4 Iteration: 2000 / 2000 [100%]  (Sampling) \n",
      "Chain 1 finished in 0.0 seconds.\n",
      "Chain 2 finished in 0.0 seconds.\n",
      "Chain 3 finished in 0.0 seconds.\n",
      "Chain 4 finished in 0.0 seconds.\n",
      "\n",
      "All 4 chains finished successfully.\n",
      "Mean chain execution time: 0.0 seconds.\n",
      "Total execution time: 0.2 seconds.\n",
      "\n"
     ]
    }
   ],
   "source": [
    "# names correspond to the data block in the Stan program\n",
    "data_list <- list(N = 10, y = c(0,1,0,0,0,0,0,0,0,1))\n",
    "\n",
    "fit <- mod$sample(\n",
    "  data = data_list,\n",
    "  seed = 123,\n",
    "  chains = 4,\n",
    "  parallel_chains = parallel::detectCores(),\n",
    "  refresh = 500 # print update every 500 iters\n",
    ")"
   ]
  },
  {
   "cell_type": "markdown",
   "id": "6ce0b279",
   "metadata": {},
   "source": [
    "There are many more arguments that can be passed to the `$sample()` method.\n",
    "For details follow this link to its separate documentation page:\n",
    "\n",
    "* [`$sample()`](https://mc-stan.org/cmdstanr/reference/model-method-sample.html)\n",
    "\n",
    "The `$sample()` method creates [R6](https://r6.r-lib.org/) `CmdStanMCMC`\n",
    "objects, which have many associated methods. Below we will demonstrate some of\n",
    "the most important methods. For a full list, follow this link to the\n",
    "`CmdStanMCMC` documentation:\n",
    "\n",
    "* [`CmdStanMCMC`](https://mc-stan.org/cmdstanr/reference/CmdStanMCMC.html)\n",
    "\n",
    "### Posterior summary statistics\n",
    "\n",
    "#### Summaries from the posterior package\n",
    "\n",
    "The\n",
    "[`$summary()`](https://mc-stan.org/cmdstanr/reference/fit-method-summary.html)\n",
    "method calls `summarise_draws()` from the **posterior** package. The\n",
    "first argument specifies the variables to summarize and any arguments\n",
    "after that are passed on to `posterior::summarise_draws()` to specify\n",
    "which summaries to compute, whether to use multiple cores, etc."
   ]
  },
  {
   "cell_type": "code",
   "execution_count": 12,
   "id": "11df358e",
   "metadata": {
    "vscode": {
     "languageId": "r"
    }
   },
   "outputs": [
    {
     "data": {
      "text/html": [
       "<table class=\"dataframe\">\n",
       "<caption>A draws_summary: 2 × 10</caption>\n",
       "<thead>\n",
       "\t<tr><th scope=col>variable</th><th scope=col>mean</th><th scope=col>median</th><th scope=col>sd</th><th scope=col>mad</th><th scope=col>q5</th><th scope=col>q95</th><th scope=col>rhat</th><th scope=col>ess_bulk</th><th scope=col>ess_tail</th></tr>\n",
       "\t<tr><th scope=col>&lt;chr&gt;</th><th scope=col>&lt;dbl&gt;</th><th scope=col>&lt;dbl&gt;</th><th scope=col>&lt;dbl&gt;</th><th scope=col>&lt;dbl&gt;</th><th scope=col>&lt;dbl&gt;</th><th scope=col>&lt;dbl&gt;</th><th scope=col>&lt;dbl&gt;</th><th scope=col>&lt;dbl&gt;</th><th scope=col>&lt;dbl&gt;</th></tr>\n",
       "</thead>\n",
       "<tbody>\n",
       "\t<tr><td>lp__ </td><td>-7.2635780</td><td>-6.9883900</td><td>0.7041105</td><td>0.3303529</td><td>-8.76403150</td><td>-6.7503695</td><td>1.002142</td><td>1951.687</td><td>2046.295</td></tr>\n",
       "\t<tr><td>theta</td><td> 0.2499496</td><td> 0.2338195</td><td>0.1193248</td><td>0.1212166</td><td> 0.08211327</td><td> 0.4643312</td><td>1.002803</td><td>1552.214</td><td>1620.706</td></tr>\n",
       "</tbody>\n",
       "</table>\n"
      ],
      "text/latex": [
       "A draws\\_summary: 2 × 10\n",
       "\\begin{tabular}{llllllllll}\n",
       " variable & mean & median & sd & mad & q5 & q95 & rhat & ess\\_bulk & ess\\_tail\\\\\n",
       " <chr> & <dbl> & <dbl> & <dbl> & <dbl> & <dbl> & <dbl> & <dbl> & <dbl> & <dbl>\\\\\n",
       "\\hline\n",
       "\t lp\\_\\_  & -7.2635780 & -6.9883900 & 0.7041105 & 0.3303529 & -8.76403150 & -6.7503695 & 1.002142 & 1951.687 & 2046.295\\\\\n",
       "\t theta &  0.2499496 &  0.2338195 & 0.1193248 & 0.1212166 &  0.08211327 &  0.4643312 & 1.002803 & 1552.214 & 1620.706\\\\\n",
       "\\end{tabular}\n"
      ],
      "text/markdown": [
       "\n",
       "A draws_summary: 2 × 10\n",
       "\n",
       "| variable &lt;chr&gt; | mean &lt;dbl&gt; | median &lt;dbl&gt; | sd &lt;dbl&gt; | mad &lt;dbl&gt; | q5 &lt;dbl&gt; | q95 &lt;dbl&gt; | rhat &lt;dbl&gt; | ess_bulk &lt;dbl&gt; | ess_tail &lt;dbl&gt; |\n",
       "|---|---|---|---|---|---|---|---|---|---|\n",
       "| lp__  | -7.2635780 | -6.9883900 | 0.7041105 | 0.3303529 | -8.76403150 | -6.7503695 | 1.002142 | 1951.687 | 2046.295 |\n",
       "| theta |  0.2499496 |  0.2338195 | 0.1193248 | 0.1212166 |  0.08211327 |  0.4643312 | 1.002803 | 1552.214 | 1620.706 |\n",
       "\n"
      ],
      "text/plain": [
       "  variable mean       median     sd        mad       q5          q95       \n",
       "1 lp__     -7.2635780 -6.9883900 0.7041105 0.3303529 -8.76403150 -6.7503695\n",
       "2 theta     0.2499496  0.2338195 0.1193248 0.1212166  0.08211327  0.4643312\n",
       "  rhat     ess_bulk ess_tail\n",
       "1 1.002142 1951.687 2046.295\n",
       "2 1.002803 1552.214 1620.706"
      ]
     },
     "metadata": {},
     "output_type": "display_data"
    },
    {
     "data": {
      "text/html": [
       "<table class=\"dataframe\">\n",
       "<caption>A draws_summary: 2 × 3</caption>\n",
       "<thead>\n",
       "\t<tr><th scope=col>variable</th><th scope=col>mean</th><th scope=col>sd</th></tr>\n",
       "\t<tr><th scope=col>&lt;chr&gt;</th><th scope=col>&lt;dbl&gt;</th><th scope=col>&lt;dbl&gt;</th></tr>\n",
       "</thead>\n",
       "<tbody>\n",
       "\t<tr><td>theta</td><td> 0.2499496</td><td>0.1193248</td></tr>\n",
       "\t<tr><td>lp__ </td><td>-7.2635780</td><td>0.7041105</td></tr>\n",
       "</tbody>\n",
       "</table>\n"
      ],
      "text/latex": [
       "A draws\\_summary: 2 × 3\n",
       "\\begin{tabular}{lll}\n",
       " variable & mean & sd\\\\\n",
       " <chr> & <dbl> & <dbl>\\\\\n",
       "\\hline\n",
       "\t theta &  0.2499496 & 0.1193248\\\\\n",
       "\t lp\\_\\_  & -7.2635780 & 0.7041105\\\\\n",
       "\\end{tabular}\n"
      ],
      "text/markdown": [
       "\n",
       "A draws_summary: 2 × 3\n",
       "\n",
       "| variable &lt;chr&gt; | mean &lt;dbl&gt; | sd &lt;dbl&gt; |\n",
       "|---|---|---|\n",
       "| theta |  0.2499496 | 0.1193248 |\n",
       "| lp__  | -7.2635780 | 0.7041105 |\n",
       "\n"
      ],
      "text/plain": [
       "  variable mean       sd       \n",
       "1 theta     0.2499496 0.1193248\n",
       "2 lp__     -7.2635780 0.7041105"
      ]
     },
     "metadata": {},
     "output_type": "display_data"
    },
    {
     "data": {
      "text/html": [
       "<table class=\"dataframe\">\n",
       "<caption>A draws_summary: 1 × 2</caption>\n",
       "<thead>\n",
       "\t<tr><th scope=col>variable</th><th scope=col>pr_lt_half</th></tr>\n",
       "\t<tr><th scope=col>&lt;chr&gt;</th><th scope=col>&lt;dbl&gt;</th></tr>\n",
       "</thead>\n",
       "<tbody>\n",
       "\t<tr><td>theta</td><td>0.9685</td></tr>\n",
       "</tbody>\n",
       "</table>\n"
      ],
      "text/latex": [
       "A draws\\_summary: 1 × 2\n",
       "\\begin{tabular}{ll}\n",
       " variable & pr\\_lt\\_half\\\\\n",
       " <chr> & <dbl>\\\\\n",
       "\\hline\n",
       "\t theta & 0.9685\\\\\n",
       "\\end{tabular}\n"
      ],
      "text/markdown": [
       "\n",
       "A draws_summary: 1 × 2\n",
       "\n",
       "| variable &lt;chr&gt; | pr_lt_half &lt;dbl&gt; |\n",
       "|---|---|\n",
       "| theta | 0.9685 |\n",
       "\n"
      ],
      "text/plain": [
       "  variable pr_lt_half\n",
       "1 theta    0.9685    "
      ]
     },
     "metadata": {},
     "output_type": "display_data"
    },
    {
     "data": {
      "text/html": [
       "<table class=\"dataframe\">\n",
       "<caption>A draws_summary: 2 × 9</caption>\n",
       "<thead>\n",
       "\t<tr><th scope=col>variable</th><th scope=col>mean</th><th scope=col>median</th><th scope=col>sd</th><th scope=col>mad</th><th scope=col>q5</th><th scope=col>q95</th><th scope=col>q2.75</th><th scope=col>q97.5</th></tr>\n",
       "\t<tr><th scope=col>&lt;chr&gt;</th><th scope=col>&lt;dbl&gt;</th><th scope=col>&lt;dbl&gt;</th><th scope=col>&lt;dbl&gt;</th><th scope=col>&lt;dbl&gt;</th><th scope=col>&lt;dbl&gt;</th><th scope=col>&lt;dbl&gt;</th><th scope=col>&lt;dbl&gt;</th><th scope=col>&lt;dbl&gt;</th></tr>\n",
       "</thead>\n",
       "<tbody>\n",
       "\t<tr><td>lp__ </td><td>-7.2635780</td><td>-6.9883900</td><td>0.7041105</td><td>0.3303529</td><td>-8.76403150</td><td>-6.7503695</td><td>-9.23174112</td><td>-6.7484800</td></tr>\n",
       "\t<tr><td>theta</td><td> 0.2499496</td><td> 0.2338195</td><td>0.1193248</td><td>0.1212166</td><td> 0.08211327</td><td> 0.4643312</td><td> 0.06529373</td><td> 0.5225594</td></tr>\n",
       "</tbody>\n",
       "</table>\n"
      ],
      "text/latex": [
       "A draws\\_summary: 2 × 9\n",
       "\\begin{tabular}{lllllllll}\n",
       " variable & mean & median & sd & mad & q5 & q95 & q2.75 & q97.5\\\\\n",
       " <chr> & <dbl> & <dbl> & <dbl> & <dbl> & <dbl> & <dbl> & <dbl> & <dbl>\\\\\n",
       "\\hline\n",
       "\t lp\\_\\_  & -7.2635780 & -6.9883900 & 0.7041105 & 0.3303529 & -8.76403150 & -6.7503695 & -9.23174112 & -6.7484800\\\\\n",
       "\t theta &  0.2499496 &  0.2338195 & 0.1193248 & 0.1212166 &  0.08211327 &  0.4643312 &  0.06529373 &  0.5225594\\\\\n",
       "\\end{tabular}\n"
      ],
      "text/markdown": [
       "\n",
       "A draws_summary: 2 × 9\n",
       "\n",
       "| variable &lt;chr&gt; | mean &lt;dbl&gt; | median &lt;dbl&gt; | sd &lt;dbl&gt; | mad &lt;dbl&gt; | q5 &lt;dbl&gt; | q95 &lt;dbl&gt; | q2.75 &lt;dbl&gt; | q97.5 &lt;dbl&gt; |\n",
       "|---|---|---|---|---|---|---|---|---|\n",
       "| lp__  | -7.2635780 | -6.9883900 | 0.7041105 | 0.3303529 | -8.76403150 | -6.7503695 | -9.23174112 | -6.7484800 |\n",
       "| theta |  0.2499496 |  0.2338195 | 0.1193248 | 0.1212166 |  0.08211327 |  0.4643312 |  0.06529373 |  0.5225594 |\n",
       "\n"
      ],
      "text/plain": [
       "  variable mean       median     sd        mad       q5          q95       \n",
       "1 lp__     -7.2635780 -6.9883900 0.7041105 0.3303529 -8.76403150 -6.7503695\n",
       "2 theta     0.2499496  0.2338195 0.1193248 0.1212166  0.08211327  0.4643312\n",
       "  q2.75       q97.5     \n",
       "1 -9.23174112 -6.7484800\n",
       "2  0.06529373  0.5225594"
      ]
     },
     "metadata": {},
     "output_type": "display_data"
    }
   ],
   "source": [
    "\n",
    "fit$summary()\n",
    "fit$summary(variables = c(\"theta\", \"lp__\"), \"mean\", \"sd\")\n",
    "\n",
    "# use a formula to summarize arbitrary functions, e.g. Pr(theta <= 0.5)\n",
    "fit$summary(\"theta\", pr_lt_half = ~ mean(. <= 0.5))\n",
    "\n",
    "# summarise all variables with default and additional summary measures\n",
    "fit$summary(\n",
    "  variables = NULL,\n",
    "  posterior::default_summary_measures(),\n",
    "  extra_quantiles = ~posterior::quantile2(., probs = c(.0275, .975))\n",
    ")"
   ]
  },
  {
   "cell_type": "markdown",
   "id": "d6717376",
   "metadata": {},
   "source": [
    "#### CmdStan's stansummary utility\n",
    "\n",
    "CmdStan itself provides a `stansummary` utility that can be called using the\n",
    "`$cmdstan_summary()` method. This method will print summaries but won't return\n",
    "anything."
   ]
  },
  {
   "cell_type": "code",
   "execution_count": 13,
   "id": "6c306fab",
   "metadata": {
    "vscode": {
     "languageId": "r"
    }
   },
   "outputs": [
    {
     "name": "stdout",
     "output_type": "stream",
     "text": [
      "Inference for Stan model: bernoulli_model\n",
      "4 chains: each with iter=(1000,1000,1000,1000); warmup=(0,0,0,0); thin=(1,1,1,1); 4000 iterations saved.\n",
      "\n",
      "Warmup took (0.0010, 0.0010, 0.0010, 0.0010) seconds, 0.0040 seconds total\n",
      "Sampling took (0.0040, 0.0040, 0.0040, 0.0040) seconds, 0.016 seconds total\n",
      "\n",
      "                Mean     MCSE  StdDev     5%   50%   95%  N_Eff  N_Eff/s    R_hat\n",
      "\n",
      "lp__            -7.3  1.7e-02    0.70   -8.8  -7.0  -6.8   1672  1.0e+05      1.0\n",
      "accept_stat__   0.92  2.1e-03    0.13   0.66  0.97   1.0   3488  2.2e+05  1.0e+00\n",
      "stepsize__      0.97  6.2e-02   0.088   0.84   1.0   1.1    2.0  1.3e+02  2.7e+13\n",
      "treedepth__      1.4  8.4e-03    0.49    1.0   1.0   2.0   3412  2.1e+05  1.0e+00\n",
      "n_leapfrog__     2.6  3.4e-02     1.3    1.0   3.0   3.0   1488  9.3e+04  1.0e+00\n",
      "divergent__     0.00      nan    0.00   0.00  0.00  0.00    nan      nan      nan\n",
      "energy__         7.8  2.5e-02     1.0    6.8   7.5   9.8   1664  1.0e+05  1.0e+00\n",
      "\n",
      "theta           0.25  3.0e-03    0.12  0.082  0.23  0.46   1618  1.0e+05      1.0\n",
      "\n",
      "Samples were drawn using hmc with nuts.\n",
      "For each parameter, N_Eff is a crude measure of effective sample size,\n",
      "and R_hat is the potential scale reduction factor on split chains (at \n",
      "convergence, R_hat=1).\n"
     ]
    }
   ],
   "source": [
    "fit$cmdstan_summary()"
   ]
  },
  {
   "cell_type": "markdown",
   "id": "c3d674f8",
   "metadata": {},
   "source": [
    "\n",
    "### Posterior draws\n",
    "\n",
    "#### Extracting draws\n",
    "\n",
    "The [`$draws()`](https://mc-stan.org/cmdstanr/reference/fit-method-draws.html)\n",
    "method can be used to extract the posterior draws in formats provided by the\n",
    "[**posterior**](https://mc-stan.org/posterior/) package. Here we demonstrate\n",
    "only the `draws_array` and `draws_df` formats, but the **posterior** package\n",
    "supports other useful formats as well."
   ]
  },
  {
   "cell_type": "code",
   "execution_count": 14,
   "id": "6262c806",
   "metadata": {
    "vscode": {
     "languageId": "r"
    }
   },
   "outputs": [
    {
     "name": "stdout",
     "output_type": "stream",
     "text": [
      " 'draws_array' num [1:1000, 1:4, 1:2] -9.66 -7.58 -6.75 -7 -7.49 ...\n",
      " - attr(*, \"dimnames\")=List of 3\n",
      "  ..$ iteration: chr [1:1000] \"1\" \"2\" \"3\" \"4\" ...\n",
      "  ..$ chain    : chr [1:4] \"1\" \"2\" \"3\" \"4\"\n",
      "  ..$ variable : chr [1:2] \"lp__\" \"theta\"\n",
      "draws_df [4,000 × 5] (S3: draws_df/draws/tbl_df/tbl/data.frame)\n",
      " $ lp__      : num [1:4000] -9.66 -7.58 -6.75 -7 -7.49 ...\n",
      " $ theta     : num [1:4000] 0.593 0.429 0.254 0.169 0.418 ...\n",
      " $ .chain    : int [1:4000] 1 1 1 1 1 1 1 1 1 1 ...\n",
      " $ .iteration: int [1:4000] 1 2 3 4 5 6 7 8 9 10 ...\n",
      " $ .draw     : int [1:4000] 1 2 3 4 5 6 7 8 9 10 ...\n",
      "# A draws_df: 1000 iterations, 4 chains, and 2 variables\n",
      "   lp__ theta\n",
      "1  -9.7  0.59\n",
      "2  -7.6  0.43\n",
      "3  -6.7  0.25\n",
      "4  -7.0  0.17\n",
      "5  -7.5  0.42\n",
      "6  -9.2  0.56\n",
      "7  -7.0  0.17\n",
      "8  -6.8  0.24\n",
      "9  -7.8  0.46\n",
      "10 -7.8  0.46\n",
      "# ... with 3990 more draws\n",
      "# ... hidden reserved variables {'.chain', '.iteration', '.draw'}\n"
     ]
    }
   ],
   "source": [
    "\n",
    "# default is a 3-D draws_array object from the posterior package\n",
    "# iterations x chains x variables\n",
    "draws_arr <- fit$draws() # or format=\"array\"\n",
    "str(draws_arr)\n",
    "\n",
    "# draws x variables data frame\n",
    "draws_df <- fit$draws(format = \"df\")\n",
    "str(draws_df)\n",
    "print(draws_df)"
   ]
  },
  {
   "cell_type": "markdown",
   "id": "e88e3c8d",
   "metadata": {},
   "source": [
    "To convert an existing draws object to a different format use the\n",
    "`posterior::as_draws_*()` functions."
   ]
  },
  {
   "cell_type": "code",
   "execution_count": 15,
   "id": "c0f882ae",
   "metadata": {
    "vscode": {
     "languageId": "r"
    }
   },
   "outputs": [
    {
     "data": {
      "text/html": [
       "TRUE"
      ],
      "text/latex": [
       "TRUE"
      ],
      "text/markdown": [
       "TRUE"
      ],
      "text/plain": [
       "[1] TRUE"
      ]
     },
     "metadata": {},
     "output_type": "display_data"
    }
   ],
   "source": [
    "\n",
    "# this should be identical to draws_df created via draws(format = \"df\")\n",
    "draws_df_2 <- as_draws_df(draws_arr)\n",
    "identical(draws_df, draws_df_2)"
   ]
  },
  {
   "cell_type": "markdown",
   "id": "a1abd1d9",
   "metadata": {},
   "source": [
    "In general, converting to a different draws format in this way will be slower\n",
    "than just setting the appropriate format initially in the call to the `$draws()`\n",
    "method, but in most cases the speed difference will be minor.\n",
    "\n",
    "#### Plotting draws\n",
    "\n",
    "Plotting posterior distributions is as easy as passing the object returned by\n",
    "the `$draws()` method directly to plotting functions in our\n",
    "[**bayesplot**](https://mc-stan.org/bayesplot/) package."
   ]
  },
  {
   "cell_type": "code",
   "execution_count": 16,
   "id": "cada4537",
   "metadata": {
    "vscode": {
     "languageId": "r"
    }
   },
   "outputs": [
    {
     "name": "stderr",
     "output_type": "stream",
     "text": [
      "\u001b[1m\u001b[22m`stat_bin()` using `bins = 30`. Pick better value with `binwidth`.\n"
     ]
    },
    {
     "data": {
      "image/png": "[encoded data removed]",
      "text/plain": [
       "plot without title"
      ]
     },
     "metadata": {
      "image/png": {
       "height": 420,
       "width": 420
      }
     },
     "output_type": "display_data"
    }
   ],
   "source": [
    "mcmc_hist(fit$draws(\"theta\"))"
   ]
  },
  {
   "cell_type": "markdown",
   "id": "e46beda4",
   "metadata": {},
   "source": [
    "### Sampler diagnostics\n",
    "\n",
    "#### Extracting diagnostic values for each iteration and chain\n",
    "\n",
    "The\n",
    "[`$sampler_diagnostics()`](https://mc-stan.org/cmdstanr/reference/fit-method-sampler_diagnostics.html)\n",
    "method extracts the values of the sampler parameters (`treedepth__`,\n",
    "`divergent__`, etc.) in formats supported by the **posterior** package. The\n",
    "default is as a 3-D array (iteration x chain x variable)."
   ]
  },
  {
   "cell_type": "code",
   "execution_count": 17,
   "id": "997162e5",
   "metadata": {
    "vscode": {
     "languageId": "r"
    }
   },
   "outputs": [
    {
     "name": "stdout",
     "output_type": "stream",
     "text": [
      " 'draws_array' num [1:1000, 1:4, 1:6] 1 1 1 2 1 1 1 1 2 1 ...\n",
      " - attr(*, \"dimnames\")=List of 3\n",
      "  ..$ iteration: chr [1:1000] \"1\" \"2\" \"3\" \"4\" ...\n",
      "  ..$ chain    : chr [1:4] \"1\" \"2\" \"3\" \"4\"\n",
      "  ..$ variable : chr [1:6] \"treedepth__\" \"divergent__\" \"energy__\" \"accept_stat__\" ...\n",
      "draws_df [4,000 × 9] (S3: draws_df/draws/tbl_df/tbl/data.frame)\n",
      " $ treedepth__  : num [1:4000] 1 1 1 2 1 1 1 1 2 1 ...\n",
      " $ divergent__  : num [1:4000] 0 0 0 0 0 0 0 0 0 0 ...\n",
      " $ energy__     : num [1:4000] 10.27 9.02 7.4 8.02 8.07 ...\n",
      " $ accept_stat__: num [1:4000] 0.538 1 1 0.772 0.872 ...\n",
      " $ stepsize__   : num [1:4000] 1.05 1.05 1.05 1.05 1.05 ...\n",
      " $ n_leapfrog__ : num [1:4000] 3 1 3 3 3 1 3 3 3 1 ...\n",
      " $ .chain       : int [1:4000] 1 1 1 1 1 1 1 1 1 1 ...\n",
      " $ .iteration   : int [1:4000] 1 2 3 4 5 6 7 8 9 10 ...\n",
      " $ .draw        : int [1:4000] 1 2 3 4 5 6 7 8 9 10 ...\n"
     ]
    }
   ],
   "source": [
    "# this is a draws_array object from the posterior package\n",
    "str(fit$sampler_diagnostics())\n",
    "\n",
    "# this is a draws_df object from the posterior package\n",
    "str(fit$sampler_diagnostics(format = \"df\"))"
   ]
  },
  {
   "cell_type": "markdown",
   "id": "58fb69d7",
   "metadata": {},
   "source": [
    "#### Sampler diagnostic warnings and summaries\n",
    "\n",
    "The `$diagnostic_summary()` method will display any sampler diagnostic warnings and return a summary of diagnostics for each chain."
   ]
  },
  {
   "cell_type": "code",
   "execution_count": 18,
   "id": "2dc7fef2",
   "metadata": {
    "vscode": {
     "languageId": "r"
    }
   },
   "outputs": [
    {
     "data": {
      "text/html": [
       "<dl>\n",
       "\t<dt>$num_divergent</dt>\n",
       "\t\t<dd><style>\n",
       ".list-inline {list-style: none; margin:0; padding: 0}\n",
       ".list-inline>li {display: inline-block}\n",
       ".list-inline>li:not(:last-child)::after {content: \"\\00b7\"; padding: 0 .5ex}\n",
       "</style>\n",
       "<ol class=list-inline><li>0</li><li>0</li><li>0</li><li>0</li></ol>\n",
       "</dd>\n",
       "\t<dt>$num_max_treedepth</dt>\n",
       "\t\t<dd><style>\n",
       ".list-inline {list-style: none; margin:0; padding: 0}\n",
       ".list-inline>li {display: inline-block}\n",
       ".list-inline>li:not(:last-child)::after {content: \"\\00b7\"; padding: 0 .5ex}\n",
       "</style>\n",
       "<ol class=list-inline><li>0</li><li>0</li><li>0</li><li>0</li></ol>\n",
       "</dd>\n",
       "\t<dt>$ebfmi</dt>\n",
       "\t\t<dd><style>\n",
       ".list-inline {list-style: none; margin:0; padding: 0}\n",
       ".list-inline>li {display: inline-block}\n",
       ".list-inline>li:not(:last-child)::after {content: \"\\00b7\"; padding: 0 .5ex}\n",
       "</style>\n",
       "<ol class=list-inline><li>1.04390844586953</li><li>1.13260500996866</li><li>1.07861539188982</li><li>1.31736742717109</li></ol>\n",
       "</dd>\n",
       "</dl>\n"
      ],
      "text/latex": [
       "\\begin{description}\n",
       "\\item[\\$num\\_divergent] \\begin{enumerate*}\n",
       "\\item 0\n",
       "\\item 0\n",
       "\\item 0\n",
       "\\item 0\n",
       "\\end{enumerate*}\n",
       "\n",
       "\\item[\\$num\\_max\\_treedepth] \\begin{enumerate*}\n",
       "\\item 0\n",
       "\\item 0\n",
       "\\item 0\n",
       "\\item 0\n",
       "\\end{enumerate*}\n",
       "\n",
       "\\item[\\$ebfmi] \\begin{enumerate*}\n",
       "\\item 1.04390844586953\n",
       "\\item 1.13260500996866\n",
       "\\item 1.07861539188982\n",
       "\\item 1.31736742717109\n",
       "\\end{enumerate*}\n",
       "\n",
       "\\end{description}\n"
      ],
      "text/markdown": [
       "$num_divergent\n",
       ":   1. 0\n",
       "2. 0\n",
       "3. 0\n",
       "4. 0\n",
       "\n",
       "\n",
       "\n",
       "$num_max_treedepth\n",
       ":   1. 0\n",
       "2. 0\n",
       "3. 0\n",
       "4. 0\n",
       "\n",
       "\n",
       "\n",
       "$ebfmi\n",
       ":   1. 1.04390844586953\n",
       "2. 1.13260500996866\n",
       "3. 1.07861539188982\n",
       "4. 1.31736742717109\n",
       "\n",
       "\n",
       "\n",
       "\n",
       "\n"
      ],
      "text/plain": [
       "$num_divergent\n",
       "[1] 0 0 0 0\n",
       "\n",
       "$num_max_treedepth\n",
       "[1] 0 0 0 0\n",
       "\n",
       "$ebfmi\n",
       "[1] 1.043908 1.132605 1.078615 1.317367\n"
      ]
     },
     "metadata": {},
     "output_type": "display_data"
    }
   ],
   "source": [
    "fit$diagnostic_summary()"
   ]
  },
  {
   "cell_type": "markdown",
   "id": "627e0578",
   "metadata": {},
   "source": [
    "We see the number of divergences for each of the four chains, the number\n",
    "of times the maximum treedepth was hit for each chain, and the E-BFMI\n",
    "for each chain.\n",
    "\n",
    "In this case there were no warnings, so in order to demonstrate the warning\n",
    "messages we'll use one of the CmdStanR example models that suffers from\n",
    "divergences."
   ]
  },
  {
   "cell_type": "code",
   "execution_count": 19,
   "id": "e4dceef2",
   "metadata": {
    "vscode": {
     "languageId": "r"
    }
   },
   "outputs": [
    {
     "name": "stderr",
     "output_type": "stream",
     "text": [
      "Warning: 427 of 4000 (11.0%) transitions ended with a divergence.\n",
      "See https://mc-stan.org/misc/warnings for details.\n",
      "\n",
      "\n"
     ]
    }
   ],
   "source": [
    "fit_with_warning <- cmdstanr_example(\"schools\")"
   ]
  },
  {
   "cell_type": "markdown",
   "id": "85793425",
   "metadata": {},
   "source": [
    "After fitting there is a warning about divergences. We can also regenerate this warning message later using `fit$diagnostic_summary()`."
   ]
  },
  {
   "cell_type": "code",
   "execution_count": 20,
   "id": "c242c26e",
   "metadata": {
    "vscode": {
     "languageId": "r"
    }
   },
   "outputs": [
    {
     "name": "stderr",
     "output_type": "stream",
     "text": [
      "Warning: 427 of 4000 (11.0%) transitions ended with a divergence.\n",
      "See https://mc-stan.org/misc/warnings for details.\n",
      "\n",
      "\n"
     ]
    },
    {
     "name": "stdout",
     "output_type": "stream",
     "text": [
      "$num_divergent\n",
      "[1]  21 371  11  24\n",
      "\n",
      "$num_max_treedepth\n",
      "[1] 0 0 0 0\n",
      "\n",
      "$ebfmi\n",
      "[1] 0.3559253 0.2387769 0.4147694 0.3799135\n",
      "\n"
     ]
    },
    {
     "data": {
      "text/html": [
       "427"
      ],
      "text/latex": [
       "427"
      ],
      "text/markdown": [
       "427"
      ],
      "text/plain": [
       "[1] 427"
      ]
     },
     "metadata": {},
     "output_type": "display_data"
    }
   ],
   "source": [
    "diagnostics <- fit_with_warning$diagnostic_summary()\n",
    "print(diagnostics)\n",
    "\n",
    "# number of divergences reported in warning is the sum of the per chain values\n",
    "sum(diagnostics$num_divergent)"
   ]
  },
  {
   "cell_type": "markdown",
   "id": "4748e881",
   "metadata": {},
   "source": [
    "#### CmdStan's diagnose utility\n",
    "\n",
    "CmdStan itself provides a `diagnose` utility that can be called using\n",
    "the `$cmdstan_diagnose()` method. This method will print warnings but won't return anything.\n",
    "\n",
    "\n",
    "### Create a `stanfit` object\n",
    "\n",
    "If you have RStan installed then it is also possible to create a `stanfit`\n",
    "object from the csv output files written by CmdStan. This can be done by using\n",
    "`rstan::read_stan_csv()` in combination with the `$output_files()` method of the\n",
    "`CmdStanMCMC` object. This is only needed if you want to fit a model with\n",
    "CmdStanR but already have a lot of post-processing code that assumes a `stanfit`\n",
    "object. Otherwise we recommend using the post-processing functionality provided\n",
    "by CmdStanR itself."
   ]
  },
  {
   "cell_type": "code",
   "execution_count": 22,
   "id": "7a7dad1c",
   "metadata": {
    "vscode": {
     "languageId": "r"
    }
   },
   "outputs": [
    {
     "data": {
      "text/plain": [
       "Inference for Stan model: bernoulli-202308260026-1-343229.\n",
       "4 chains, each with iter=2000; warmup=1000; thin=1; \n",
       "post-warmup draws per chain=1000, total post-warmup draws=4000.\n",
       "\n",
       "       mean se_mean   sd  2.5%   25%   50%   75% 97.5% n_eff Rhat\n",
       "theta  0.25    0.00 0.12  0.06  0.16  0.23  0.33  0.52  1616    1\n",
       "lp__  -7.26    0.02 0.70 -9.31 -7.44 -6.99 -6.80 -6.75  1671    1\n",
       "\n",
       "Samples were drawn using NUTS(diag_e) at lø. aug. 26 kl. 00.26 +0200 2023.\n",
       "For each parameter, n_eff is a crude measure of effective sample size,\n",
       "and Rhat is the potential scale reduction factor on split chains (at \n",
       "convergence, Rhat=1)."
      ]
     },
     "metadata": {},
     "output_type": "display_data"
    }
   ],
   "source": [
    "stanfit <- rstan::read_stan_csv(fit$output_files())\n",
    "stanfit"
   ]
  },
  {
   "cell_type": "markdown",
   "id": "ec717afd",
   "metadata": {},
   "source": [
    "## Running optimization and variational inference\n",
    "\n",
    "CmdStanR also supports running Stan's optimization algorithms and its algorithms\n",
    "for variational approximation of full Bayesian inference. These are run via the\n",
    "`$optimize()` and `$variational()` methods, which are called in a similar way to\n",
    "the `$sample()` method demonstrated above.\n",
    "\n",
    "### Optimization\n",
    "\n",
    "We can find the (penalized) maximum likelihood estimate (MLE) using [`$optimize()`](https://mc-stan.org/cmdstanr/reference/model-method-optimize.html)."
   ]
  },
  {
   "cell_type": "code",
   "execution_count": 23,
   "id": "db3e5136",
   "metadata": {
    "vscode": {
     "languageId": "r"
    }
   },
   "outputs": [
    {
     "name": "stdout",
     "output_type": "stream",
     "text": [
      "Initial log joint probability = -9.51104 \n",
      "    Iter      log prob        ||dx||      ||grad||       alpha      alpha0  # evals  Notes  \n",
      "       6      -5.00402   0.000103557   2.55661e-07           1           1        9    \n",
      "Optimization terminated normally:  \n",
      "  Convergence detected: relative gradient magnitude is below tolerance \n",
      "Finished in  0.2 seconds.\n"
     ]
    },
    {
     "data": {
      "text/html": [
       "<table class=\"dataframe\">\n",
       "<caption>A draws_summary: 2 × 2</caption>\n",
       "<thead>\n",
       "\t<tr><th scope=col>variable</th><th scope=col>estimate</th></tr>\n",
       "\t<tr><th scope=col>&lt;chr&gt;</th><th scope=col>&lt;dbl&gt;</th></tr>\n",
       "</thead>\n",
       "<tbody>\n",
       "\t<tr><td>lp__ </td><td>-5.00402</td></tr>\n",
       "\t<tr><td>theta</td><td> 0.20000</td></tr>\n",
       "</tbody>\n",
       "</table>\n"
      ],
      "text/latex": [
       "A draws\\_summary: 2 × 2\n",
       "\\begin{tabular}{ll}\n",
       " variable & estimate\\\\\n",
       " <chr> & <dbl>\\\\\n",
       "\\hline\n",
       "\t lp\\_\\_  & -5.00402\\\\\n",
       "\t theta &  0.20000\\\\\n",
       "\\end{tabular}\n"
      ],
      "text/markdown": [
       "\n",
       "A draws_summary: 2 × 2\n",
       "\n",
       "| variable &lt;chr&gt; | estimate &lt;dbl&gt; |\n",
       "|---|---|\n",
       "| lp__  | -5.00402 |\n",
       "| theta |  0.20000 |\n",
       "\n"
      ],
      "text/plain": [
       "  variable estimate\n",
       "1 lp__     -5.00402\n",
       "2 theta     0.20000"
      ]
     },
     "metadata": {},
     "output_type": "display_data"
    },
    {
     "data": {
      "text/html": [
       "<strong>theta:</strong> 0.2"
      ],
      "text/latex": [
       "\\textbf{theta:} 0.2"
      ],
      "text/markdown": [
       "**theta:** 0.2"
      ],
      "text/plain": [
       "theta \n",
       "  0.2 "
      ]
     },
     "metadata": {},
     "output_type": "display_data"
    }
   ],
   "source": [
    "fit_mle <- mod$optimize(data = data_list, seed = 123)\n",
    "fit_mle$summary() # includes lp__ (log prob calculated by Stan program)\n",
    "fit_mle$mle(\"theta\")"
   ]
  },
  {
   "cell_type": "markdown",
   "id": "638c346a",
   "metadata": {},
   "source": [
    "Here's a plot comparing the penalized MLE to the posterior distribution of\n",
    "`theta`."
   ]
  },
  {
   "cell_type": "code",
   "execution_count": 24,
   "id": "c1da7a72",
   "metadata": {
    "vscode": {
     "languageId": "r"
    }
   },
   "outputs": [
    {
     "name": "stderr",
     "output_type": "stream",
     "text": [
      "\u001b[1m\u001b[22m`stat_bin()` using `bins = 30`. Pick better value with `binwidth`.\n"
     ]
    },
    {
     "data": {
      "image/png": "[encoded data removed]",
      "text/plain": [
       "plot without title"
      ]
     },
     "metadata": {
      "image/png": {
       "height": 420,
       "width": 420
      }
     },
     "output_type": "display_data"
    }
   ],
   "source": [
    "mcmc_hist(fit$draws(\"theta\")) +\n",
    "  vline_at(fit_mle$mle(\"theta\"), size = 1.5)"
   ]
  },
  {
   "cell_type": "markdown",
   "id": "e42c879c",
   "metadata": {},
   "source": [
    "### Variational Bayes\n",
    "\n",
    "We can run Stan's experimental variational Bayes algorithm (ADVI) using the\n",
    "[`$variational()`](https://mc-stan.org/cmdstanr/reference/model-method-variational.html)\n",
    "method."
   ]
  },
  {
   "cell_type": "code",
   "execution_count": 25,
   "id": "07124fc0",
   "metadata": {
    "vscode": {
     "languageId": "r"
    }
   },
   "outputs": [
    {
     "name": "stdout",
     "output_type": "stream",
     "text": [
      "------------------------------------------------------------ \n",
      "EXPERIMENTAL ALGORITHM: \n",
      "  This procedure has not been thoroughly tested and may be unstable \n",
      "  or buggy. The interface is subject to change. \n",
      "------------------------------------------------------------ \n",
      "Gradient evaluation took 3e-06 seconds \n",
      "1000 transitions using 10 leapfrog steps per transition would take 0.03 seconds. \n",
      "Adjust your expectations accordingly! \n",
      "Begin eta adaptation. \n",
      "Iteration:   1 / 250 [  0%]  (Adaptation) \n",
      "Iteration:  50 / 250 [ 20%]  (Adaptation) \n",
      "Iteration: 100 / 250 [ 40%]  (Adaptation) \n",
      "Iteration: 150 / 250 [ 60%]  (Adaptation) \n",
      "Iteration: 200 / 250 [ 80%]  (Adaptation) \n",
      "Success! Found best value [eta = 1] earlier than expected. \n",
      "Begin stochastic gradient ascent. \n",
      "  iter             ELBO   delta_ELBO_mean   delta_ELBO_med   notes  \n",
      "   100           -6.262             1.000            1.000 \n",
      "   200           -6.263             0.500            1.000 \n",
      "   300           -6.307             0.336            0.007   MEDIAN ELBO CONVERGED \n",
      "Drawing a sample of size 4000 from the approximate posterior...  \n",
      "COMPLETED. \n",
      "Finished in  0.1 seconds.\n"
     ]
    },
    {
     "data": {
      "text/html": [
       "<table class=\"dataframe\">\n",
       "<caption>A draws_summary: 1 × 7</caption>\n",
       "<thead>\n",
       "\t<tr><th scope=col>variable</th><th scope=col>mean</th><th scope=col>median</th><th scope=col>sd</th><th scope=col>mad</th><th scope=col>q5</th><th scope=col>q95</th></tr>\n",
       "\t<tr><th scope=col>&lt;chr&gt;</th><th scope=col>&lt;dbl&gt;</th><th scope=col>&lt;dbl&gt;</th><th scope=col>&lt;dbl&gt;</th><th scope=col>&lt;dbl&gt;</th><th scope=col>&lt;dbl&gt;</th><th scope=col>&lt;dbl&gt;</th></tr>\n",
       "</thead>\n",
       "<tbody>\n",
       "\t<tr><td>theta</td><td>0.2673525</td><td>0.249894</td><td>0.1170152</td><td>0.1166473</td><td>0.1046696</td><td>0.4866761</td></tr>\n",
       "</tbody>\n",
       "</table>\n"
      ],
      "text/latex": [
       "A draws\\_summary: 1 × 7\n",
       "\\begin{tabular}{lllllll}\n",
       " variable & mean & median & sd & mad & q5 & q95\\\\\n",
       " <chr> & <dbl> & <dbl> & <dbl> & <dbl> & <dbl> & <dbl>\\\\\n",
       "\\hline\n",
       "\t theta & 0.2673525 & 0.249894 & 0.1170152 & 0.1166473 & 0.1046696 & 0.4866761\\\\\n",
       "\\end{tabular}\n"
      ],
      "text/markdown": [
       "\n",
       "A draws_summary: 1 × 7\n",
       "\n",
       "| variable &lt;chr&gt; | mean &lt;dbl&gt; | median &lt;dbl&gt; | sd &lt;dbl&gt; | mad &lt;dbl&gt; | q5 &lt;dbl&gt; | q95 &lt;dbl&gt; |\n",
       "|---|---|---|---|---|---|---|\n",
       "| theta | 0.2673525 | 0.249894 | 0.1170152 | 0.1166473 | 0.1046696 | 0.4866761 |\n",
       "\n"
      ],
      "text/plain": [
       "  variable mean      median   sd        mad       q5        q95      \n",
       "1 theta    0.2673525 0.249894 0.1170152 0.1166473 0.1046696 0.4866761"
      ]
     },
     "metadata": {},
     "output_type": "display_data"
    }
   ],
   "source": [
    "fit_vb <- mod$variational(data = data_list, seed = 123, output_samples = 4000)\n",
    "fit_vb$summary(\"theta\")"
   ]
  },
  {
   "cell_type": "markdown",
   "id": "130e06c7",
   "metadata": {},
   "source": [
    "The `$draws()` method can be used to access the approximate posterior draws.\n",
    "Let's extract the draws, make the same plot we made after MCMC, and compare the\n",
    "two. In this trivial example the distributions look quite similar, although\n",
    "the variational approximation slightly underestimates the posterior\n",
    "standard deviation."
   ]
  },
  {
   "cell_type": "code",
   "execution_count": 26,
   "id": "6c1e205c",
   "metadata": {
    "vscode": {
     "languageId": "r"
    }
   },
   "outputs": [
    {
     "data": {
      "image/png": "[encoded data removed]",
      "text/plain": [
       "plot without title"
      ]
     },
     "metadata": {
      "image/png": {
       "height": 420,
       "width": 420
      }
     },
     "output_type": "display_data"
    }
   ],
   "source": [
    "mcmc_hist(fit$draws(\"theta\"), binwidth = 0.025)"
   ]
  },
  {
   "cell_type": "code",
   "execution_count": 27,
   "id": "09c0e9ea",
   "metadata": {
    "vscode": {
     "languageId": "r"
    }
   },
   "outputs": [
    {
     "data": {
      "image/png": "[encoded data removed]",
      "text/plain": [
       "plot without title"
      ]
     },
     "metadata": {
      "image/png": {
       "height": 420,
       "width": 420
      }
     },
     "output_type": "display_data"
    }
   ],
   "source": [
    "mcmc_hist(fit_vb$draws(\"theta\"), binwidth = 0.025)"
   ]
  },
  {
   "cell_type": "markdown",
   "id": "e0a46478",
   "metadata": {},
   "source": [
    "For more details on the `$optimize()` and `$variational()` methods, follow\n",
    "these links to their documentation pages.\n",
    "\n",
    "* [`$optimize()`](https://mc-stan.org/cmdstanr/reference/model-method-optimize.html)\n",
    "* [`$variational()`](https://mc-stan.org/cmdstanr/reference/model-method-variational.html)\n",
    "\n",
    "\n",
    "## Saving fitted model objects\n",
    "\n",
    "The [`$save_object()`](http://mc-stan.org/cmdstanr/reference/fit-method-save_object.html)\n",
    "method provided by CmdStanR is the most convenient way to save a fitted model object\n",
    "to disk and ensure that all of the contents are available when reading the object back into R."
   ]
  },
  {
   "cell_type": "code",
   "execution_count": 28,
   "id": "bd2be88b",
   "metadata": {
    "vscode": {
     "languageId": "r"
    }
   },
   "outputs": [],
   "source": [
    "fit$save_object(file = \"fit.RDS\")\n",
    "\n",
    "# can be read back in using readRDS\n",
    "fit2 <- readRDS(\"fit.RDS\")"
   ]
  },
  {
   "cell_type": "markdown",
   "id": "eb6d7225",
   "metadata": {},
   "source": [
    "But if your model object is large, then\n",
    "[`$save_object()`](http://mc-stan.org/cmdstanr/reference/fit-method-save_object.html)\n",
    "could take a long time. \n",
    "[`$save_object()`](http://mc-stan.org/cmdstanr/reference/fit-method-save_object.html)\n",
    "reads the CmdStan results files into memory, stores them in the model object,\n",
    "and saves the object with `saveRDS()`. To speed up the process, you can emulate\n",
    "[`$save_object()`](http://mc-stan.org/cmdstanr/reference/fit-method-save_object.html)\n",
    "and replace `saveRDS` with the much faster `qsave()` function from the\n",
    "[`qs`](https://github.com/traversc/qs) package."
   ]
  },
  {
   "cell_type": "code",
   "execution_count": null,
   "id": "a4ef3ac7",
   "metadata": {
    "vscode": {
     "languageId": "r"
    }
   },
   "outputs": [],
   "source": [
    "# Load CmdStan output files into the fitted model object.\n",
    "fit$draws() # Load posterior draws into the object.\n",
    "try(fit$sampler_diagnostics(), silent = TRUE) # Load sampler diagnostics.\n",
    "try(fit$init(), silent = TRUE) # Load user-defined initial values.\n",
    "try(fit$profiles(), silent = TRUE) # Load profiling samples.\n",
    "\n",
    "# Save the object to a file.\n",
    "qs::qsave(x = fit, file = \"fit.qs\")\n",
    "\n",
    "# Read the object.\n",
    "fit2 <- qs::qread(\"fit.qs\")"
   ]
  },
  {
   "cell_type": "markdown",
   "id": "603142a2",
   "metadata": {},
   "source": [
    "Storage is even faster if you discard results you do not need to save.\n",
    "The following example saves only posterior draws and discards\n",
    "sampler diagnostics, user-specified initial values, and profiling data."
   ]
  },
  {
   "cell_type": "code",
   "execution_count": null,
   "id": "419830c6",
   "metadata": {
    "vscode": {
     "languageId": "r"
    }
   },
   "outputs": [],
   "source": [
    "\n",
    "# Load posterior draws into the fitted model object and omit other output.\n",
    "fit$draws()\n",
    "\n",
    "# Save the object to a file.\n",
    "qs::qsave(x = fit, file = \"fit.qs\")\n",
    "\n",
    "# Read the object.\n",
    "fit2 <- qs::qread(\"fit.qs\")"
   ]
  },
  {
   "cell_type": "markdown",
   "id": "2438894b",
   "metadata": {},
   "source": [
    "See the vignette [_How does CmdStanR work?_](http://mc-stan.org/cmdstanr/articles/cmdstanr-internals.html)\n",
    "for more information about the composition of CmdStanR objects.\n",
    "\n",
    "## Comparison with RStan\n",
    "\n",
    "\n",
    "\n",
    "## Additional resources\n",
    "\n",
    "There are additional vignettes available that discuss other aspects of using\n",
    "CmdStanR. These can be found online at the CmdStanR website:\n",
    "\n",
    "* https://mc-stan.org/cmdstanr/articles/index.html\n",
    "\n",
    "To ask a question please post on the Stan forums:\n",
    "\n",
    "* https://discourse.mc-stan.org/\n",
    "\n",
    "To report a bug, suggest a feature (including additions to these vignettes), or to start contributing to CmdStanR\n",
    "development (new contributors welcome!) please open an issue on GitHub:\n",
    "\n",
    "* https://github.com/stan-dev/cmdstanr/issues"
   ]
  }
 ],
 "metadata": {
  "kernelspec": {
   "display_name": "R",
   "language": "R",
   "name": "ir"
  },
  "language_info": {
   "codemirror_mode": "r",
   "file_extension": ".r",
   "mimetype": "text/x-r-source",
   "name": "R",
   "pygments_lexer": "r",
   "version": "4.3.1"
  }
 },
 "nbformat": 4,
 "nbformat_minor": 5
}
