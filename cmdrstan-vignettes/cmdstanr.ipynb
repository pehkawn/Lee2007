{
 "cells": [
  {
   "cell_type": "markdown",
   "id": "0ae13d04",
   "metadata": {},
   "source": [
    "---\n",
    "title: \"Getting started with CmdStanR\"\n",
    "author: \"Jonah Gabry and Rok Češnovar\"\n",
    "output:\n",
    "  rmarkdown::html_vignette:\n",
    "    toc: true\n",
    "    toc_depth: 3\n",
    "params:\n",
    "  EVAL: !r identical(Sys.getenv(\"NOT_CRAN\"), \"true\")\n",
    "vignette: >\n",
    "  %\\VignetteIndexEntry{Getting started with CmdStanR}\n",
    "  %\\VignetteEngine{knitr::rmarkdown}\n",
    "  %\\VignetteEncoding{UTF-8}\n",
    "---\n",
    "\n",
    "\n",
    "\n",
    "## Introduction\n",
    "\n",
    "CmdStanR (Command Stan R) is a lightweight interface to\n",
    "[Stan](https://mc-stan.org/) for R users that provides an alternative to the\n",
    "traditional [RStan](https://mc-stan.org/rstan/) interface. See the [*Comparison\n",
    "with RStan*](#comparison-with-rstan) section later in this vignette for more\n",
    "details on how the two interfaces differ.\n",
    "\n",
    "**CmdStanR is not on CRAN yet**, but the beta release can be installed by\n",
    "running the following command in R."
   ]
  },
  {
   "cell_type": "code",
   "execution_count": null,
   "id": "0477b6bd",
   "metadata": {},
   "outputs": [],
   "source": [
    "%%R\n",
    "# we recommend running this is a fresh R session or restarting your current session\n",
    "install.packages(\"cmdstanr\", repos = c(\"https://mc-stan.org/r-packages/\", getOption(\"repos\")))"
   ]
  },
  {
   "cell_type": "markdown",
   "id": "78047012",
   "metadata": {},
   "source": [
    "CmdStanR (the **cmdstanr** R package) can now be loaded like any other R\n",
    "package. We'll also load the **bayesplot** and **posterior** packages to use\n",
    "later in examples."
   ]
  },
  {
   "cell_type": "code",
   "execution_count": null,
   "id": "43b03070",
   "metadata": {},
   "outputs": [],
   "source": [
    "%%R\n",
    "library(cmdstanr)\n",
    "library(posterior)\n",
    "library(bayesplot)\n",
    "color_scheme_set(\"brightblue\")"
   ]
  },
  {
   "cell_type": "markdown",
   "id": "57e48054",
   "metadata": {},
   "source": [
    "## Installing CmdStan\n",
    "\n",
    "CmdStanR requires a working installation of\n",
    "[CmdStan](https://mc-stan.org/users/interfaces/cmdstan.html), the shell\n",
    "interface to Stan. If you don't have CmdStan installed then CmdStanR can install\n",
    "it for you, assuming you have a suitable C++ toolchain. The requirements are\n",
    "described in the CmdStan Guide:\n",
    "\n",
    "* https://mc-stan.org/docs/cmdstan-guide/cmdstan-installation.html\n",
    "\n",
    "To double check that your toolchain is set up properly you can call\n",
    "the `check_cmdstan_toolchain()` function:"
   ]
  },
  {
   "cell_type": "code",
   "execution_count": null,
   "id": "55971997",
   "metadata": {},
   "outputs": [],
   "source": [
    "%%R\n",
    "check_cmdstan_toolchain()"
   ]
  },
  {
   "cell_type": "markdown",
   "id": "12d5c61f",
   "metadata": {},
   "source": [
    "If your toolchain is configured correctly then CmdStan can be installed by\n",
    "calling the\n",
    "[`install_cmdstan()`](https://mc-stan.org/cmdstanr/reference/install_cmdstan.html)\n",
    "function:"
   ]
  },
  {
   "cell_type": "code",
   "execution_count": null,
   "id": "05dafc2d",
   "metadata": {},
   "outputs": [],
   "source": [
    "%%R\n",
    "install_cmdstan(cores = 2)"
   ]
  },
  {
   "cell_type": "markdown",
   "id": "507b2dba",
   "metadata": {},
   "source": [
    "Before CmdStanR can be used it needs to know where the CmdStan installation is\n",
    "located. When the package is loaded it tries to help automate this to avoid\n",
    "having to manually set the path every session:\n",
    "\n",
    "1. If the environment variable `\"CMDSTAN\"` exists at load time then its value\n",
    "will be automatically set as the default path to CmdStan for the R session. This\n",
    "is useful if your CmdStan installation is not located in the default directory\n",
    "that would have been used by `install_cmdstan()` (see #2).\n",
    "\n",
    "2. If no environment variable is found when loaded but any directory in the form\n",
    "`\".cmdstan/cmdstan-[version]\"`, for example `\".cmdstan/cmdstan-2.23.0\"`,\n",
    "exists in the user's home directory (`Sys.getenv(\"HOME\")`,\n",
    "*not* the current working directory) then the path to the CmdStan with the\n",
    "largest version number will be set as the path to CmdStan for the R session.\n",
    "This is the same as the default directory that `install_cmdstan()` uses to\n",
    "install the latest version of CmdStan, so if that's how you installed CmdStan\n",
    "you shouldn't need to manually set the path to CmdStan when loading CmdStanR.\n",
    "\n",
    "If neither of these applies (or you want to subsequently change the path) you\n",
    "can use the `set_cmdstan_path()` function:"
   ]
  },
  {
   "cell_type": "code",
   "execution_count": null,
   "id": "8f688a9a",
   "metadata": {},
   "outputs": [],
   "source": [
    "%%R\n",
    "set_cmdstan_path(PATH_TO_CMDSTAN)"
   ]
  },
  {
   "cell_type": "markdown",
   "id": "62c383de",
   "metadata": {},
   "source": [
    "To check the path to the CmdStan installation and the CmdStan version number\n",
    "you can use `cmdstan_path()` and `cmdstan_version()`:"
   ]
  },
  {
   "cell_type": "code",
   "execution_count": null,
   "id": "3367e4b8",
   "metadata": {},
   "outputs": [],
   "source": [
    "%%R\n",
    "cmdstan_path()\n",
    "cmdstan_version()"
   ]
  },
  {
   "cell_type": "markdown",
   "id": "325b1606",
   "metadata": {},
   "source": [
    "## Compiling a model\n",
    "\n",
    "The `cmdstan_model()` function creates a new\n",
    "[`CmdStanModel`](https://mc-stan.org/cmdstanr/reference/CmdStanModel.html)\n",
    "object from a file containing a Stan program. Under the hood, CmdStan is called\n",
    "to translate a Stan program to C++ and create a compiled executable. Here we'll\n",
    "use the example Stan program that comes with the CmdStan installation:"
   ]
  },
  {
   "cell_type": "code",
   "execution_count": null,
   "id": "135f075e",
   "metadata": {},
   "outputs": [],
   "source": [
    "%%R\n",
    "file <- file.path(cmdstan_path(), \"examples\", \"bernoulli\", \"bernoulli.stan\")\n",
    "mod <- cmdstan_model(file)"
   ]
  },
  {
   "cell_type": "markdown",
   "id": "59acedb9",
   "metadata": {},
   "source": [
    "The object `mod` is an [R6](https://r6.r-lib.org/) reference object of class\n",
    "[`CmdStanModel`](https://mc-stan.org/cmdstanr/reference/CmdStanModel.html) and\n",
    "behaves similarly to R's reference class objects and those in object oriented\n",
    "programming languages. Methods are accessed using the `$` operator. This design\n",
    "choice allows for CmdStanR and\n",
    "[CmdStanPy](https://github.com/stan-dev/cmdstanpy) to provide a similar user\n",
    "experience and share many implementation details.\n",
    "\n",
    "The Stan program can be printed using the `$print()` method:"
   ]
  },
  {
   "cell_type": "code",
   "execution_count": null,
   "id": "7dbdc236",
   "metadata": {},
   "outputs": [],
   "source": [
    "%%R\n",
    "mod$print()"
   ]
  },
  {
   "cell_type": "markdown",
   "id": "0d3e7638",
   "metadata": {},
   "source": [
    "The path to the compiled executable is returned by the `$exe_file()`\n",
    "method:"
   ]
  },
  {
   "cell_type": "code",
   "execution_count": null,
   "id": "4572b4b1",
   "metadata": {},
   "outputs": [],
   "source": [
    "%%R\n",
    "mod$exe_file()"
   ]
  },
  {
   "cell_type": "markdown",
   "id": "544cd2dd",
   "metadata": {},
   "source": [
    "## Running MCMC\n",
    "\n",
    "The\n",
    "[`$sample()`](https://mc-stan.org/cmdstanr/reference/model-method-sample.html)\n",
    "method for\n",
    "[`CmdStanModel`](https://mc-stan.org/cmdstanr/reference/CmdStanModel.html)\n",
    "objects runs Stan's default MCMC algorithm. The `data` argument accepts a named\n",
    "list of R objects (like for RStan) or a path to a data file compatible with\n",
    "CmdStan (JSON or R dump)."
   ]
  },
  {
   "cell_type": "code",
   "execution_count": null,
   "id": "e9af546e",
   "metadata": {},
   "outputs": [],
   "source": [
    "%%R\n",
    "# names correspond to the data block in the Stan program\n",
    "data_list <- list(N = 10, y = c(0,1,0,0,0,0,0,0,0,1))\n",
    "\n",
    "fit <- mod$sample(\n",
    "  data = data_list,\n",
    "  seed = 123,\n",
    "  chains = 4,\n",
    "  parallel_chains = 4,\n",
    "  refresh = 500 # print update every 500 iters\n",
    ")"
   ]
  },
  {
   "cell_type": "markdown",
   "id": "6ce0b279",
   "metadata": {},
   "source": [
    "There are many more arguments that can be passed to the `$sample()` method.\n",
    "For details follow this link to its separate documentation page:\n",
    "\n",
    "* [`$sample()`](https://mc-stan.org/cmdstanr/reference/model-method-sample.html)\n",
    "\n",
    "The `$sample()` method creates [R6](https://r6.r-lib.org/) `CmdStanMCMC`\n",
    "objects, which have many associated methods. Below we will demonstrate some of\n",
    "the most important methods. For a full list, follow this link to the\n",
    "`CmdStanMCMC` documentation:\n",
    "\n",
    "* [`CmdStanMCMC`](https://mc-stan.org/cmdstanr/reference/CmdStanMCMC.html)\n",
    "\n",
    "### Posterior summary statistics\n",
    "\n",
    "#### Summaries from the posterior package\n",
    "\n",
    "The\n",
    "[`$summary()`](https://mc-stan.org/cmdstanr/reference/fit-method-summary.html)\n",
    "method calls `summarise_draws()` from the **posterior** package. The\n",
    "first argument specifies the variables to summarize and any arguments\n",
    "after that are passed on to `posterior::summarise_draws()` to specify\n",
    "which summaries to compute, whether to use multiple cores, etc."
   ]
  },
  {
   "cell_type": "code",
   "execution_count": null,
   "id": "11df358e",
   "metadata": {},
   "outputs": [],
   "source": [
    "%%R\n",
    "fit$summary()\n",
    "fit$summary(variables = c(\"theta\", \"lp__\"), \"mean\", \"sd\")\n",
    "\n",
    "# use a formula to summarize arbitrary functions, e.g. Pr(theta <= 0.5)\n",
    "fit$summary(\"theta\", pr_lt_half = ~ mean(. <= 0.5))\n",
    "\n",
    "# summarise all variables with default and additional summary measures\n",
    "fit$summary(\n",
    "  variables = NULL,\n",
    "  posterior::default_summary_measures(),\n",
    "  extra_quantiles = ~posterior::quantile2(., probs = c(.0275, .975))\n",
    ")"
   ]
  },
  {
   "cell_type": "markdown",
   "id": "d6717376",
   "metadata": {},
   "source": [
    "#### CmdStan's stansummary utility\n",
    "\n",
    "CmdStan itself provides a `stansummary` utility that can be called using the\n",
    "`$cmdstan_summary()` method. This method will print summaries but won't return\n",
    "anything.\n",
    "\n",
    "### Posterior draws\n",
    "\n",
    "#### Extracting draws\n",
    "\n",
    "The [`$draws()`](https://mc-stan.org/cmdstanr/reference/fit-method-draws.html)\n",
    "method can be used to extract the posterior draws in formats provided by the\n",
    "[**posterior**](https://mc-stan.org/posterior/) package. Here we demonstrate\n",
    "only the `draws_array` and `draws_df` formats, but the **posterior** package\n",
    "supports other useful formats as well."
   ]
  },
  {
   "cell_type": "code",
   "execution_count": null,
   "id": "6262c806",
   "metadata": {},
   "outputs": [],
   "source": [
    "%%R\n",
    "# default is a 3-D draws_array object from the posterior package\n",
    "# iterations x chains x variables\n",
    "draws_arr <- fit$draws() # or format=\"array\"\n",
    "str(draws_arr)\n",
    "\n",
    "# draws x variables data frame\n",
    "draws_df <- fit$draws(format = \"df\")\n",
    "str(draws_df)\n",
    "print(draws_df)"
   ]
  },
  {
   "cell_type": "markdown",
   "id": "e88e3c8d",
   "metadata": {},
   "source": [
    "To convert an existing draws object to a different format use the\n",
    "`posterior::as_draws_*()` functions."
   ]
  },
  {
   "cell_type": "code",
   "execution_count": null,
   "id": "c0f882ae",
   "metadata": {},
   "outputs": [],
   "source": [
    "%%R\n",
    "# this should be identical to draws_df created via draws(format = \"df\")\n",
    "draws_df_2 <- as_draws_df(draws_arr)\n",
    "identical(draws_df, draws_df_2)"
   ]
  },
  {
   "cell_type": "markdown",
   "id": "a1abd1d9",
   "metadata": {},
   "source": [
    "In general, converting to a different draws format in this way will be slower\n",
    "than just setting the appropriate format initially in the call to the `$draws()`\n",
    "method, but in most cases the speed difference will be minor.\n",
    "\n",
    "#### Plotting draws\n",
    "\n",
    "Plotting posterior distributions is as easy as passing the object returned by\n",
    "the `$draws()` method directly to plotting functions in our\n",
    "[**bayesplot**](https://mc-stan.org/bayesplot/) package."
   ]
  },
  {
   "cell_type": "code",
   "execution_count": null,
   "id": "cada4537",
   "metadata": {},
   "outputs": [],
   "source": [
    "%%R\n",
    "mcmc_hist(fit$draws(\"theta\"))"
   ]
  },
  {
   "cell_type": "markdown",
   "id": "e46beda4",
   "metadata": {},
   "source": [
    "### Sampler diagnostics\n",
    "\n",
    "#### Extracting diagnostic values for each iteration and chain\n",
    "\n",
    "The\n",
    "[`$sampler_diagnostics()`](https://mc-stan.org/cmdstanr/reference/fit-method-sampler_diagnostics.html)\n",
    "method extracts the values of the sampler parameters (`treedepth__`,\n",
    "`divergent__`, etc.) in formats supported by the **posterior** package. The\n",
    "default is as a 3-D array (iteration x chain x variable)."
   ]
  },
  {
   "cell_type": "code",
   "execution_count": null,
   "id": "997162e5",
   "metadata": {},
   "outputs": [],
   "source": [
    "%%R\n",
    "# this is a draws_array object from the posterior package\n",
    "str(fit$sampler_diagnostics())\n",
    "\n",
    "# this is a draws_df object from the posterior package\n",
    "str(fit$sampler_diagnostics(format = \"df\"))"
   ]
  },
  {
   "cell_type": "markdown",
   "id": "58fb69d7",
   "metadata": {},
   "source": [
    "#### Sampler diagnostic warnings and summaries\n",
    "\n",
    "The `$diagnostic_summary()` method will display any sampler diagnostic warnings and return a summary of diagnostics for each chain."
   ]
  },
  {
   "cell_type": "code",
   "execution_count": null,
   "id": "2dc7fef2",
   "metadata": {},
   "outputs": [],
   "source": [
    "%%R\n",
    "fit$diagnostic_summary()"
   ]
  },
  {
   "cell_type": "markdown",
   "id": "627e0578",
   "metadata": {},
   "source": [
    "We see the number of divergences for each of the four chains, the number\n",
    "of times the maximum treedepth was hit for each chain, and the E-BFMI\n",
    "for each chain.\n",
    "\n",
    "In this case there were no warnings, so in order to demonstrate the warning\n",
    "messages we'll use one of the CmdStanR example models that suffers from\n",
    "divergences."
   ]
  },
  {
   "cell_type": "code",
   "execution_count": null,
   "id": "e4dceef2",
   "metadata": {},
   "outputs": [],
   "source": [
    "%%R\n",
    "fit_with_warning <- cmdstanr_example(\"schools\")"
   ]
  },
  {
   "cell_type": "markdown",
   "id": "85793425",
   "metadata": {},
   "source": [
    "After fitting there is a warning about divergences. We can also regenerate this warning message later using `fit$diagnostic_summary()`."
   ]
  },
  {
   "cell_type": "code",
   "execution_count": null,
   "id": "c242c26e",
   "metadata": {},
   "outputs": [],
   "source": [
    "%%R\n",
    "diagnostics <- fit_with_warning$diagnostic_summary()\n",
    "print(diagnostics)\n",
    "\n",
    "# number of divergences reported in warning is the sum of the per chain values\n",
    "sum(diagnostics$num_divergent)"
   ]
  },
  {
   "cell_type": "markdown",
   "id": "4748e881",
   "metadata": {},
   "source": [
    "#### CmdStan's diagnose utility\n",
    "\n",
    "CmdStan itself provides a `diagnose` utility that can be called using\n",
    "the `$cmdstan_diagnose()` method. This method will print warnings but won't return anything.\n",
    "\n",
    "\n",
    "### Create a `stanfit` object\n",
    "\n",
    "If you have RStan installed then it is also possible to create a `stanfit`\n",
    "object from the csv output files written by CmdStan. This can be done by using\n",
    "`rstan::read_stan_csv()` in combination with the `$output_files()` method of the\n",
    "`CmdStanMCMC` object. This is only needed if you want to fit a model with\n",
    "CmdStanR but already have a lot of post-processing code that assumes a `stanfit`\n",
    "object. Otherwise we recommend using the post-processing functionality provided\n",
    "by CmdStanR itself."
   ]
  },
  {
   "cell_type": "code",
   "execution_count": null,
   "id": "7a7dad1c",
   "metadata": {},
   "outputs": [],
   "source": [
    "%%R\n",
    "stanfit <- rstan::read_stan_csv(fit$output_files())"
   ]
  },
  {
   "cell_type": "markdown",
   "id": "ec717afd",
   "metadata": {},
   "source": [
    "## Running optimization and variational inference\n",
    "\n",
    "CmdStanR also supports running Stan's optimization algorithms and its algorithms\n",
    "for variational approximation of full Bayesian inference. These are run via the\n",
    "`$optimize()` and `$variational()` methods, which are called in a similar way to\n",
    "the `$sample()` method demonstrated above.\n",
    "\n",
    "### Optimization\n",
    "\n",
    "We can find the (penalized) maximum likelihood estimate (MLE) using [`$optimize()`](https://mc-stan.org/cmdstanr/reference/model-method-optimize.html)."
   ]
  },
  {
   "cell_type": "code",
   "execution_count": null,
   "id": "db3e5136",
   "metadata": {},
   "outputs": [],
   "source": [
    "%%R\n",
    "fit_mle <- mod$optimize(data = data_list, seed = 123)\n",
    "fit_mle$summary() # includes lp__ (log prob calculated by Stan program)\n",
    "fit_mle$mle(\"theta\")"
   ]
  },
  {
   "cell_type": "markdown",
   "id": "638c346a",
   "metadata": {},
   "source": [
    "Here's a plot comparing the penalized MLE to the posterior distribution of\n",
    "`theta`."
   ]
  },
  {
   "cell_type": "code",
   "execution_count": null,
   "id": "c1da7a72",
   "metadata": {},
   "outputs": [],
   "source": [
    "%%R\n",
    "mcmc_hist(fit$draws(\"theta\")) +\n",
    "  vline_at(fit_mle$mle(\"theta\"), size = 1.5)"
   ]
  },
  {
   "cell_type": "markdown",
   "id": "e42c879c",
   "metadata": {},
   "source": [
    "### Variational Bayes\n",
    "\n",
    "We can run Stan's experimental variational Bayes algorithm (ADVI) using the\n",
    "[`$variational()`](https://mc-stan.org/cmdstanr/reference/model-method-variational.html)\n",
    "method."
   ]
  },
  {
   "cell_type": "code",
   "execution_count": null,
   "id": "07124fc0",
   "metadata": {},
   "outputs": [],
   "source": [
    "%%R\n",
    "fit_vb <- mod$variational(data = data_list, seed = 123, output_samples = 4000)\n",
    "fit_vb$summary(\"theta\")"
   ]
  },
  {
   "cell_type": "markdown",
   "id": "130e06c7",
   "metadata": {},
   "source": [
    "The `$draws()` method can be used to access the approximate posterior draws.\n",
    "Let's extract the draws, make the same plot we made after MCMC, and compare the\n",
    "two. In this trivial example the distributions look quite similar, although\n",
    "the variational approximation slightly underestimates the posterior\n",
    "standard deviation."
   ]
  },
  {
   "cell_type": "code",
   "execution_count": null,
   "id": "6c1e205c",
   "metadata": {},
   "outputs": [],
   "source": [
    "%%R\n",
    "mcmc_hist(fit$draws(\"theta\"), binwidth = 0.025)"
   ]
  },
  {
   "cell_type": "code",
   "execution_count": null,
   "id": "09c0e9ea",
   "metadata": {},
   "outputs": [],
   "source": [
    "%%R\n",
    "mcmc_hist(fit_vb$draws(\"theta\"), binwidth = 0.025)"
   ]
  },
  {
   "cell_type": "markdown",
   "id": "e0a46478",
   "metadata": {},
   "source": [
    "For more details on the `$optimize()` and `$variational()` methods, follow\n",
    "these links to their documentation pages.\n",
    "\n",
    "* [`$optimize()`](https://mc-stan.org/cmdstanr/reference/model-method-optimize.html)\n",
    "* [`$variational()`](https://mc-stan.org/cmdstanr/reference/model-method-variational.html)\n",
    "\n",
    "\n",
    "## Saving fitted model objects\n",
    "\n",
    "The [`$save_object()`](http://mc-stan.org/cmdstanr/reference/fit-method-save_object.html)\n",
    "method provided by CmdStanR is the most convenient way to save a fitted model object\n",
    "to disk and ensure that all of the contents are available when reading the object back into R."
   ]
  },
  {
   "cell_type": "code",
   "execution_count": null,
   "id": "bd2be88b",
   "metadata": {},
   "outputs": [],
   "source": [
    "%%R\n",
    "fit$save_object(file = \"fit.RDS\")\n",
    "\n",
    "# can be read back in using readRDS\n",
    "fit2 <- readRDS(\"fit.RDS\")"
   ]
  },
  {
   "cell_type": "markdown",
   "id": "eb6d7225",
   "metadata": {},
   "source": [
    "But if your model object is large, then\n",
    "[`$save_object()`](http://mc-stan.org/cmdstanr/reference/fit-method-save_object.html)\n",
    "could take a long time. \n",
    "[`$save_object()`](http://mc-stan.org/cmdstanr/reference/fit-method-save_object.html)\n",
    "reads the CmdStan results files into memory, stores them in the model object,\n",
    "and saves the object with `saveRDS()`. To speed up the process, you can emulate\n",
    "[`$save_object()`](http://mc-stan.org/cmdstanr/reference/fit-method-save_object.html)\n",
    "and replace `saveRDS` with the much faster `qsave()` function from the\n",
    "[`qs`](https://github.com/traversc/qs) package."
   ]
  },
  {
   "cell_type": "code",
   "execution_count": null,
   "id": "a4ef3ac7",
   "metadata": {},
   "outputs": [],
   "source": [
    "%%R\n",
    "# Load CmdStan output files into the fitted model object.\n",
    "fit$draws() # Load posterior draws into the object.\n",
    "try(fit$sampler_diagnostics(), silent = TRUE) # Load sampler diagnostics.\n",
    "try(fit$init(), silent = TRUE) # Load user-defined initial values.\n",
    "try(fit$profiles(), silent = TRUE) # Load profiling samples.\n",
    "\n",
    "# Save the object to a file.\n",
    "qs::qsave(x = fit, file = \"fit.qs\")\n",
    "\n",
    "# Read the object.\n",
    "fit2 <- qs::qread(\"fit.qs\")"
   ]
  },
  {
   "cell_type": "markdown",
   "id": "603142a2",
   "metadata": {},
   "source": [
    "Storage is even faster if you discard results you do not need to save.\n",
    "The following example saves only posterior draws and discards\n",
    "sampler diagnostics, user-specified initial values, and profiling data."
   ]
  },
  {
   "cell_type": "code",
   "execution_count": null,
   "id": "419830c6",
   "metadata": {},
   "outputs": [],
   "source": [
    "%%R\n",
    "# Load posterior draws into the fitted model object and omit other output.\n",
    "fit$draws()\n",
    "\n",
    "# Save the object to a file.\n",
    "qs::qsave(x = fit, file = \"fit.qs\")\n",
    "\n",
    "# Read the object.\n",
    "fit2 <- qs::qread(\"fit.qs\")"
   ]
  },
  {
   "cell_type": "markdown",
   "id": "2438894b",
   "metadata": {},
   "source": [
    "See the vignette [_How does CmdStanR work?_](http://mc-stan.org/cmdstanr/articles/cmdstanr-internals.html)\n",
    "for more information about the composition of CmdStanR objects.\n",
    "\n",
    "## Comparison with RStan\n",
    "\n",
    "\n",
    "\n",
    "## Additional resources\n",
    "\n",
    "There are additional vignettes available that discuss other aspects of using\n",
    "CmdStanR. These can be found online at the CmdStanR website:\n",
    "\n",
    "* https://mc-stan.org/cmdstanr/articles/index.html\n",
    "\n",
    "To ask a question please post on the Stan forums:\n",
    "\n",
    "* https://discourse.mc-stan.org/\n",
    "\n",
    "To report a bug, suggest a feature (including additions to these vignettes), or to start contributing to CmdStanR\n",
    "development (new contributors welcome!) please open an issue on GitHub:\n",
    "\n",
    "* https://github.com/stan-dev/cmdstanr/issues"
   ]
  }
 ],
 "metadata": {},
 "nbformat": 4,
 "nbformat_minor": 5
}
