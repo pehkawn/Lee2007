{
 "cells": [
  {
   "cell_type": "markdown",
   "id": "9f34c3d0",
   "metadata": {},
   "source": [
    "---\n",
    "title: \"R Markdown CmdStan Engine\"\n",
    "author: \"Mikhail Popov\"\n",
    "output:\n",
    "  rmarkdown::html_vignette:\n",
    "    toc: true\n",
    "params:\n",
    "  EVAL: !r identical(Sys.getenv(\"NOT_CRAN\"), \"true\")\n",
    "vignette: >\n",
    "  %\\VignetteIndexEntry{R Markdown CmdStan Engine}\n",
    "  %\\VignetteEngine{knitr::rmarkdown}\n",
    "  %\\VignetteEncoding{UTF-8}\n",
    "---\n",
    "\n",
    "\n",
    "\n",
    "R Markdown supports a variety of languages through the use of knitr language\n",
    "engines. One such engine is the `stan` engine, which allows users to write Stan\n",
    "programs directly in their R Markdown documents by setting the language of the\n",
    "chunk to `stan`.\n",
    "\n",
    "Behind the scenes, the engine relies on RStan to compile the model code into an\n",
    "in-memory `stanmodel`, which is assigned to a variable with the name given by\n",
    "the `output.var` chunk option. For example:"
   ]
  },
  {
   "cell_type": "code",
   "execution_count": null,
   "id": "02641a18",
   "metadata": {
    "attributes": {
     "classes": [
      "default"
     ],
     "id": ""
    }
   },
   "outputs": [],
   "source": [
    "```{stan, output.var=\"model\"}\n",
    "// Stan model code\n",
    "```\n",
    "\n",
    "```{r}\n",
    "rstan::sampling(model)\n",
    "```"
   ]
  },
  {
   "cell_type": "markdown",
   "id": "35dfde86",
   "metadata": {},
   "source": [
    "CmdStanR provides a replacement engine, which can be registered as follows:"
   ]
  },
  {
   "cell_type": "code",
   "execution_count": null,
   "id": "b18ee9cb",
   "metadata": {},
   "outputs": [],
   "source": [
    "%%R\n",
    "library(cmdstanr)\n",
    "check_cmdstan_toolchain(fix = TRUE, quiet = TRUE)\n",
    "\n",
    "register_knitr_engine()"
   ]
  },
  {
   "cell_type": "markdown",
   "id": "1752879b",
   "metadata": {},
   "source": [
    "By default, this overrides knitr's built-in `stan` engine so that all `stan`\n",
    "chunks are processed with CmdStanR, not RStan. Of course, this also means that\n",
    "the variable specified by `output.var` will no longer be a `stanmodel` object,\n",
    "but instead a `CmdStanModel` object, so the code above would look like this:"
   ]
  },
  {
   "cell_type": "code",
   "execution_count": null,
   "id": "8546be9e",
   "metadata": {
    "attributes": {
     "classes": [
      "default"
     ],
     "id": ""
    }
   },
   "outputs": [],
   "source": [
    "```{stan, output.var=\"model\"}\n",
    "// Stan model code\n",
    "```\n",
    "\n",
    "```{r}\n",
    "model$sample()\n",
    "```"
   ]
  },
  {
   "cell_type": "markdown",
   "id": "d0202af4",
   "metadata": {},
   "source": [
    "## Example"
   ]
  },
  {
   "cell_type": "code",
   "execution_count": null,
   "id": "5d04ceb8",
   "metadata": {
    "attributes": {
     "classes": [
      "stan"
     ],
     "id": ""
    }
   },
   "outputs": [],
   "source": [
    "// This stan chunk results in a CmdStanModel object called \"ex1\"\n",
    "parameters {\n",
    "  array[2] real y;\n",
    "}\n",
    "model {\n",
    "  y[1] ~ normal(0, 1);\n",
    "  y[2] ~ double_exponential(0, 2);\n",
    "}"
   ]
  },
  {
   "cell_type": "code",
   "execution_count": null,
   "id": "49c9105c",
   "metadata": {},
   "outputs": [],
   "source": [
    "%%R\n",
    "ex1$print()"
   ]
  },
  {
   "cell_type": "code",
   "execution_count": null,
   "id": "49c1150e",
   "metadata": {},
   "outputs": [],
   "source": [
    "%%R\n",
    "fit <- ex1$sample(\n",
    "  refresh = 0,\n",
    "  seed = 42L\n",
    ")\n",
    "\n",
    "print(fit)"
   ]
  },
  {
   "cell_type": "markdown",
   "id": "da92b61f",
   "metadata": {},
   "source": [
    "## Caching chunks\n",
    "\n",
    "Use `cache=TRUE` chunk option to avoid re-compiling the Stan model code every\n",
    "time the R Markdown is knit/rendered.\n",
    "\n",
    "You can find the Stan model file and the compiled executable in the document's\n",
    "cache directory.\n",
    "\n",
    "## Using RStan and CmdStanR engines side-by-side\n",
    "\n",
    "While the default behavior is to override the built-in `stan` engine because the\n",
    "assumption is that the user is probably not using both RStan and CmdStanR in the\n",
    "same document or project, the option to use both exists. When registering\n",
    "CmdStanR's knitr engine, set `override = FALSE` to register the engine as a\n",
    "`cmdstan` engine:"
   ]
  },
  {
   "cell_type": "code",
   "execution_count": null,
   "id": "a23075e4",
   "metadata": {},
   "outputs": [],
   "source": [
    "%%R\n",
    "register_knitr_engine(override = FALSE)"
   ]
  },
  {
   "cell_type": "markdown",
   "id": "eaf07ea3",
   "metadata": {},
   "source": [
    "This will cause `stan` chunks to be processed by knitr's built-in, RStan-based\n",
    "engine and only use CmdStanR's knitr engine for `cmdstan` chunks:"
   ]
  },
  {
   "cell_type": "code",
   "execution_count": null,
   "id": "353b4da6",
   "metadata": {
    "attributes": {
     "classes": [
      "default"
     ],
     "id": ""
    }
   },
   "outputs": [],
   "source": [
    "```{stan, output.var=\"model_obj1\"}\n",
    "// Results in a stanmodel object from RStan\n",
    "```\n",
    "\n",
    "```{r}\n",
    "rstan::sampling(model_obj1)\n",
    "```\n",
    "\n",
    "```{cmdstan, output.var=\"model_obj2\"}\n",
    "// Results in a CmdStanModel object from CmdStanR\n",
    "```\n",
    "\n",
    "```{r}\n",
    "model_obj2$sample()\n",
    "```"
   ]
  },
  {
   "cell_type": "markdown",
   "id": "4880bb0b",
   "metadata": {},
   "source": [
    "## Running interactively\n",
    "\n",
    "When running chunks interactively in RStudio (e.g. when using\n",
    "[R Notebooks](https://bookdown.org/yihui/rmarkdown/notebook.html)), it has been\n",
    "observed that the built-in, RStan-based engine is used for `stan` chunks even\n",
    "when CmdStanR's engine has been registered in the session as the engine for\n",
    "`stan`. As a workaround, when running chunks *interactively*, it is recommended\n",
    "to use the `override = FALSE` option and change `stan` chunks to be `cmdstan`\n",
    "chunks.\n",
    "\n",
    "Do not worry: if the template you use supports syntax highlighting for the Stan\n",
    "language, that syntax highlighting will be applied to `cmdstan` chunks when the\n",
    "document is knit/rendered."
   ]
  }
 ],
 "metadata": {},
 "nbformat": 4,
 "nbformat_minor": 5
}
