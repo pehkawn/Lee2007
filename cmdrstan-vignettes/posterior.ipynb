{
 "cells": [
  {
   "cell_type": "markdown",
   "id": "40c1e434",
   "metadata": {},
   "source": [
    "---\n",
    "title: \"Working with Posteriors\"\n",
    "output:\n",
    "  rmarkdown::html_vignette:\n",
    "    toc: true\n",
    "    toc_depth: 3\n",
    "params:\n",
    "  EVAL: !r identical(Sys.getenv(\"NOT_CRAN\"), \"true\")\n",
    "vignette: >\n",
    "  %\\VignetteIndexEntry{Working with Posteriors}\n",
    "  %\\VignetteEngine{knitr::rmarkdown}\n",
    "  %\\VignetteEncoding{UTF-8}\n",
    "---\n",
    "\n",
    "\n",
    "\n",
    "## Summary statistics\n",
    "\n",
    "We can easily customize the summary statistics reported by `$summary()` and `$print()`."
   ]
  },
  {
   "cell_type": "code",
   "execution_count": null,
   "id": "3bce6db0",
   "metadata": {},
   "outputs": [],
   "source": [
    "%%R\n",
    "fit <- cmdstanr::cmdstanr_example(\"schools\", method = \"sample\")\n",
    "fit$summary()"
   ]
  },
  {
   "cell_type": "markdown",
   "id": "646b5be8",
   "metadata": {},
   "source": [
    "By default all variables are summaries with the follow functions:"
   ]
  },
  {
   "cell_type": "code",
   "execution_count": null,
   "id": "11b014e3",
   "metadata": {},
   "outputs": [],
   "source": [
    "%%R\n",
    "posterior::default_summary_measures()"
   ]
  },
  {
   "cell_type": "markdown",
   "id": "3b139a9d",
   "metadata": {},
   "source": [
    "To change the variables summarized, we use the variables argument"
   ]
  },
  {
   "cell_type": "code",
   "execution_count": null,
   "id": "d1fb3689",
   "metadata": {},
   "outputs": [],
   "source": [
    "%%R\n",
    "fit$summary(variables = c(\"mu\", \"tau\"))"
   ]
  },
  {
   "cell_type": "markdown",
   "id": "7733f7d2",
   "metadata": {},
   "source": [
    "We can additionally change which functions are used"
   ]
  },
  {
   "cell_type": "code",
   "execution_count": null,
   "id": "a71c0082",
   "metadata": {},
   "outputs": [],
   "source": [
    "%%R\n",
    "fit$summary(variables = c(\"mu\", \"tau\"), mean, sd)"
   ]
  },
  {
   "cell_type": "markdown",
   "id": "176f12c1",
   "metadata": {},
   "source": [
    "To summarize all variables with non-default functions, it is necessary to set explicitly set the variables argument, either to `NULL` or the full vector of variable names."
   ]
  },
  {
   "cell_type": "code",
   "execution_count": null,
   "id": "cde0563c",
   "metadata": {},
   "outputs": [],
   "source": [
    "%%R\n",
    "fit$metadata()$model_params\n",
    "fit$summary(variables = NULL, \"mean\", \"median\")"
   ]
  },
  {
   "cell_type": "markdown",
   "id": "69eb4a60",
   "metadata": {},
   "source": [
    "Summary functions can be specified by character string, function, or using a formula (or anything else supported by [rlang::as_function]). If these arguments are named, those names will be used in the tibble output. If the summary results are named they will take precedence."
   ]
  },
  {
   "cell_type": "code",
   "execution_count": null,
   "id": "bc31e2e1",
   "metadata": {},
   "outputs": [],
   "source": [
    "%%R\n",
    "my_sd <- function(x) c(My_SD = sd(x))\n",
    "fit$summary(\n",
    "  c(\"mu\", \"tau\"), \n",
    "  MEAN = mean, \n",
    "  \"median\",\n",
    "  my_sd,\n",
    "  ~quantile(.x, probs = c(0.1, 0.9)),\n",
    "  Minimum = function(x) min(x)\n",
    ")        "
   ]
  },
  {
   "cell_type": "markdown",
   "id": "d2b9ca95",
   "metadata": {},
   "source": [
    "Arguments to all summary functions can also be specified with `.args`."
   ]
  },
  {
   "cell_type": "code",
   "execution_count": null,
   "id": "a6a8a817",
   "metadata": {},
   "outputs": [],
   "source": [
    "%%R\n",
    "fit$summary(c(\"mu\", \"tau\"), quantile, .args = list(probs = c(0.025, .05, .95, .975)))"
   ]
  },
  {
   "cell_type": "markdown",
   "id": "23af02a0",
   "metadata": {},
   "source": [
    "The summary functions are applied to the array of sample values, with dimension `iter_sampling`x`chains`."
   ]
  },
  {
   "cell_type": "code",
   "execution_count": null,
   "id": "4f762dd4",
   "metadata": {},
   "outputs": [],
   "source": [
    "%%R\n",
    "fit$summary(variables = NULL, dim, colMeans)"
   ]
  },
  {
   "cell_type": "markdown",
   "id": "878c07b7",
   "metadata": {},
   "source": [
    "For this reason users may have unexpected results if they use `stats::var()` directly, as it will return a covariance matrix. An alternative is the `distributional::variance()` function, \n",
    "which can also be accessed via `posterior::variance()`."
   ]
  },
  {
   "cell_type": "code",
   "execution_count": null,
   "id": "ee009d04",
   "metadata": {},
   "outputs": [],
   "source": [
    "%%R\n",
    "fit$summary(c(\"mu\", \"tau\"), posterior::variance, ~var(as.vector(.x)))"
   ]
  },
  {
   "cell_type": "markdown",
   "id": "f1df07be",
   "metadata": {},
   "source": [
    "Summary functions need not be numeric, but these won't work with `$print()`."
   ]
  },
  {
   "cell_type": "code",
   "execution_count": null,
   "id": "1096ee90",
   "metadata": {},
   "outputs": [],
   "source": [
    "%%R\n",
    "strict_pos <- function(x) if (all(x > 0)) \"yes\" else \"no\"\n",
    "fit$summary(variables = NULL, \"Strictly Positive\" = strict_pos)\n",
    "# fit$print(variables = NULL, \"Strictly Positive\" = strict_pos)"
   ]
  },
  {
   "cell_type": "markdown",
   "id": "596f78dc",
   "metadata": {},
   "source": [
    "For more information, see `posterior::summarise_draws()`, which is called by `$summary()`.\n",
    "\n",
    "\n",
    "## Extracting posterior draws/samples\n",
    "\n",
    "The [`$draws()`](https://mc-stan.org/cmdstanr/reference/fit-method-draws.html)\n",
    "method can be used to extract the posterior draws in formats provided by the\n",
    "[**posterior**](https://mc-stan.org/posterior/) package. Here we demonstrate\n",
    "only the `draws_array` and `draws_df` formats, but the **posterior** package\n",
    "supports other useful formats as well."
   ]
  },
  {
   "cell_type": "code",
   "execution_count": null,
   "id": "92f83c83",
   "metadata": {},
   "outputs": [],
   "source": [
    "%%R\n",
    "# default is a 3-D draws_array object from the posterior package\n",
    "# iterations x chains x variables\n",
    "draws_arr <- fit$draws() # or format=\"array\"\n",
    "str(draws_arr)\n",
    "\n",
    "# draws x variables data frame\n",
    "draws_df <- fit$draws(format = \"df\")\n",
    "str(draws_df)\n",
    "print(draws_df)"
   ]
  },
  {
   "cell_type": "markdown",
   "id": "ba5a9fee",
   "metadata": {},
   "source": [
    "To convert an existing draws object to a different format use the\n",
    "`posterior::as_draws_*()` functions.\n",
    "\n",
    "To manipulate the `draws` objects use the various methods described in the\n",
    "posterior package [vignettes](https://mc-stan.org/posterior/articles/index.html)\n",
    "and [documentation](https://mc-stan.org/posterior/reference/index.html)."
   ]
  }
 ],
 "metadata": {},
 "nbformat": 4,
 "nbformat_minor": 5
}
