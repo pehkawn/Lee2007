{
 "cells": [
  {
   "cell_type": "markdown",
   "id": "3d5f9165",
   "metadata": {},
   "source": [
    "---\n",
    "title: \"Profiling Stan programs with CmdStanR\"\n",
    "author: \"Rok Češnovar, Jonah Gabry and Ben Bales\"\n",
    "output:\n",
    "  rmarkdown::html_vignette:\n",
    "    toc: true\n",
    "    toc_depth: 4\n",
    "params:\n",
    "  EVAL: !r identical(Sys.getenv(\"NOT_CRAN\"), \"true\")\n",
    "vignette: >\n",
    "  %\\VignetteIndexEntry{Profiling Stan programs with CmdStanR}\n",
    "  %\\VignetteEngine{knitr::rmarkdown}\n",
    "  %\\VignetteEncoding{UTF-8}\n",
    "---\n",
    "\n",
    "\n",
    "\n",
    "## Introduction\n",
    "\n",
    "This vignette demonstrates how to use the new profiling functionality\n",
    "introduced in CmdStan 2.26.0.\n",
    "\n",
    "Profiling identifies which parts of a Stan program are taking the longest time\n",
    "to run and is therefore a useful guide when working on optimizing the\n",
    "performance of a model.\n",
    "\n",
    "However, be aware that the statistical assumptions that go into a model are\n",
    "the most important factors in overall model performance. It is often not\n",
    "possible to make up for model problems with just brute force computation. For\n",
    "ideas on how to address performance of your model from a statistical\n",
    "perspective, see Gelman (2020)."
   ]
  },
  {
   "cell_type": "code",
   "execution_count": null,
   "id": "e96e3b48",
   "metadata": {},
   "outputs": [],
   "source": [
    "%%R\n",
    "library(cmdstanr)\n",
    "check_cmdstan_toolchain(fix = TRUE, quiet = TRUE)"
   ]
  },
  {
   "cell_type": "markdown",
   "id": "fc39149e",
   "metadata": {},
   "source": [
    "## Adding profiling statements to a Stan program\n",
    "\n",
    "Consider a simple logistic regression with parameters `alpha` and `beta`,\n",
    "covariates `X`, and outcome `y`."
   ]
  },
  {
   "cell_type": "code",
   "execution_count": null,
   "id": "6114ac41",
   "metadata": {},
   "outputs": [],
   "source": [
    "data {\n",
    "  int<lower=1> k;\n",
    "  int<lower=0> n;\n",
    "  matrix[n, k] X;\n",
    "  array[n] int y;\n",
    "}\n",
    "parameters {\n",
    "  vector[k] beta;\n",
    "  real alpha;\n",
    "}\n",
    "model {\n",
    "  beta ~ std_normal();\n",
    "  alpha ~ std_normal();\n",
    "\n",
    "  y ~ bernoulli_logit(X * beta + alpha);\n",
    "}"
   ]
  },
  {
   "cell_type": "markdown",
   "id": "c0c24272",
   "metadata": {},
   "source": [
    "A simple question is how much time do the prior calculations take compared\n",
    "against the likelihood? To answer this we surround the prior and likelihood\n",
    "calculations with `profile` statements."
   ]
  },
  {
   "cell_type": "code",
   "execution_count": null,
   "id": "3a1228d4",
   "metadata": {},
   "outputs": [],
   "source": [
    "profile(\"priors\") {\n",
    "  target += std_normal_lpdf(beta);\n",
    "  target += std_normal_lpdf(alpha);\n",
    "}\n",
    "profile(\"likelihood\") {\n",
    "  target += bernoulli_logit_lpmf(y | X * beta + alpha);\n",
    "}"
   ]
  },
  {
   "cell_type": "markdown",
   "id": "7386d5ac",
   "metadata": {},
   "source": [
    "In general we recommend using a separate `.stan` file, but for convenience in\n",
    "this vignette we'll write the Stan program as a string and use\n",
    "`write_stan_file()` to write it to a temporary file."
   ]
  },
  {
   "cell_type": "code",
   "execution_count": null,
   "id": "1bb0cc4f",
   "metadata": {},
   "outputs": [],
   "source": [
    "%%R\n",
    "profiling_bernoulli_logit <- write_stan_file('\n",
    "data {\n",
    "  int<lower=1> k;\n",
    "  int<lower=0> n;\n",
    "  matrix[n, k] X;\n",
    "  array[n] int y;\n",
    "}\n",
    "parameters {\n",
    "  vector[k] beta;\n",
    "  real alpha;\n",
    "}\n",
    "model {\n",
    "  profile(\"priors\") {\n",
    "    target += std_normal_lpdf(beta);\n",
    "    target += std_normal_lpdf(alpha);\n",
    "  }\n",
    "  profile(\"likelihood\") {\n",
    "    target += bernoulli_logit_lpmf(y | X * beta + alpha);\n",
    "  }\n",
    "}\n",
    "')"
   ]
  },
  {
   "cell_type": "markdown",
   "id": "c6b3e6ec",
   "metadata": {},
   "source": [
    "We can then run the model as usual and Stan will collect the profiling\n",
    "information for any sections with `profile` statements."
   ]
  },
  {
   "cell_type": "code",
   "execution_count": null,
   "id": "4a7802c8",
   "metadata": {},
   "outputs": [],
   "source": [
    "%%R\n",
    "# Compile the model\n",
    "model <- cmdstan_model(profiling_bernoulli_logit)\n",
    "\n",
    "# Generate some fake data\n",
    "n <- 1000\n",
    "k <- 20\n",
    "X <- matrix(rnorm(n * k), ncol = k)\n",
    "\n",
    "y <- 3 * X[,1] - 2 * X[,2] + 1\n",
    "p <- runif(n)\n",
    "y <- ifelse(p < (1 / (1 + exp(-y))), 1, 0)\n",
    "stan_data <- list(k = ncol(X), n = nrow(X), y = y, X = X)\n",
    "\n",
    "# Run one chain of the model\n",
    "fit <- model$sample(data = stan_data, chains = 1)"
   ]
  },
  {
   "cell_type": "markdown",
   "id": "22ff0c86",
   "metadata": {},
   "source": [
    "## Accessing the profiling information from R\n",
    "\n",
    "The raw profiling information can then be accessed with the `$profiles()`\n",
    "method, which returns a list containing one data frame per chain (profiles\n",
    "across multiple chains are not automatically aggregated). Details on the column\n",
    "names are available in the\n",
    "[CmdStan documentation](https://mc-stan.org/docs/2_26/cmdstan-guide/stan-csv.html#profiling-csv-output-file)."
   ]
  },
  {
   "cell_type": "code",
   "execution_count": null,
   "id": "7c07e7b7",
   "metadata": {},
   "outputs": [],
   "source": [
    "%%R\n",
    "fit$profiles()"
   ]
  },
  {
   "cell_type": "markdown",
   "id": "00cc756c",
   "metadata": {},
   "source": [
    "The `total_time` column is the total time spent inside a given profile\n",
    "statement. It is clear that the vast majority of time is spent in the likelihood\n",
    "function.\n",
    "\n",
    "## Comparing to a faster version of the model\n",
    "\n",
    "Stan's specialized glm functions can be used to make models like this faster. In\n",
    "this case the likelihood can be replaced with"
   ]
  },
  {
   "cell_type": "code",
   "execution_count": null,
   "id": "92e36791",
   "metadata": {},
   "outputs": [],
   "source": [
    "target += bernoulli_logit_glm_lpmf(y | X, alpha, beta);"
   ]
  },
  {
   "cell_type": "markdown",
   "id": "ce8a507b",
   "metadata": {},
   "source": [
    "We'll keep the same `profile()` statements so that the profiling information for\n",
    "the new model is collected automatically just like for the previous one."
   ]
  },
  {
   "cell_type": "code",
   "execution_count": null,
   "id": "cff05c93",
   "metadata": {},
   "outputs": [],
   "source": [
    "%%R\n",
    "profiling_bernoulli_logit_glm <- write_stan_file('\n",
    "data {\n",
    "  int<lower=1> k;\n",
    "  int<lower=0> n;\n",
    "  matrix[n, k] X;\n",
    "  array[n] int y;\n",
    "}\n",
    "parameters {\n",
    "  vector[k] beta;\n",
    "  real alpha;\n",
    "}\n",
    "model {\n",
    "  profile(\"priors\") {\n",
    "    target += std_normal_lpdf(beta);\n",
    "    target += std_normal_lpdf(alpha);\n",
    "  }\n",
    "  profile(\"likelihood\") {\n",
    "    target += bernoulli_logit_glm_lpmf(y | X, alpha, beta);\n",
    "  }\n",
    "}\n",
    "')"
   ]
  },
  {
   "cell_type": "code",
   "execution_count": null,
   "id": "0eb1ce97",
   "metadata": {},
   "outputs": [],
   "source": [
    "%%R\n",
    "model_glm <- cmdstan_model(profiling_bernoulli_logit_glm)\n",
    "fit_glm <- model_glm$sample(data = stan_data, chains = 1)"
   ]
  },
  {
   "cell_type": "code",
   "execution_count": null,
   "id": "ce22c28b",
   "metadata": {},
   "outputs": [],
   "source": [
    "%%R\n",
    "fit_glm$profiles()"
   ]
  },
  {
   "cell_type": "markdown",
   "id": "2ec018b9",
   "metadata": {},
   "source": [
    "We can see from the `total_time` column that this is much faster than the\n",
    "previous model.\n",
    "\n",
    "## Per-gradient timings, and memory usage\n",
    "\n",
    "The other columns of the profiling output are documented in the\n",
    "[CmdStan documentation](https://mc-stan.org/docs/2_26/cmdstan-guide/stan-csv.html#profiling-csv-output-file).\n",
    "\n",
    "The timing numbers are broken down by forward pass and reverse pass, and the\n",
    "`chain_stack` and `no_chain_stack` columns contain information about how many\n",
    "autodiff variables were saved in the process of performing a calculation.\n",
    "\n",
    "These numbers are all totals -- times are the total times over the whole\n",
    "calculation, and `chain_stack` counts are similarly the total counts of autodiff\n",
    "variables used over the whole calculation. It is often convenient to have\n",
    "per-gradient calculations (which will be more stable across runs with different\n",
    "seeds). To compute these, use the `autodiff_calls` column."
   ]
  },
  {
   "cell_type": "code",
   "execution_count": null,
   "id": "967fcd8f",
   "metadata": {},
   "outputs": [],
   "source": [
    "%%R\n",
    "profile_chain_1 <- fit$profiles()[[1]]\n",
    "per_gradient_timing <- profile_chain_1$total_time/profile_chain_1$autodiff_calls\n",
    "print(per_gradient_timing) # two elements for the two profile statements in the model"
   ]
  },
  {
   "cell_type": "markdown",
   "id": "f383e0cd",
   "metadata": {},
   "source": [
    "## Accessing and saving the profile files\n",
    "\n",
    "After sampling (or optimization or variational inference) finishes, CmdStan stores\n",
    "the profiling data in CSV files in a temporary location.\n",
    "The paths of the profiling CSV files can be retrieved using `$profile_files()`."
   ]
  },
  {
   "cell_type": "code",
   "execution_count": null,
   "id": "a605c232",
   "metadata": {},
   "outputs": [],
   "source": [
    "%%R\n",
    "fit$profile_files()"
   ]
  },
  {
   "cell_type": "markdown",
   "id": "3a6fd7d8",
   "metadata": {},
   "source": [
    "These can be saved to a more permanent location with the `$save_profile_files()`\n",
    "method."
   ]
  },
  {
   "cell_type": "code",
   "execution_count": null,
   "id": "289012e4",
   "metadata": {},
   "outputs": [],
   "source": [
    "%%R\n",
    "# see ?save_profile_files for info on optional arguments\n",
    "fit$save_profile_files(dir = \"path/to/directory\")"
   ]
  },
  {
   "cell_type": "markdown",
   "id": "04184851",
   "metadata": {},
   "source": [
    "# References\n",
    "\n",
    "Gelman, Andrew, Aki Vehtari, Daniel Simpson, Charles C. Margossian, Bob\n",
    "Carpenter, Yuling Yao, Lauren Kennedy, Jonah Gabry, Paul-Christian Bürkner, and\n",
    "Martin Modrák. 2020. \"Bayesian Workflow.\" https://arxiv.org/abs/2011.01808."
   ]
  }
 ],
 "metadata": {},
 "nbformat": 4,
 "nbformat_minor": 5
}
