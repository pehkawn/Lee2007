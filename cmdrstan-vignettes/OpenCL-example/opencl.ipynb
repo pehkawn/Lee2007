{
 "cells": [
  {
   "cell_type": "markdown",
   "id": "7a9ecee1",
   "metadata": {},
   "source": [
    "# Running Stan on the GPU with OpenCL"
   ]
  },
  {
   "cell_type": "markdown",
   "id": "a549216d",
   "metadata": {},
   "source": [
    "\n",
    "\n",
    "\n",
    "## Introduction\n",
    "\n",
    "This vignette demonstrates how to use the OpenCL capabilities of CmdStan with\n",
    "CmdStanR. The functionality described in this vignette requires CmdStan 2.26.1\n",
    "or newer.\n",
    "\n",
    "As of version 2.26.1, users can expect speedups with OpenCL when using vectorized\n",
    "probability distribution functions (functions with the `_lpdf` or `_lpmf`\n",
    "suffix) and when the input variables contain at least 20,000 elements.\n",
    "\n",
    "The actual speedup for a model will depend on the particular `lpdf/lpmf`\n",
    "functions used and whether the `lpdf/lpmf` functions are the bottlenecks of the\n",
    "model. The more computationally complex the function is, the larger the expected\n",
    "speedup. The biggest speedups are expected when using the specialized GLM\n",
    "functions.\n",
    "\n",
    "In order to establish the bottlenecks in your model we recommend using\n",
    "[profiling](https://mc-stan.org/cmdstanr/articles/profiling.html),\n",
    "which was introduced in Stan version 2.26.0.\n",
    "\n",
    "## OpenCL runtime\n",
    "\n",
    "OpenCL is supported on most modern CPUs and GPUs. In order to use\n",
    "OpenCL in CmdStanR, an OpenCL runtime for the target device must be installed.\n",
    "A guide for the most common devices is available in the CmdStan manual's\n",
    "[chapter on parallelization](https://mc-stan.org/docs/2_26/cmdstan-guide/parallelization.html#opencl).\n",
    "\n",
    "In case of using Windows, CmdStan requires the `OpenCL.lib` to compile the model.\n",
    "If you experience issue compiling the model with OpenCL, run the below script and set\n",
    "`path_to_opencl_lib` to the path to the `OpenCL.lib` file on your system.\n",
    "If you are using CUDA, the path should be similar to the one listed here."
   ]
  },
  {
   "cell_type": "code",
   "execution_count": 18,
   "id": "b8892f01",
   "metadata": {
    "vscode": {
     "languageId": "r"
    }
   },
   "outputs": [],
   "source": [
    "# path_to_opencl_lib <- \"C:/Program Files/NVIDIA GPU Computing Toolkit/CUDA/v11.5/lib/x64\"\n",
    "# cpp_options = list(\n",
    "#   paste0(\"LDFLAGS+= -L\\\"\",path_to_opencl_lib,\"\\\" -lOpenCL\")\n",
    "# )\n",
    "\n",
    "# cmdstanr::cmdstan_make_local(cpp_options = cpp_options)\n",
    "# cmdstanr::rebuild_cmdstan()"
   ]
  },
  {
   "cell_type": "markdown",
   "id": "85e38bf1",
   "metadata": {},
   "source": [
    "## Compiling a model with OpenCL\n",
    "\n",
    "By default, models in CmdStanR are compiled *without* OpenCL support. Once OpenCL\n",
    "support is enabled, a CmdStan model will make use of OpenCL if the functions\n",
    "in the model support it. Technically no changes to a model are required to\n",
    "support OpenCL since the choice of using OpenCL is handled by the compiler,\n",
    "but it can still be useful to rewrite a model to be more OpenCL-friendly by\n",
    "using vectorization as much as possible when using probability distributions.\n",
    "\n",
    "Consider a simple logistic regression with parameters `alpha` and `beta`,\n",
    "covariates `X`, and outcome `y`."
   ]
  },
  {
   "cell_type": "code",
   "execution_count": 3,
   "id": "f1ebe467",
   "metadata": {
    "vscode": {
     "languageId": "r"
    }
   },
   "outputs": [
    {
     "name": "stderr",
     "output_type": "stream",
     "text": [
      "This is cmdstanr version 0.6.1\n",
      "\n",
      "- CmdStanR documentation and vignettes: mc-stan.org/cmdstanr\n",
      "\n",
      "- CmdStan path: /home/pal_bjartan/.cmdstan/cmdstan-2.33.1\n",
      "\n",
      "- CmdStan version: 2.33.1\n",
      "\n"
     ]
    }
   ],
   "source": [
    "source(\"../../.Rprofile\")"
   ]
  },
  {
   "cell_type": "code",
   "execution_count": 9,
   "id": "7cd7a828",
   "metadata": {
    "vscode": {
     "languageId": "r"
    }
   },
   "outputs": [],
   "source": [
    "cat(\"\n",
    "  data {\n",
    "    int<lower=1> k;\n",
    "    int<lower=0> n;\n",
    "    matrix[n, k] X;\n",
    "    array[n] int y;\n",
    "  }\n",
    "  parameters {\n",
    "    vector[k] beta;\n",
    "    real alpha;\n",
    "  }\n",
    "  model {\n",
    "    target += std_normal_lpdf(beta);\n",
    "    target += std_normal_lpdf(alpha);\n",
    "    target += bernoulli_logit_glm_lpmf(y | X, alpha, beta);\n",
    "  }\",\n",
    "  file = \"opencl-model.stan\"\n",
    ")"
   ]
  },
  {
   "cell_type": "markdown",
   "id": "161fc36f",
   "metadata": {},
   "source": [
    "Some fake data will be useful to run this model:"
   ]
  },
  {
   "cell_type": "code",
   "execution_count": 5,
   "id": "29721561",
   "metadata": {
    "vscode": {
     "languageId": "r"
    }
   },
   "outputs": [],
   "source": [
    "# Generate some fake data\n",
    "n <- 250000\n",
    "k <- 20\n",
    "X <- matrix(rnorm(n * k), ncol = k)\n",
    "y <- rbinom(n, size = 1, prob = plogis(3 * X[,1] - 2 * X[,2] + 1))\n",
    "mdata <- list(k = k, n = n, y = y, X = X)"
   ]
  },
  {
   "cell_type": "markdown",
   "id": "9b254551",
   "metadata": {},
   "source": [
    "In this model, most of the computation will be handled by the `bernoulli_logit_glm_lpmf` function. Because this is a supported GPU function, it should be possible to accelerate it with OpenCL. Check [here](http://mc-stan.org/math/md_doxygen_2parallelism__support_2opencl__support.html) for a list of functions with OpenCL support.\n",
    "\n",
    "To build the model with OpenCL support, add\n",
    "`cpp_options = list(stan_opencl = TRUE)` at the compilation step."
   ]
  },
  {
   "cell_type": "code",
   "execution_count": 10,
   "id": "b035e444",
   "metadata": {
    "vscode": {
     "languageId": "r"
    }
   },
   "outputs": [
    {
     "name": "stderr",
     "output_type": "stream",
     "text": [
      "Warning message in readLines(stan_file):\n",
      "“incomplete final line found on 'opencl-model.stan'”\n"
     ]
    }
   ],
   "source": [
    "# Compile the model with STAN_OPENCL=TRUE\n",
    "mod_cl <- cmdstan_model(\"opencl-model.stan\",\n",
    "                        cpp_options = list(stan_opencl = TRUE))"
   ]
  },
  {
   "cell_type": "markdown",
   "id": "136e9d8a",
   "metadata": {},
   "source": [
    "## Running models with OpenCL\n",
    "\n",
    "Running models with OpenCL requires specifying the OpenCL platform and device\n",
    "on which to run the model (there can be multiple). If the system has one GPU\n",
    "and no OpenCL CPU runtime, the platform and device IDs of the GPU are typically\n",
    "both `0`, but the `clinfo` tool can be used to figure out for sure which devices\n",
    "are available.\n",
    "\n",
    "On an Ubuntu system with both CPU and GPU OpenCL support, `clinfo -l` outputs:\n",
    "``````\n",
    "Platform #0: AMD Accelerated Parallel Processing\n",
    " `-- Device #0: gfx906+sram-ecc\n",
    "Platform #1: Intel(R) CPU Runtime for OpenCL(TM) Applications\n",
    " `-- Device #0: Intel(R) Core(TM) i7-4790 CPU @ 3.60GHz\n",
    " ``````\n",
    "On this system the GPU is platform ID 0 and device ID 0, while the CPU is\n",
    "platform ID 1, device ID 0. These can be specified with the `opencl_ids`\n",
    "argument when running a model. The `opencl_ids` is  supplied as a vector of\n",
    "length 2, where the first element is the platform ID and the second argument is\n",
    "the device ID."
   ]
  },
  {
   "cell_type": "code",
   "execution_count": 11,
   "id": "ab2cce77",
   "metadata": {
    "vscode": {
     "languageId": "r"
    }
   },
   "outputs": [
    {
     "data": {
      "text/html": [
       "<table class=\"dataframe\">\n",
       "<caption>A matrix: 2 × 2 of type chr</caption>\n",
       "<tbody>\n",
       "\t<tr><td>Platform #0: NVIDIA CUDA                          </td><td>Platform #1: Portable Computing Language                  </td></tr>\n",
       "\t<tr><td> `-- Device #0: NVIDIA GeForce RTX 3070 Laptop GPU</td><td> `-- Device #0: cpu-AMD Ryzen 7 5800H with Radeon Graphics</td></tr>\n",
       "</tbody>\n",
       "</table>\n"
      ],
      "text/latex": [
       "A matrix: 2 × 2 of type chr\n",
       "\\begin{tabular}{ll}\n",
       "\t Platform \\#0: NVIDIA CUDA                           & Platform \\#1: Portable Computing Language                  \\\\\n",
       "\t  `-- Device \\#0: NVIDIA GeForce RTX 3070 Laptop GPU &  `-- Device \\#0: cpu-AMD Ryzen 7 5800H with Radeon Graphics\\\\\n",
       "\\end{tabular}\n"
      ],
      "text/markdown": [
       "\n",
       "A matrix: 2 × 2 of type chr\n",
       "\n",
       "| Platform #0: NVIDIA CUDA                           | Platform #1: Portable Computing Language                   |\n",
       "|  `-- Device #0: NVIDIA GeForce RTX 3070 Laptop GPU |  `-- Device #0: cpu-AMD Ryzen 7 5800H with Radeon Graphics |\n",
       "\n"
      ],
      "text/plain": [
       "     [,1]                                               [,2]                                                      \n",
       "[1,] Platform #0: NVIDIA CUDA                           Platform #1: Portable Computing Language                  \n",
       "[2,]  `-- Device #0: NVIDIA GeForce RTX 3070 Laptop GPU  `-- Device #0: cpu-AMD Ryzen 7 5800H with Radeon Graphics"
      ]
     },
     "metadata": {},
     "output_type": "display_data"
    }
   ],
   "source": [
    "system2(\"clinfo\", args = \"-l\", stdout = TRUE) %>% matrix(2)"
   ]
  },
  {
   "cell_type": "code",
   "execution_count": 12,
   "id": "304cdb2b",
   "metadata": {
    "vscode": {
     "languageId": "r"
    }
   },
   "outputs": [
    {
     "name": "stdout",
     "output_type": "stream",
     "text": [
      "Running MCMC with 4 parallel chains...\n",
      "\n",
      "Chain 1 finished in 69.5 seconds.\n",
      "Chain 2 finished in 69.5 seconds.\n",
      "Chain 3 finished in 69.9 seconds.\n",
      "Chain 4 finished in 70.0 seconds.\n",
      "\n",
      "All 4 chains finished successfully.\n",
      "Mean chain execution time: 69.7 seconds.\n",
      "Total execution time: 71.4 seconds.\n",
      "\n"
     ]
    }
   ],
   "source": [
    "fit_cl <- mod_cl$sample(\n",
    "    data = mdata, \n",
    "    chains = 4, \n",
    "    parallel_chains = 4,\n",
    "    opencl_ids = c(0, 0), \n",
    "    refresh = 0\n",
    ")"
   ]
  },
  {
   "cell_type": "markdown",
   "id": "3b66b6f9",
   "metadata": {},
   "source": [
    "We'll also run a version without OpenCL and compare the run times."
   ]
  },
  {
   "cell_type": "code",
   "execution_count": 13,
   "id": "564bc81e",
   "metadata": {
    "vscode": {
     "languageId": "r"
    }
   },
   "outputs": [
    {
     "data": {
      "text/html": [
       "16"
      ],
      "text/latex": [
       "16"
      ],
      "text/markdown": [
       "16"
      ],
      "text/plain": [
       "[1] 16"
      ]
     },
     "metadata": {},
     "output_type": "display_data"
    }
   ],
   "source": [
    "getOption(\"mc.cores\")"
   ]
  },
  {
   "cell_type": "code",
   "execution_count": 14,
   "id": "22b711b4",
   "metadata": {
    "vscode": {
     "languageId": "r"
    }
   },
   "outputs": [
    {
     "name": "stderr",
     "output_type": "stream",
     "text": [
      "Warning message in readLines(stan_file):\n",
      "“incomplete final line found on 'opencl-model.stan'”\n"
     ]
    },
    {
     "name": "stdout",
     "output_type": "stream",
     "text": [
      "Running MCMC with 4 chains, at most 16 in parallel...\n",
      "\n",
      "Chain 1 finished in 236.4 seconds.\n",
      "Chain 2 finished in 240.8 seconds.\n",
      "Chain 4 finished in 241.7 seconds.\n",
      "Chain 3 finished in 242.1 seconds.\n",
      "\n",
      "All 4 chains finished successfully.\n",
      "Mean chain execution time: 240.2 seconds.\n",
      "Total execution time: 243.7 seconds.\n",
      "\n"
     ]
    }
   ],
   "source": [
    "# no OpenCL version\n",
    "mod <- cmdstan_model(\"opencl-model.stan\", force_recompile = TRUE)\n",
    "fit_cpu <- mod$sample(data = mdata, chains = 4, parallel_chains = parallel::detectCores(), refresh = 0)"
   ]
  },
  {
   "cell_type": "markdown",
   "id": "2113c121",
   "metadata": {},
   "source": [
    "The speedup of the OpenCL model is:"
   ]
  },
  {
   "cell_type": "code",
   "execution_count": 15,
   "id": "e7e0209a",
   "metadata": {
    "vscode": {
     "languageId": "r"
    }
   },
   "outputs": [
    {
     "data": {
      "text/html": [
       "3.414567422592"
      ],
      "text/latex": [
       "3.414567422592"
      ],
      "text/markdown": [
       "3.414567422592"
      ],
      "text/plain": [
       "[1] 3.414567"
      ]
     },
     "metadata": {},
     "output_type": "display_data"
    }
   ],
   "source": [
    "fit_cpu$time()$total / fit_cl$time()$total"
   ]
  },
  {
   "cell_type": "markdown",
   "id": "76da74a7",
   "metadata": {},
   "source": [
    "This speedup will be determined by the particular GPU/CPU used, the input\n",
    "problem sizes (data as well as parameters) and if the model uses functions that\n",
    "can be run on the GPU or other OpenCL devices."
   ]
  }
 ],
 "metadata": {
  "kernelspec": {
   "display_name": "R",
   "language": "R",
   "name": "ir"
  },
  "language_info": {
   "codemirror_mode": "r",
   "file_extension": ".r",
   "mimetype": "text/x-r-source",
   "name": "R",
   "pygments_lexer": "r",
   "version": "4.3.1"
  }
 },
 "nbformat": 4,
 "nbformat_minor": 5
}
