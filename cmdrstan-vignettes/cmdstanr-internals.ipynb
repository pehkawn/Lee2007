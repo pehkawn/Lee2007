{
 "cells": [
  {
   "cell_type": "markdown",
   "id": "fe0b6130",
   "metadata": {},
   "source": [
    "---\n",
    "title: \"How does CmdStanR work?\"\n",
    "author: \"Jonah Gabry and Rok Češnovar\"\n",
    "output:\n",
    "  rmarkdown::html_vignette:\n",
    "    toc: true\n",
    "    toc_depth: 4\n",
    "params:\n",
    "  EVAL: !r identical(Sys.getenv(\"NOT_CRAN\"), \"true\")\n",
    "vignette: >\n",
    "  %\\VignetteIndexEntry{How does CmdStanR work?}\n",
    "  %\\VignetteEngine{knitr::rmarkdown}\n",
    "  %\\VignetteEncoding{UTF-8}\n",
    "---\n",
    "\n",
    "\n",
    "\n",
    "## Introduction\n",
    "\n",
    "This vignette is intended to be read after the [_Getting started with CmdStanR_](http://mc-stan.org/cmdstanr/articles/cmdstanr.html)\n",
    "vignette. Please read that first for important background. In this document we\n",
    "provide additional details about compiling models, passing in data, and how\n",
    "CmdStan output is saved and read back into R.\n",
    "\n",
    "We will only use the `$sample()` method in examples, but all model fitting\n",
    "methods work in a similar way under the hood."
   ]
  },
  {
   "cell_type": "code",
   "execution_count": null,
   "id": "d374d8a8",
   "metadata": {},
   "outputs": [],
   "source": [
    "%%R\n",
    "library(cmdstanr)\n",
    "check_cmdstan_toolchain(fix = TRUE, quiet = TRUE)"
   ]
  },
  {
   "cell_type": "markdown",
   "id": "52c52d71",
   "metadata": {},
   "source": [
    "## Compilation\n",
    "\n",
    "### Immediate compilation\n",
    "\n",
    "The `cmdstan_model()` function creates a new `CmdStanModel` object. The\n",
    "`CmdStanModel` object stores the path to a Stan program as well as the\n",
    "path to a compiled executable."
   ]
  },
  {
   "cell_type": "code",
   "execution_count": null,
   "id": "d19c9548",
   "metadata": {},
   "outputs": [],
   "source": [
    "%%R\n",
    "stan_file <- file.path(cmdstan_path(), \"examples\", \"bernoulli\", \"bernoulli.stan\")\n",
    "mod <- cmdstan_model(stan_file)\n",
    "mod$print()\n",
    "mod$stan_file()\n",
    "mod$exe_file()"
   ]
  },
  {
   "cell_type": "markdown",
   "id": "cca0bcad",
   "metadata": {},
   "source": [
    "Subsequently, if you create a `CmdStanModel` object from the same Stan file\n",
    "then compilation will be skipped (assuming the file hasn't changed)."
   ]
  },
  {
   "cell_type": "code",
   "execution_count": null,
   "id": "3b36b8f5",
   "metadata": {},
   "outputs": [],
   "source": [
    "%%R\n",
    "mod <- cmdstan_model(stan_file)"
   ]
  },
  {
   "cell_type": "markdown",
   "id": "4c147c5e",
   "metadata": {},
   "source": [
    "Internally, `cmdstan_model()` first creates the `CmdStanModel` object from\n",
    "just the Stan file and then calls its [`$compile()`](http://mc-stan.org/cmdstanr/reference/model-method-compile.html)\n",
    "method. Optional arguments to the `$compile()` method can be passed via `...`."
   ]
  },
  {
   "cell_type": "code",
   "execution_count": null,
   "id": "7b31c549",
   "metadata": {},
   "outputs": [],
   "source": [
    "%%R\n",
    "mod <- cmdstan_model(\n",
    "  stan_file,\n",
    "  force_recompile = TRUE,\n",
    "  include_paths = \"paths/to/directories/with/included/files\",\n",
    "  cpp_options = list(stan_threads = TRUE, STANC2 = TRUE)\n",
    ")"
   ]
  },
  {
   "cell_type": "markdown",
   "id": "964089c9",
   "metadata": {},
   "source": [
    "### Delayed compilation\n",
    "\n",
    "It is also possible to delay compilation when creating the `CmdStanModel` object\n",
    "by specifying `compile=FALSE` and then later calling the `$compile()` method\n",
    "directly."
   ]
  },
  {
   "cell_type": "code",
   "execution_count": null,
   "id": "024a4828",
   "metadata": {},
   "outputs": [],
   "source": [
    "%%R\n",
    "unlink(mod$exe_file())\n",
    "mod <- cmdstan_model(stan_file, compile = FALSE)\n",
    "mod$exe_file() # not yet created\n",
    "mod$compile()\n",
    "mod$exe_file()"
   ]
  },
  {
   "cell_type": "markdown",
   "id": "888d82d7",
   "metadata": {},
   "source": [
    "### Pedantic check\n",
    "\n",
    "If you are using CmdStan version 2.24 or later and CmdStanR version 0.2.1 or\n",
    "later, you can run a pedantic check for your model. CmdStanR will always check\n",
    "that your Stan program does not contain any invalid syntax but with pedantic\n",
    "mode enabled the check will also warn you about other potential issues in your\n",
    "model, for example:\n",
    "\n",
    "- Distribution usages issues: distribution arguments do not match the\n",
    "distribution specification, or some specific distribution is used in an\n",
    "inadvisable way.\n",
    "- Unused parameter: a parameter is defined but does not contribute to target.\n",
    "- Large or small constant in a distribution: very large or very small constants\n",
    "are used as distribution arguments.\n",
    "- Control flow depends on a parameter: branching control flow (like if/else)\n",
    "depends on a parameter value.\n",
    "- Parameter has multiple twiddles: a parameter is on the left-hand side of\n",
    "multiple twiddles (i.e., multiple `~` symbols).\n",
    "- Parameter has zero or multiple priors: a parameter has zero or more than one\n",
    "prior distribution.\n",
    "- Variable is used before assignment: a variable is used before being assigned a\n",
    "value.\n",
    "- Strict or nonsensical parameter bounds: a parameter is given questionable\n",
    "bounds.\n",
    "\n",
    "For the latest information on the checks performed in pedantic mode see the\n",
    "[Pedantic mode chapter](https://mc-stan.org/docs/reference-manual/pedantic-mode.html)\n",
    "in the Stan Reference Manual.\n",
    "\n",
    "Pedantic mode is available when compiling the model or when using the separate\n",
    "`$check_syntax()` method of a `CmdStanModel` object. Internally this corresponds\n",
    "to setting the `stanc` (Stan transpiler) option `warn-pedantic`. Here we\n",
    "demonstrate pedantic mode with a Stan program that is syntactically correct but\n",
    "is missing a lower bound and a prior for a parameter."
   ]
  },
  {
   "cell_type": "code",
   "execution_count": null,
   "id": "9a56431f",
   "metadata": {},
   "outputs": [],
   "source": [
    "%%R\n",
    "stan_file_pedantic <- write_stan_file(\"\n",
    "data {\n",
    "  int N;\n",
    "  array[N] int y;\n",
    "}\n",
    "parameters {\n",
    "  // should have <lower=0> but omitting to demonstrate pedantic mode\n",
    "  real lambda;\n",
    "}\n",
    "model {\n",
    "  y ~ poisson(lambda);\n",
    "}\n",
    "\")"
   ]
  },
  {
   "cell_type": "markdown",
   "id": "832aa778",
   "metadata": {},
   "source": [
    "To turn on pedantic mode at compile time you can set `pedantic=TRUE` in\n",
    "the call to `cmdstan_model()` (or when calling the `$compile()` method directly\n",
    "if using the delayed compilation approach described above)."
   ]
  },
  {
   "cell_type": "code",
   "execution_count": null,
   "id": "78d0bf5f",
   "metadata": {},
   "outputs": [],
   "source": [
    "%%R\n",
    "mod_pedantic <- cmdstan_model(stan_file_pedantic, pedantic = TRUE)"
   ]
  },
  {
   "cell_type": "markdown",
   "id": "e9c41d4a",
   "metadata": {},
   "source": [
    "To turn on pedantic mode separately from compilation use the `pedantic` argument\n",
    "to the `$check_syntax()` method."
   ]
  },
  {
   "cell_type": "code",
   "execution_count": null,
   "id": "c2038b52",
   "metadata": {},
   "outputs": [],
   "source": [
    "%%R\n",
    "mod_pedantic$check_syntax(pedantic = TRUE)"
   ]
  },
  {
   "cell_type": "markdown",
   "id": "ad3592e5",
   "metadata": {},
   "source": [
    "Using `pedantic=TRUE` via the `$check_syntax()` method also has the advantage\n",
    "that it can be used even if the model hasn't been compiled yet. This can be\n",
    "helpful because the pedantic and syntax checks themselves are much faster than\n",
    "compilation."
   ]
  },
  {
   "cell_type": "code",
   "execution_count": null,
   "id": "89b393a8",
   "metadata": {},
   "outputs": [],
   "source": [
    "%%R\n",
    "file.remove(mod_pedantic$exe_file()) # delete compiled executable\n",
    "rm(mod_pedantic)\n",
    "\n",
    "mod_pedantic <- cmdstan_model(stan_file_pedantic, compile = FALSE)\n",
    "mod_pedantic$check_syntax(pedantic = TRUE)"
   ]
  },
  {
   "cell_type": "markdown",
   "id": "637c8f6d",
   "metadata": {},
   "source": [
    "### Stan model variables\n",
    "\n",
    "If using CmdStan 2.27 or newer, you can obtain the names, types\n",
    "and dimensions of the data, parameters, transformed parameters\n",
    "and generated quantities variables of a Stan model using the\n",
    "`$variables()` method of the `CmdStanModel` object."
   ]
  },
  {
   "cell_type": "code",
   "execution_count": null,
   "id": "db9f96f8",
   "metadata": {},
   "outputs": [],
   "source": [
    "%%R\n",
    "stan_file_variables <- write_stan_file(\"\n",
    "data {\n",
    "  int<lower=1> J;\n",
    "  vector<lower=0>[J] sigma;\n",
    "  vector[J] y;\n",
    "}\n",
    "parameters {\n",
    "  real mu;\n",
    "  real<lower=0> tau;\n",
    "  vector[J] theta_raw;\n",
    "}\n",
    "transformed parameters {\n",
    "  vector[J] theta = mu + tau * theta_raw;\n",
    "}\n",
    "model {\n",
    "  target += normal_lpdf(tau | 0, 10);\n",
    "  target += normal_lpdf(mu | 0, 10);\n",
    "  target += normal_lpdf(theta_raw | 0, 1);\n",
    "  target += normal_lpdf(y | theta, sigma);\n",
    "}\n",
    "\")\n",
    "mod_v <- cmdstan_model(stan_file_variables)\n",
    "variables <- mod_v$variables()"
   ]
  },
  {
   "cell_type": "markdown",
   "id": "b3824911",
   "metadata": {},
   "source": [
    "The `$variables()` method returns a list with `data`, `parameters`,\n",
    "`transformed_parameters` and `generated_quantities` elements, each\n",
    "corresponding to variables in their respective block of the program. Transformed\n",
    "data variables are not listed as they are not used in the model's input\n",
    "or output."
   ]
  },
  {
   "cell_type": "code",
   "execution_count": null,
   "id": "8fe54650",
   "metadata": {},
   "outputs": [],
   "source": [
    "%%R\n",
    "names(variables)\n",
    "names(variables$data)\n",
    "names(variables$parameters)\n",
    "names(variables$transformed_parameters)\n",
    "names(variables$generated_quantities)"
   ]
  },
  {
   "cell_type": "markdown",
   "id": "6c649cbb",
   "metadata": {},
   "source": [
    "Each variable is represented as a list containing the type\n",
    "information (currently limited to `real` or `int`) and the number of dimensions."
   ]
  },
  {
   "cell_type": "code",
   "execution_count": null,
   "id": "738554df",
   "metadata": {},
   "outputs": [],
   "source": [
    "%%R\n",
    "variables$data$J\n",
    "variables$data$sigma\n",
    "variables$parameters$tau\n",
    "variables$transformed_parameters$theta"
   ]
  },
  {
   "cell_type": "markdown",
   "id": "4ee668f4",
   "metadata": {},
   "source": [
    "### Executable location\n",
    "\n",
    "By default, the executable is created in the same directory as the file\n",
    "containing the Stan program. You can also specify a different location with the\n",
    "`dir` argument."
   ]
  },
  {
   "cell_type": "code",
   "execution_count": null,
   "id": "0c4c512c",
   "metadata": {},
   "outputs": [],
   "source": [
    "%%R\n",
    "mod <- cmdstan_model(stan_file, dir = \"path/to/directory/for/executable\")"
   ]
  },
  {
   "cell_type": "markdown",
   "id": "82993e26",
   "metadata": {},
   "source": [
    "## Processing data\n",
    "\n",
    "There are three data formats that CmdStanR allows when fitting a model:\n",
    "\n",
    "* named list of R objects\n",
    "* JSON file\n",
    "* R dump file\n",
    "\n",
    "### Named list of R objects\n",
    "\n",
    "Like the RStan interface, CmdStanR accepts a named list of R objects where the\n",
    "names correspond to variables declared in the data block of the Stan program.\n",
    "In the Bernoulli model the data is `N`, the number of data points, and `y`\n",
    "an integer array of observations."
   ]
  },
  {
   "cell_type": "code",
   "execution_count": null,
   "id": "7d09c03a",
   "metadata": {},
   "outputs": [],
   "source": [
    "%%R\n",
    "mod$print()"
   ]
  },
  {
   "cell_type": "code",
   "execution_count": null,
   "id": "ca8530ab",
   "metadata": {},
   "outputs": [],
   "source": [
    "%%R\n",
    "# data block has 'N' and 'y'\n",
    "data_list <- list(N = 10, y = c(0,1,0,0,0,0,0,0,0,1))\n",
    "fit <- mod$sample(data = data_list)"
   ]
  },
  {
   "cell_type": "markdown",
   "id": "39af5bf1",
   "metadata": {},
   "source": [
    "Because CmdStan doesn't accept lists of R objects, CmdStanR will first write the\n",
    "data to a temporary JSON file using `write_stan_json()`. This happens\n",
    "internally, but it is also possible to call `write_stan_json()` directly."
   ]
  },
  {
   "cell_type": "code",
   "execution_count": null,
   "id": "74e9c2d8",
   "metadata": {},
   "outputs": [],
   "source": [
    "%%R\n",
    "data_list <- list(N = 10, y = c(0,1,0,0,0,0,0,0,0,1))\n",
    "json_file <- tempfile(fileext = \".json\")\n",
    "write_stan_json(data_list, json_file)\n",
    "cat(readLines(json_file), sep = \"\\n\")"
   ]
  },
  {
   "cell_type": "markdown",
   "id": "d04e0fde",
   "metadata": {},
   "source": [
    "### JSON file\n",
    "\n",
    "If you already have your data in a JSON file you can just pass that file\n",
    "directly to CmdStanR instead of using a list of R objects. For example, we could\n",
    "pass in the JSON file we created above using `write_stan_json()`:"
   ]
  },
  {
   "cell_type": "code",
   "execution_count": null,
   "id": "93ea70c1",
   "metadata": {},
   "outputs": [],
   "source": [
    "%%R\n",
    "fit <- mod$sample(data = json_file)"
   ]
  },
  {
   "cell_type": "markdown",
   "id": "928cf82e",
   "metadata": {},
   "source": [
    "### R dump file\n",
    "\n",
    "Finally, it is also possible to use the R dump file format. This is *not*\n",
    "recommended because CmdStan can process JSON faster than R dump, but CmdStanR\n",
    "allows it because CmdStan will accept files created by `rstan::stan_rdump()`:"
   ]
  },
  {
   "cell_type": "code",
   "execution_count": null,
   "id": "de1a452f",
   "metadata": {},
   "outputs": [],
   "source": [
    "%%R\n",
    "rdump_file <- tempfile(fileext = \".data.R\")\n",
    "rstan::stan_rdump(names(data_list), file = rdump_file, envir = list2env(data_list))\n",
    "cat(readLines(rdump_file), sep = \"\\n\")\n",
    "fit <- mod$sample(data = rdump_file)"
   ]
  },
  {
   "cell_type": "markdown",
   "id": "f0739a33",
   "metadata": {},
   "source": [
    "## Writing CmdStan output to CSV\n",
    "\n",
    "### Default temporary files"
   ]
  },
  {
   "cell_type": "code",
   "execution_count": null,
   "id": "4ecd521a",
   "metadata": {},
   "outputs": [],
   "source": [
    "%%R\n",
    "data_list <- list(N = 10, y = c(0,1,0,0,0,0,0,0,0,1))\n",
    "fit <- mod$sample(data = data_list)"
   ]
  },
  {
   "cell_type": "markdown",
   "id": "ecc3d338",
   "metadata": {},
   "source": [
    "When fitting a model, the default behavior is to write the output from CmdStan\n",
    "to CSV files in a temporary directory."
   ]
  },
  {
   "cell_type": "code",
   "execution_count": null,
   "id": "44c6fa80",
   "metadata": {},
   "outputs": [],
   "source": [
    "%%R\n",
    "fit$output_files()"
   ]
  },
  {
   "cell_type": "markdown",
   "id": "20d89053",
   "metadata": {},
   "source": [
    "These files will be lost if you end your R session or if you remove the\n",
    "`fit` object and force (or wait for) garbage collection."
   ]
  },
  {
   "cell_type": "code",
   "execution_count": null,
   "id": "0a564408",
   "metadata": {},
   "outputs": [],
   "source": [
    "%%R\n",
    "files <- fit$output_files()\n",
    "file.exists(files)\n",
    "\n",
    "rm(fit)\n",
    "gc()\n",
    "\n",
    "file.exists(files)"
   ]
  },
  {
   "cell_type": "markdown",
   "id": "634c9c31",
   "metadata": {},
   "source": [
    "### Non-temporary files\n",
    "\n",
    "To save these files to a non-temporary location there are two options. You\n",
    "can either specify the `output_dir` argument to `mod$sample()` or use\n",
    "`fit$save_output_files()` after fitting the model."
   ]
  },
  {
   "cell_type": "code",
   "execution_count": null,
   "id": "2c25749d",
   "metadata": {},
   "outputs": [],
   "source": [
    "%%R\n",
    "# see ?save_output_files for info on optional arguments\n",
    "fit$save_output_files(dir = \"path/to/directory\")"
   ]
  },
  {
   "cell_type": "code",
   "execution_count": null,
   "id": "7de9e6dd",
   "metadata": {},
   "outputs": [],
   "source": [
    "%%R\n",
    "fit <- mod$sample(\n",
    "  data = data_list,\n",
    "  output_dir = \"path/to/directory\"\n",
    ")"
   ]
  },
  {
   "cell_type": "markdown",
   "id": "646982c8",
   "metadata": {},
   "source": [
    "## Reading CmdStan output into R\n",
    "\n",
    "### Lazy CSV reading\n",
    "\n",
    "With the exception of some diagnostic information, the CSV files are not read\n",
    "into R until their contents are requested by calling a method that requires them\n",
    "(e.g., `fit$draws()`, `fit$summary()`, etc.). If we examine the structure of the\n",
    "`fit` object, notice how the `Private` slot `draws_` is `NULL`, indicating that\n",
    "the CSV files haven't yet been read into R."
   ]
  },
  {
   "cell_type": "code",
   "execution_count": null,
   "id": "ff38416b",
   "metadata": {},
   "outputs": [],
   "source": [
    "%%R\n",
    "str(fit)"
   ]
  },
  {
   "cell_type": "markdown",
   "id": "41b3fab4",
   "metadata": {},
   "source": [
    "After we call a method that requires the draws then if we reexamine the\n",
    "structure of the object we will see that the `draws_` slot in `Private`\n",
    "is no longer empty."
   ]
  },
  {
   "cell_type": "code",
   "execution_count": null,
   "id": "9fa5a714",
   "metadata": {},
   "outputs": [],
   "source": [
    "%%R\n",
    "draws <- fit$draws() # force CSVs to be read into R\n",
    "str(fit)"
   ]
  },
  {
   "cell_type": "markdown",
   "id": "158614fe",
   "metadata": {},
   "source": [
    "For models with many parameters, transformed parameters, or generated\n",
    "quantities, if only some are requested (e.g., by specifying the `variables`\n",
    "argument to `fit$draws()`) then CmdStanR will only read in the requested\n",
    "variables (unless they have already been read in).\n",
    "\n",
    "### read_cmdstan_csv()\n",
    "\n",
    "Internally, the `read_cmdstan_csv()` function is used to read the CmdStan CSV\n",
    "files into R. This function is exposed to users, so you can also call it\n",
    "directly."
   ]
  },
  {
   "cell_type": "code",
   "execution_count": null,
   "id": "490919bf",
   "metadata": {},
   "outputs": [],
   "source": [
    "%%R\n",
    "# see ?read_cmdstan_csv for info on optional arguments controlling\n",
    "# what information is read in\n",
    "csv_contents <- read_cmdstan_csv(fit$output_files())\n",
    "str(csv_contents)"
   ]
  },
  {
   "cell_type": "markdown",
   "id": "8d2f77e5",
   "metadata": {},
   "source": [
    "### as_cmdstan_fit()\n",
    "\n",
    "If you need to manually create fitted model objects from CmdStan CSV files use\n",
    "`as_cmdstan_fit()`."
   ]
  },
  {
   "cell_type": "code",
   "execution_count": null,
   "id": "ce313ece",
   "metadata": {},
   "outputs": [],
   "source": [
    "%%R\n",
    "fit2 <- as_cmdstan_fit(fit$output_files())"
   ]
  },
  {
   "cell_type": "markdown",
   "id": "58ca913f",
   "metadata": {},
   "source": [
    "This is pointless in our case since we have the original `fit` object, but this\n",
    "function can be used to create fitted model objects (`CmdStanMCMC`,\n",
    "`CmdStanMLE`, etc.) from any CmdStan CSV files.\n",
    "\n",
    "### Saving and accessing advanced algorithm info (latent dynamics)\n",
    "\n",
    "If `save_latent_dynamics` is set to `TRUE` when running the `$sample()` method\n",
    "then additional CSV files are created (one per chain) that provide access to\n",
    "quantities used under the hood by Stan's implementation of dynamic Hamiltonian\n",
    "Monte Carlo.\n",
    "\n",
    "CmdStanR does not yet provide a special method for processing these files but\n",
    "they can be read into R using R's standard CSV reading functions."
   ]
  },
  {
   "cell_type": "code",
   "execution_count": null,
   "id": "81287443",
   "metadata": {},
   "outputs": [],
   "source": [
    "%%R\n",
    "fit <- mod$sample(data = data_list, save_latent_dynamics = TRUE)"
   ]
  },
  {
   "cell_type": "code",
   "execution_count": null,
   "id": "473945dd",
   "metadata": {},
   "outputs": [],
   "source": [
    "%%R\n",
    "fit$latent_dynamics_files()\n",
    "\n",
    "# read one of the files in\n",
    "x <- utils::read.csv(fit$latent_dynamics_files()[1], comment.char = \"#\")\n",
    "head(x)"
   ]
  },
  {
   "cell_type": "markdown",
   "id": "4bbf10ac",
   "metadata": {},
   "source": [
    "The column `lp__` is also provided via `fit$draws()`, and the columns\n",
    "`accept_stat__`, `stepsize__`, `treedepth__`, `n_leapfrog__`, `divergent__`, and\n",
    "`energy__` are also provided by `fit$sampler_diagnostics()`, but there are\n",
    "several columns unique to the latent dynamics file."
   ]
  },
  {
   "cell_type": "code",
   "execution_count": null,
   "id": "6f062e3a",
   "metadata": {},
   "outputs": [],
   "source": [
    "%%R\n",
    "head(x[, c(\"theta\", \"p_theta\", \"g_theta\")])"
   ]
  },
  {
   "cell_type": "markdown",
   "id": "e61421d9",
   "metadata": {},
   "source": [
    "Our model has a single parameter `theta` and the three columns above correspond\n",
    "to `theta` in the _unconstrained_ space (`theta` on the constrained space is\n",
    "accessed via `fit$draws()`), the auxiliary momentum `p_theta`, and the gradient\n",
    "`g_theta`. In general, each of these three columns will exist for _every_\n",
    "parameter in the model.\n",
    "\n",
    "\n",
    "## Developing using CmdStanR\n",
    "\n",
    "CmdStanR can of course be used for developing other packages that require compiling\n",
    "and running Stan models as well as using new or custom Stan features available\n",
    "through CmdStan.\n",
    "\n",
    "### Pre-compiled Stan models in R packages\n",
    "\n",
    "You may compile a Stan model at runtime (e.g. just before sampling),\n",
    "or you may compile all the models inside the package file system in advance at installation time.\n",
    "The latter avoids compilations at runtime, which matters in centrally managed R installations\n",
    "where users should not compile their own software.\n",
    "\n",
    "To pre-compile all the models in a package,\n",
    "you may create top-level scripts `configure` and `configure.win`\n",
    "which run `cmdstan_model()` with `compile = TRUE` and save the compiled executables\n",
    "somewhere inside the `inst/` folder of the package source.\n",
    "The [`instantiate`](https://wlandau.github.io/instantiate/) package helps developers\n",
    "configure packages this way,\n",
    "and it documents other topics such as submitting to CRAN and administering CmdStan.\n",
    "Kevin Ushey's [`configure`](https://github.com/kevinushey/configure) package helps\n",
    "create and manage package configuration files in general.\n",
    "\n",
    "\n",
    "### Troubleshooting and debugging\n",
    "\n",
    "When developing or testing new features it might be useful to have more\n",
    "information on how CmdStan is called internally and to see more information\n",
    "printed when compiling or running models. This can be enabled for an entire R\n",
    "session by setting the option `\"cmdstanr_verbose\"` to `TRUE`."
   ]
  },
  {
   "cell_type": "code",
   "execution_count": null,
   "id": "290043dd",
   "metadata": {},
   "outputs": [],
   "source": [
    "%%R\n",
    "options(\"cmdstanr_verbose\"=TRUE)\n",
    "\n",
    "mod <- cmdstan_model(stan_file, force_recompile = TRUE)\n",
    "fit <- mod$sample(\n",
    "  data = data_list,\n",
    "  chains = 1,\n",
    "  iter_warmup = 100,\n",
    "  iter_sampling = 100\n",
    ")"
   ]
  }
 ],
 "metadata": {},
 "nbformat": 4,
 "nbformat_minor": 5
}
