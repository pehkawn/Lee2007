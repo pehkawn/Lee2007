{
 "cells": [
  {
   "cell_type": "code",
   "execution_count": 1,
   "metadata": {
    "vscode": {
     "languageId": "r"
    }
   },
   "outputs": [
    {
     "name": "stderr",
     "output_type": "stream",
     "text": [
      "\n",
      "*** ChatGPT input:\n",
      "\n",
      "i'm trying to read an odc file in openbugs on linux. can you explain how i do that using from R using the R2OpenBUGS package?\n",
      "\n",
      "\n"
     ]
    },
    {
     "ename": "ERROR",
     "evalue": "Error in gpt_get_completions(question, messages = chat_session_messages): list(message = \"You exceeded your current quota, please check your plan and billing details.\", type = \"insufficient_quota\", param = NULL, code = \"insufficient_quota\")\n",
     "output_type": "error",
     "traceback": [
      "Error in gpt_get_completions(question, messages = chat_session_messages): list(message = \"You exceeded your current quota, please check your plan and billing details.\", type = \"insufficient_quota\", param = NULL, code = \"insufficient_quota\")\nTraceback:\n",
      "1. ask_chatgpt(\"i'm trying to read an odc file in openbugs on linux. can you explain how i do that using from R using the R2OpenBUGS package?\")",
      "2. parse_response(gpt_get_completions(question, messages = chat_session_messages))",
      "3. paste(trimws(sapply(raw_responses, function(response) {\n .     sapply(response$choices, function(x) x$message$content)\n . })), collapse = \"\")",
      "4. trimws(sapply(raw_responses, function(response) {\n .     sapply(response$choices, function(x) x$message$content)\n . }))",
      "5. mysub(paste0(whitespace, \"+$\"), mysub(paste0(\"^\", whitespace, \n .     \"+\"), x))",
      "6. sub(re, \"\", x, perl = TRUE)",
      "7. is.factor(x)",
      "8. mysub(paste0(\"^\", whitespace, \"+\"), x)",
      "9. sub(re, \"\", x, perl = TRUE)",
      "10. is.factor(x)",
      "11. sapply(raw_responses, function(response) {\n  .     sapply(response$choices, function(x) x$message$content)\n  . })",
      "12. lapply(X = X, FUN = FUN, ...)",
      "13. gpt_get_completions(question, messages = chat_session_messages)",
      "14. stop(content(post_res))"
     ]
    }
   ],
   "source": [
    "answer <- ask_chatgpt(\"i'm trying to read an odc file in openbugs on linux. can you explain how i do that using from R using the R2OpenBUGS package?\")"
   ]
  },
  {
   "cell_type": "code",
   "execution_count": 7,
   "metadata": {
    "vscode": {
     "languageId": "r"
    }
   },
   "outputs": [
    {
     "data": {
      "text/markdown": [
       "Certainly! To read an ODC (OpenBUGS Data Capture) file in OpenBUGS using the R2OpenBUGS package, you can follow these steps:\n",
       "\n",
       "1. First, ensure that the R2OpenBUGS package is installed in your R environment. If not, you can install it using the following command:\n",
       "   ```R\n",
       "   install.packages(\"R2OpenBUGS\")\n",
       "   ```\n",
       "\n",
       "2. Load the R2OpenBUGS library into your R session:\n",
       "   ```R\n",
       "   library(R2OpenBUGS)\n",
       "   ```\n",
       "\n",
       "3. Set the working directory to the directory where your ODC file is located. You can use the `setwd()` function for this:\n",
       "   ```R\n",
       "   setwd(\"/path/to/odc_files_directory\")\n",
       "   ```\n",
       "\n",
       "4. Use the `readODC()` function to read the ODC file. Specify the name of the ODC file as the parameter:\n",
       "   ```R\n",
       "   data <- readODC(\"file_name.odc\")\n",
       "   ```\n",
       "\n",
       "   Replace `\"file_name.odc\"` with the actual name of your ODC file.\n",
       "\n",
       "5. You can now use the `data` object to access and manipulate the data from the ODC file as needed.\n",
       "\n",
       "That's it! You have successfully read the ODC file into R using the R2OpenBUGS package. Now, you can proceed with any data manipulation, analysis, or modeling tasks you have in mind.\n",
       "\n",
       "For example, let's say you want to check the structure of the data frame obtained from the ODC file. You can use the R `str()` function to display the structure of the `data` object:\n",
       "```R\n",
       "str(data)\n",
       "```\n",
       "\n",
       "This will provide you with information about the variables, their types, and the first few observations in the data frame.\n",
       "\n",
       "Additionally, you can use various R functions or packages to analyze or visualize the data. For instance, you could use functions from the dplyr package for data manipulation or ggplot2 for data visualization.\n",
       "\n",
       "Remember to save your progress and properly manage your data by regularly backing up your files and using version control if necessary.\n",
       "\n",
       "If you have any further questions or need assistance with specific tasks, feel free to ask!"
      ]
     },
     "metadata": {},
     "output_type": "display_data"
    }
   ],
   "source": [
    "answer %>%\n",
    "IRdisplay::display_markdown()"
   ]
  },
  {
   "cell_type": "code",
   "execution_count": 2,
   "metadata": {
    "vscode": {
     "languageId": "r"
    }
   },
   "outputs": [
    {
     "data": {
      "text/html": [
       "<style>\n",
       ".list-inline {list-style: none; margin:0; padding: 0}\n",
       ".list-inline>li {display: inline-block}\n",
       ".list-inline>li:not(:last-child)::after {content: \"\\00b7\"; padding: 0 .5ex}\n",
       "</style>\n",
       "<ol class=list-inline><li>'./Chapter10/ch10-WinBUGS-M1-codes.pdf'</li><li>'./Chapter10/ch10-WinBUGS-M2-codes.pdf'</li><li>'./Chapter10/ch10-WinBUGS-M3-codes.pdf'</li><li>'./Chapter11/ch11-WinBUGS-codes.pdf'</li><li>'./Chapter12/ch12-WinBUGS-codes.pdf'</li><li>'./Chapter13/ch13-WinBUGS1-codes.pdf'</li><li>'./Chapter13/ch13-WinBUGS2-codes.pdf'</li><li>'./Chapter4/ch4-WinBUGS-codes.pdf'</li><li>'./Chapter6/ch6-WinBUGS-codes.pdf'</li><li>'./Chapter7/ch7-WinBUGS1-codes.pdf'</li><li>'./Chapter7/ch7-WinBUGS2-codes.pdf'</li><li>'./Chapter8/ch8-WinBUGS-codes.pdf'</li><li>'./Chapter9/ch9-WinBUGS-codes.pdf'</li></ol>\n"
      ],
      "text/latex": [
       "\\begin{enumerate*}\n",
       "\\item './Chapter10/ch10-WinBUGS-M1-codes.pdf'\n",
       "\\item './Chapter10/ch10-WinBUGS-M2-codes.pdf'\n",
       "\\item './Chapter10/ch10-WinBUGS-M3-codes.pdf'\n",
       "\\item './Chapter11/ch11-WinBUGS-codes.pdf'\n",
       "\\item './Chapter12/ch12-WinBUGS-codes.pdf'\n",
       "\\item './Chapter13/ch13-WinBUGS1-codes.pdf'\n",
       "\\item './Chapter13/ch13-WinBUGS2-codes.pdf'\n",
       "\\item './Chapter4/ch4-WinBUGS-codes.pdf'\n",
       "\\item './Chapter6/ch6-WinBUGS-codes.pdf'\n",
       "\\item './Chapter7/ch7-WinBUGS1-codes.pdf'\n",
       "\\item './Chapter7/ch7-WinBUGS2-codes.pdf'\n",
       "\\item './Chapter8/ch8-WinBUGS-codes.pdf'\n",
       "\\item './Chapter9/ch9-WinBUGS-codes.pdf'\n",
       "\\end{enumerate*}\n"
      ],
      "text/markdown": [
       "1. './Chapter10/ch10-WinBUGS-M1-codes.pdf'\n",
       "2. './Chapter10/ch10-WinBUGS-M2-codes.pdf'\n",
       "3. './Chapter10/ch10-WinBUGS-M3-codes.pdf'\n",
       "4. './Chapter11/ch11-WinBUGS-codes.pdf'\n",
       "5. './Chapter12/ch12-WinBUGS-codes.pdf'\n",
       "6. './Chapter13/ch13-WinBUGS1-codes.pdf'\n",
       "7. './Chapter13/ch13-WinBUGS2-codes.pdf'\n",
       "8. './Chapter4/ch4-WinBUGS-codes.pdf'\n",
       "9. './Chapter6/ch6-WinBUGS-codes.pdf'\n",
       "10. './Chapter7/ch7-WinBUGS1-codes.pdf'\n",
       "11. './Chapter7/ch7-WinBUGS2-codes.pdf'\n",
       "12. './Chapter8/ch8-WinBUGS-codes.pdf'\n",
       "13. './Chapter9/ch9-WinBUGS-codes.pdf'\n",
       "\n",
       "\n"
      ],
      "text/plain": [
       " [1] \"./Chapter10/ch10-WinBUGS-M1-codes.pdf\" \"./Chapter10/ch10-WinBUGS-M2-codes.pdf\"\n",
       " [3] \"./Chapter10/ch10-WinBUGS-M3-codes.pdf\" \"./Chapter11/ch11-WinBUGS-codes.pdf\"   \n",
       " [5] \"./Chapter12/ch12-WinBUGS-codes.pdf\"    \"./Chapter13/ch13-WinBUGS1-codes.pdf\"  \n",
       " [7] \"./Chapter13/ch13-WinBUGS2-codes.pdf\"   \"./Chapter4/ch4-WinBUGS-codes.pdf\"     \n",
       " [9] \"./Chapter6/ch6-WinBUGS-codes.pdf\"      \"./Chapter7/ch7-WinBUGS1-codes.pdf\"    \n",
       "[11] \"./Chapter7/ch7-WinBUGS2-codes.pdf\"     \"./Chapter8/ch8-WinBUGS-codes.pdf\"     \n",
       "[13] \"./Chapter9/ch9-WinBUGS-codes.pdf\"     "
      ]
     },
     "metadata": {},
     "output_type": "display_data"
    }
   ],
   "source": [
    "code.files <- list.files(\n",
    "    path = \".\", \n",
    "    pattern = \".pdf$\", \n",
    "    all.files = TRUE,\n",
    "    full.names = TRUE, \n",
    "    recursive = TRUE,\n",
    "    ignore.case = TRUE\n",
    ")\n",
    "code.files"
   ]
  },
  {
   "cell_type": "code",
   "execution_count": 3,
   "metadata": {
    "vscode": {
     "languageId": "r"
    }
   },
   "outputs": [
    {
     "data": {
      "text/html": [
       "<ol>\n",
       "\t<li></li>\n",
       "\t<li></li>\n",
       "\t<li></li>\n",
       "\t<li></li>\n",
       "\t<li></li>\n",
       "\t<li></li>\n",
       "\t<li></li>\n",
       "\t<li></li>\n",
       "\t<li></li>\n",
       "\t<li></li>\n",
       "\t<li></li>\n",
       "\t<li></li>\n",
       "\t<li></li>\n",
       "</ol>\n"
      ],
      "text/latex": [
       "\\begin{enumerate}\n",
       "\\item \n",
       "\\item \n",
       "\\item \n",
       "\\item \n",
       "\\item \n",
       "\\item \n",
       "\\item \n",
       "\\item \n",
       "\\item \n",
       "\\item \n",
       "\\item \n",
       "\\item \n",
       "\\item \n",
       "\\end{enumerate}\n"
      ],
      "text/markdown": [
       "1. \n",
       "2. \n",
       "3. \n",
       "4. \n",
       "5. \n",
       "6. \n",
       "7. \n",
       "8. \n",
       "9. \n",
       "10. \n",
       "11. \n",
       "12. \n",
       "13. \n",
       "\n",
       "\n"
      ],
      "text/plain": [
       "[[1]]\n",
       "character(0)\n",
       "\n",
       "[[2]]\n",
       "character(0)\n",
       "\n",
       "[[3]]\n",
       "character(0)\n",
       "\n",
       "[[4]]\n",
       "character(0)\n",
       "\n",
       "[[5]]\n",
       "character(0)\n",
       "\n",
       "[[6]]\n",
       "character(0)\n",
       "\n",
       "[[7]]\n",
       "character(0)\n",
       "\n",
       "[[8]]\n",
       "character(0)\n",
       "\n",
       "[[9]]\n",
       "character(0)\n",
       "\n",
       "[[10]]\n",
       "character(0)\n",
       "\n",
       "[[11]]\n",
       "character(0)\n",
       "\n",
       "[[12]]\n",
       "character(0)\n",
       "\n",
       "[[13]]\n",
       "character(0)\n"
      ]
     },
     "metadata": {},
     "output_type": "display_data"
    }
   ],
   "source": [
    "lapply(\n",
    "    code.files, \n",
    "    function(x) {\n",
    "        pdftools::pdf_text(x) %>%\n",
    "        cat(file = xfun::with_ext(x , \"txt\"))\n",
    "\n",
    "        # f <- paste( \"pandoc -f markdown -t ipynb\", \"-o\", xfun::with_ext(x , \"ipynb\"), xfun::with_ext(x , \"txt\") )\n",
    "        f <- paste( \"notedown\", xfun::with_ext(x , \"txt\"), \">\", xfun::with_ext(x , \"ipynb\") )\n",
    "        system(f, intern = TRUE)\n",
    "        \n",
    "    }\n",
    ")"
   ]
  },
  {
   "cell_type": "code",
   "execution_count": 13,
   "metadata": {
    "vscode": {
     "languageId": "r"
    }
   },
   "outputs": [
    {
     "data": {
      "text/html": [
       "<style>\n",
       ".list-inline {list-style: none; margin:0; padding: 0}\n",
       ".list-inline>li {display: inline-block}\n",
       ".list-inline>li:not(:last-child)::after {content: \"\\00b7\"; padding: 0 .5ex}\n",
       "</style>\n",
       "<ol class=list-inline><li>'biblatex'</li><li>'bibtex'</li><li>'commonmark'</li><li>'commonmark_x'</li><li>'creole'</li><li>'csljson'</li><li>'csv'</li><li>'docbook'</li><li>'docx'</li><li>'dokuwiki'</li><li>'endnotexml'</li><li>'epub'</li><li>'fb2'</li><li>'gfm'</li><li>'haddock'</li><li>'html'</li><li>'ipynb'</li><li>'jats'</li><li>'jira'</li><li>'json'</li><li>'latex'</li><li>'man'</li><li>'markdown'</li><li>'markdown_github'</li><li>'markdown_mmd'</li><li>'markdown_phpextra'</li><li>'markdown_strict'</li><li>'mediawiki'</li><li>'muse'</li><li>'native'</li><li>'odt'</li><li>'opml'</li><li>'org'</li><li>'ris'</li><li>'rst'</li><li>'rtf'</li><li>'t2t'</li><li>'textile'</li><li>'tikiwiki'</li><li>'tsv'</li><li>'twiki'</li><li>'vimwiki'</li></ol>\n"
      ],
      "text/latex": [
       "\\begin{enumerate*}\n",
       "\\item 'biblatex'\n",
       "\\item 'bibtex'\n",
       "\\item 'commonmark'\n",
       "\\item 'commonmark\\_x'\n",
       "\\item 'creole'\n",
       "\\item 'csljson'\n",
       "\\item 'csv'\n",
       "\\item 'docbook'\n",
       "\\item 'docx'\n",
       "\\item 'dokuwiki'\n",
       "\\item 'endnotexml'\n",
       "\\item 'epub'\n",
       "\\item 'fb2'\n",
       "\\item 'gfm'\n",
       "\\item 'haddock'\n",
       "\\item 'html'\n",
       "\\item 'ipynb'\n",
       "\\item 'jats'\n",
       "\\item 'jira'\n",
       "\\item 'json'\n",
       "\\item 'latex'\n",
       "\\item 'man'\n",
       "\\item 'markdown'\n",
       "\\item 'markdown\\_github'\n",
       "\\item 'markdown\\_mmd'\n",
       "\\item 'markdown\\_phpextra'\n",
       "\\item 'markdown\\_strict'\n",
       "\\item 'mediawiki'\n",
       "\\item 'muse'\n",
       "\\item 'native'\n",
       "\\item 'odt'\n",
       "\\item 'opml'\n",
       "\\item 'org'\n",
       "\\item 'ris'\n",
       "\\item 'rst'\n",
       "\\item 'rtf'\n",
       "\\item 't2t'\n",
       "\\item 'textile'\n",
       "\\item 'tikiwiki'\n",
       "\\item 'tsv'\n",
       "\\item 'twiki'\n",
       "\\item 'vimwiki'\n",
       "\\end{enumerate*}\n"
      ],
      "text/markdown": [
       "1. 'biblatex'\n",
       "2. 'bibtex'\n",
       "3. 'commonmark'\n",
       "4. 'commonmark_x'\n",
       "5. 'creole'\n",
       "6. 'csljson'\n",
       "7. 'csv'\n",
       "8. 'docbook'\n",
       "9. 'docx'\n",
       "10. 'dokuwiki'\n",
       "11. 'endnotexml'\n",
       "12. 'epub'\n",
       "13. 'fb2'\n",
       "14. 'gfm'\n",
       "15. 'haddock'\n",
       "16. 'html'\n",
       "17. 'ipynb'\n",
       "18. 'jats'\n",
       "19. 'jira'\n",
       "20. 'json'\n",
       "21. 'latex'\n",
       "22. 'man'\n",
       "23. 'markdown'\n",
       "24. 'markdown_github'\n",
       "25. 'markdown_mmd'\n",
       "26. 'markdown_phpextra'\n",
       "27. 'markdown_strict'\n",
       "28. 'mediawiki'\n",
       "29. 'muse'\n",
       "30. 'native'\n",
       "31. 'odt'\n",
       "32. 'opml'\n",
       "33. 'org'\n",
       "34. 'ris'\n",
       "35. 'rst'\n",
       "36. 'rtf'\n",
       "37. 't2t'\n",
       "38. 'textile'\n",
       "39. 'tikiwiki'\n",
       "40. 'tsv'\n",
       "41. 'twiki'\n",
       "42. 'vimwiki'\n",
       "\n",
       "\n"
      ],
      "text/plain": [
       " [1] \"biblatex\"          \"bibtex\"            \"commonmark\"        \"commonmark_x\"      \"creole\"           \n",
       " [6] \"csljson\"           \"csv\"               \"docbook\"           \"docx\"              \"dokuwiki\"         \n",
       "[11] \"endnotexml\"        \"epub\"              \"fb2\"               \"gfm\"               \"haddock\"          \n",
       "[16] \"html\"              \"ipynb\"             \"jats\"              \"jira\"              \"json\"             \n",
       "[21] \"latex\"             \"man\"               \"markdown\"          \"markdown_github\"   \"markdown_mmd\"     \n",
       "[26] \"markdown_phpextra\" \"markdown_strict\"   \"mediawiki\"         \"muse\"              \"native\"           \n",
       "[31] \"odt\"               \"opml\"              \"org\"               \"ris\"               \"rst\"              \n",
       "[36] \"rtf\"               \"t2t\"               \"textile\"           \"tikiwiki\"          \"tsv\"              \n",
       "[41] \"twiki\"             \"vimwiki\"          "
      ]
     },
     "metadata": {},
     "output_type": "display_data"
    },
    {
     "data": {
      "text/html": [
       "<style>\n",
       ".list-inline {list-style: none; margin:0; padding: 0}\n",
       ".list-inline>li {display: inline-block}\n",
       ".list-inline>li:not(:last-child)::after {content: \"\\00b7\"; padding: 0 .5ex}\n",
       "</style>\n",
       "<ol class=list-inline><li>'asciidoc'</li><li>'asciidoctor'</li><li>'beamer'</li><li>'biblatex'</li><li>'bibtex'</li><li>'chunkedhtml'</li><li>'commonmark'</li><li>'commonmark_x'</li><li>'context'</li><li>'csljson'</li><li>'docbook'</li><li>'docbook4'</li><li>'docbook5'</li><li>'docx'</li><li>'dokuwiki'</li><li>'dzslides'</li><li>'epub'</li><li>'epub2'</li><li>'epub3'</li><li>'fb2'</li><li>'gfm'</li><li>'haddock'</li><li>'html'</li><li>'html4'</li><li>'html5'</li><li>'icml'</li><li>'ipynb'</li><li>'jats'</li><li>'jats_archiving'</li><li>'jats_articleauthoring'</li><li>'jats_publishing'</li><li>'jira'</li><li>'json'</li><li>'latex'</li><li>'man'</li><li>'markdown'</li><li>'markdown_github'</li><li>'markdown_mmd'</li><li>'markdown_phpextra'</li><li>'markdown_strict'</li><li>'markua'</li><li>'mediawiki'</li><li>'ms'</li><li>'muse'</li><li>'native'</li><li>'odt'</li><li>'opendocument'</li><li>'opml'</li><li>'org'</li><li>'pdf'</li><li>'plain'</li><li>'pptx'</li><li>'revealjs'</li><li>'rst'</li><li>'rtf'</li><li>'s5'</li><li>'slideous'</li><li>'slidy'</li><li>'tei'</li><li>'texinfo'</li><li>'textile'</li><li>'typst'</li><li>'xwiki'</li><li>'zimwiki'</li></ol>\n"
      ],
      "text/latex": [
       "\\begin{enumerate*}\n",
       "\\item 'asciidoc'\n",
       "\\item 'asciidoctor'\n",
       "\\item 'beamer'\n",
       "\\item 'biblatex'\n",
       "\\item 'bibtex'\n",
       "\\item 'chunkedhtml'\n",
       "\\item 'commonmark'\n",
       "\\item 'commonmark\\_x'\n",
       "\\item 'context'\n",
       "\\item 'csljson'\n",
       "\\item 'docbook'\n",
       "\\item 'docbook4'\n",
       "\\item 'docbook5'\n",
       "\\item 'docx'\n",
       "\\item 'dokuwiki'\n",
       "\\item 'dzslides'\n",
       "\\item 'epub'\n",
       "\\item 'epub2'\n",
       "\\item 'epub3'\n",
       "\\item 'fb2'\n",
       "\\item 'gfm'\n",
       "\\item 'haddock'\n",
       "\\item 'html'\n",
       "\\item 'html4'\n",
       "\\item 'html5'\n",
       "\\item 'icml'\n",
       "\\item 'ipynb'\n",
       "\\item 'jats'\n",
       "\\item 'jats\\_archiving'\n",
       "\\item 'jats\\_articleauthoring'\n",
       "\\item 'jats\\_publishing'\n",
       "\\item 'jira'\n",
       "\\item 'json'\n",
       "\\item 'latex'\n",
       "\\item 'man'\n",
       "\\item 'markdown'\n",
       "\\item 'markdown\\_github'\n",
       "\\item 'markdown\\_mmd'\n",
       "\\item 'markdown\\_phpextra'\n",
       "\\item 'markdown\\_strict'\n",
       "\\item 'markua'\n",
       "\\item 'mediawiki'\n",
       "\\item 'ms'\n",
       "\\item 'muse'\n",
       "\\item 'native'\n",
       "\\item 'odt'\n",
       "\\item 'opendocument'\n",
       "\\item 'opml'\n",
       "\\item 'org'\n",
       "\\item 'pdf'\n",
       "\\item 'plain'\n",
       "\\item 'pptx'\n",
       "\\item 'revealjs'\n",
       "\\item 'rst'\n",
       "\\item 'rtf'\n",
       "\\item 's5'\n",
       "\\item 'slideous'\n",
       "\\item 'slidy'\n",
       "\\item 'tei'\n",
       "\\item 'texinfo'\n",
       "\\item 'textile'\n",
       "\\item 'typst'\n",
       "\\item 'xwiki'\n",
       "\\item 'zimwiki'\n",
       "\\end{enumerate*}\n"
      ],
      "text/markdown": [
       "1. 'asciidoc'\n",
       "2. 'asciidoctor'\n",
       "3. 'beamer'\n",
       "4. 'biblatex'\n",
       "5. 'bibtex'\n",
       "6. 'chunkedhtml'\n",
       "7. 'commonmark'\n",
       "8. 'commonmark_x'\n",
       "9. 'context'\n",
       "10. 'csljson'\n",
       "11. 'docbook'\n",
       "12. 'docbook4'\n",
       "13. 'docbook5'\n",
       "14. 'docx'\n",
       "15. 'dokuwiki'\n",
       "16. 'dzslides'\n",
       "17. 'epub'\n",
       "18. 'epub2'\n",
       "19. 'epub3'\n",
       "20. 'fb2'\n",
       "21. 'gfm'\n",
       "22. 'haddock'\n",
       "23. 'html'\n",
       "24. 'html4'\n",
       "25. 'html5'\n",
       "26. 'icml'\n",
       "27. 'ipynb'\n",
       "28. 'jats'\n",
       "29. 'jats_archiving'\n",
       "30. 'jats_articleauthoring'\n",
       "31. 'jats_publishing'\n",
       "32. 'jira'\n",
       "33. 'json'\n",
       "34. 'latex'\n",
       "35. 'man'\n",
       "36. 'markdown'\n",
       "37. 'markdown_github'\n",
       "38. 'markdown_mmd'\n",
       "39. 'markdown_phpextra'\n",
       "40. 'markdown_strict'\n",
       "41. 'markua'\n",
       "42. 'mediawiki'\n",
       "43. 'ms'\n",
       "44. 'muse'\n",
       "45. 'native'\n",
       "46. 'odt'\n",
       "47. 'opendocument'\n",
       "48. 'opml'\n",
       "49. 'org'\n",
       "50. 'pdf'\n",
       "51. 'plain'\n",
       "52. 'pptx'\n",
       "53. 'revealjs'\n",
       "54. 'rst'\n",
       "55. 'rtf'\n",
       "56. 's5'\n",
       "57. 'slideous'\n",
       "58. 'slidy'\n",
       "59. 'tei'\n",
       "60. 'texinfo'\n",
       "61. 'textile'\n",
       "62. 'typst'\n",
       "63. 'xwiki'\n",
       "64. 'zimwiki'\n",
       "\n",
       "\n"
      ],
      "text/plain": [
       " [1] \"asciidoc\"              \"asciidoctor\"           \"beamer\"                \"biblatex\"             \n",
       " [5] \"bibtex\"                \"chunkedhtml\"           \"commonmark\"            \"commonmark_x\"         \n",
       " [9] \"context\"               \"csljson\"               \"docbook\"               \"docbook4\"             \n",
       "[13] \"docbook5\"              \"docx\"                  \"dokuwiki\"              \"dzslides\"             \n",
       "[17] \"epub\"                  \"epub2\"                 \"epub3\"                 \"fb2\"                  \n",
       "[21] \"gfm\"                   \"haddock\"               \"html\"                  \"html4\"                \n",
       "[25] \"html5\"                 \"icml\"                  \"ipynb\"                 \"jats\"                 \n",
       "[29] \"jats_archiving\"        \"jats_articleauthoring\" \"jats_publishing\"       \"jira\"                 \n",
       "[33] \"json\"                  \"latex\"                 \"man\"                   \"markdown\"             \n",
       "[37] \"markdown_github\"       \"markdown_mmd\"          \"markdown_phpextra\"     \"markdown_strict\"      \n",
       "[41] \"markua\"                \"mediawiki\"             \"ms\"                    \"muse\"                 \n",
       "[45] \"native\"                \"odt\"                   \"opendocument\"          \"opml\"                 \n",
       "[49] \"org\"                   \"pdf\"                   \"plain\"                 \"pptx\"                 \n",
       "[53] \"revealjs\"              \"rst\"                   \"rtf\"                   \"s5\"                   \n",
       "[57] \"slideous\"              \"slidy\"                 \"tei\"                   \"texinfo\"              \n",
       "[61] \"textile\"               \"typst\"                 \"xwiki\"                 \"zimwiki\"              "
      ]
     },
     "metadata": {},
     "output_type": "display_data"
    }
   ],
   "source": [
    "system(\"pandoc --list-input-formats\", intern = TRUE)\n",
    "system(\"pandoc --list-output-formats\", intern = TRUE)"
   ]
  },
  {
   "cell_type": "code",
   "execution_count": 1,
   "metadata": {
    "vscode": {
     "languageId": "r"
    }
   },
   "outputs": [
    {
     "data": {
      "text/html": [
       "TRUE"
      ],
      "text/latex": [
       "TRUE"
      ],
      "text/markdown": [
       "TRUE"
      ],
      "text/plain": [
       "[1] TRUE"
      ]
     },
     "metadata": {},
     "output_type": "display_data"
    }
   ],
   "source": [
    "list.files(\n",
    "    path = \".\", \n",
    "    pattern = \"^ch.+(md|html|txt|ipynb)$\", \n",
    "    all.files = TRUE,\n",
    "    full.names = TRUE, \n",
    "    recursive = TRUE,\n",
    "    ignore.case = TRUE\n",
    ") %>% file.remove()"
   ]
  },
  {
   "cell_type": "code",
   "execution_count": 30,
   "metadata": {
    "vscode": {
     "languageId": "r"
    }
   },
   "outputs": [],
   "source": [
    "pdf1 <- pdftools::pdf_text(\"./Chapter7/ch7-WinBUGS1-codes.pdf\")\n",
    "pdf2 <- tabulizer::extract_text(\"./Chapter7/ch7-WinBUGS1-codes.pdf\") "
   ]
  },
  {
   "cell_type": "code",
   "execution_count": 33,
   "metadata": {
    "vscode": {
     "languageId": "r"
    }
   },
   "outputs": [],
   "source": [
    "library(jsonlite)\n",
    "\n",
    "notebook_content2 <- list(\n",
    "  cells = list(\n",
    "    list(\n",
    "      cell_type = \"markdown\",\n",
    "      metadata = list(),\n",
    "      source = pdf2\n",
    "    )\n",
    "  ),\n",
    "  metadata = list(\n",
    "    kernelspec = list(\n",
    "      display_name = \"R\",\n",
    "      language = \"R\",\n",
    "      name = \"ir\"\n",
    "    ),\n",
    "    language_info = list(\n",
    "      codemirror_mode = \"r\",\n",
    "      file_extension = \".r\",\n",
    "      mimetype = \"text/x-r-source\",\n",
    "      name = \"R\"\n",
    "    )\n",
    "  ),\n",
    "  nbformat = 4,\n",
    "  nbformat_minor = 2\n",
    ")\n",
    "\n",
    "# Convert the notebook content to JSON\n",
    "notebook_json2 <- toJSON(notebook_content2, pretty = TRUE)\n",
    "\n",
    "# Replace 'output_notebook.ipynb' with the desired output file name\n",
    "writeLines(notebook_json2, \"./Chapter7/ch7-WinBUGS1-codes2.ipynb\")"
   ]
  },
  {
   "cell_type": "code",
   "execution_count": 34,
   "metadata": {
    "vscode": {
     "languageId": "r"
    }
   },
   "outputs": [],
   "source": [
    "library(jsonlite)\n",
    "\n",
    "notebook_content1 <- list(\n",
    "  cells = list(\n",
    "    list(\n",
    "      cell_type = \"markdown\",\n",
    "      metadata = list(),\n",
    "      source = pdf1\n",
    "    )\n",
    "  ),\n",
    "  metadata = list(\n",
    "    kernelspec = list(\n",
    "      display_name = \"R\",\n",
    "      language = \"R\",\n",
    "      name = \"ir\"\n",
    "    ),\n",
    "    language_info = list(\n",
    "      codemirror_mode = \"r\",\n",
    "      file_extension = \".r\",\n",
    "      mimetype = \"text/x-r-source\",\n",
    "      name = \"R\"\n",
    "    )\n",
    "  ),\n",
    "  nbformat = 4,\n",
    "  nbformat_minor = 2\n",
    ")\n",
    "\n",
    "# Convert the notebook content to JSON\n",
    "notebook_json1 <- toJSON(notebook_content1, pretty = TRUE)\n",
    "\n",
    "# Replace 'output_notebook.ipynb' with the desired output file name\n",
    "writeLines(notebook_json1, \"./Chapter7/ch7-WinBUGS1-codes1.ipynb\")"
   ]
  },
  {
   "cell_type": "code",
   "execution_count": null,
   "metadata": {
    "vscode": {
     "languageId": "r"
    }
   },
   "outputs": [],
   "source": []
  }
 ],
 "metadata": {
  "kernelspec": {
   "display_name": "R",
   "language": "R",
   "name": "ir"
  },
  "language_info": {
   "codemirror_mode": "r",
   "file_extension": ".r",
   "mimetype": "text/x-r-source",
   "name": "R",
   "pygments_lexer": "r",
   "version": "4.3.1"
  },
  "orig_nbformat": 4
 },
 "nbformat": 4,
 "nbformat_minor": 2
}
