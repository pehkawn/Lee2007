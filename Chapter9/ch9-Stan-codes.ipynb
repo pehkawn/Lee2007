{
 "cells": [
  {
   "cell_type": "markdown",
   "id": "08afe86c",
   "metadata": {},
   "source": [
    "### This is a WinBUGS Codes for the artificial example in Chapter 9,  Section 9.7.\n",
    "\n",
    "#### Model: Two-level nonlinear structural equation model\n",
    "\n",
    "Data Set Name:  YO.dat\n",
    "\n",
    "Sample Size: N = 1555\n",
    "\n",
    "Note: pi[g, j] is for omega(2g, j),  lb and lw are for lambda2 and lambda_1,  respectively."
   ]
  },
  {
   "cell_type": "code",
   "execution_count": 2,
   "id": "7bbc5e25",
   "metadata": {
    "vscode": {
     "languageId": "r"
    }
   },
   "outputs": [
    {
     "name": "stderr",
     "output_type": "stream",
     "text": [
      "── \u001b[1mAttaching core tidyverse packages\u001b[22m ──────────────────────── tidyverse 2.0.0 ──\n",
      "\u001b[32m✔\u001b[39m \u001b[34mdplyr    \u001b[39m 1.1.3     \u001b[32m✔\u001b[39m \u001b[34mreadr    \u001b[39m 2.1.4\n",
      "\u001b[32m✔\u001b[39m \u001b[34mforcats  \u001b[39m 1.0.0     \u001b[32m✔\u001b[39m \u001b[34mstringr  \u001b[39m 1.5.0\n",
      "\u001b[32m✔\u001b[39m \u001b[34mggplot2  \u001b[39m 3.4.3     \u001b[32m✔\u001b[39m \u001b[34mtibble   \u001b[39m 3.2.1\n",
      "\u001b[32m✔\u001b[39m \u001b[34mlubridate\u001b[39m 1.9.2     \u001b[32m✔\u001b[39m \u001b[34mtidyr    \u001b[39m 1.3.0\n",
      "\u001b[32m✔\u001b[39m \u001b[34mpurrr    \u001b[39m 1.0.2     \n",
      "── \u001b[1mConflicts\u001b[22m ────────────────────────────────────────── tidyverse_conflicts() ──\n",
      "\u001b[31m✖\u001b[39m \u001b[34mdplyr\u001b[39m::\u001b[32mfilter()\u001b[39m masks \u001b[34mstats\u001b[39m::filter()\n",
      "\u001b[31m✖\u001b[39m \u001b[34mdplyr\u001b[39m::\u001b[32mlag()\u001b[39m    masks \u001b[34mstats\u001b[39m::lag()\n",
      "\u001b[36mℹ\u001b[39m Use the conflicted package (\u001b[3m\u001b[34m<http://conflicted.r-lib.org/>\u001b[39m\u001b[23m) to force all conflicts to become errors\n",
      "\n",
      "Attaching package: ‘magrittr’\n",
      "\n",
      "\n",
      "The following object is masked from ‘package:purrr’:\n",
      "\n",
      "    set_names\n",
      "\n",
      "\n",
      "The following object is masked from ‘package:tidyr’:\n",
      "\n",
      "    extract\n",
      "\n",
      "\n",
      "Loading required package: coda\n",
      "\n",
      "Loading required package: boot\n",
      "\n",
      "This is cmdstanr version 0.6.1\n",
      "\n",
      "- CmdStanR documentation and vignettes: mc-stan.org/cmdstanr\n",
      "\n",
      "- CmdStan path: /home/pal_bjartan/.cmdstan/cmdstan-2.33.1\n",
      "\n",
      "- CmdStan version: 2.33.1\n",
      "\n",
      "This is bayesplot version 1.10.0\n",
      "\n",
      "- Online documentation and vignettes at mc-stan.org/bayesplot\n",
      "\n",
      "- bayesplot theme set to bayesplot::theme_default()\n",
      "\n",
      "   * Does _not_ affect other ggplot2 plots\n",
      "\n",
      "   * See ?bayesplot_theme_set for details on theme setting\n",
      "\n"
     ]
    }
   ],
   "source": [
    "source(\".Rprofile\")"
   ]
  },
  {
   "cell_type": "markdown",
   "id": "257450fb",
   "metadata": {},
   "source": [
    "#### Model"
   ]
  },
  {
   "cell_type": "markdown",
   "id": "47ee30cb",
   "metadata": {},
   "source": [
    "##### Check model"
   ]
  },
  {
   "cell_type": "code",
   "execution_count": null,
   "id": "af18756a",
   "metadata": {
    "vscode": {
     "languageId": "r"
    }
   },
   "outputs": [],
   "source": [
    "model  <-  glue(\"{getwd()}/Chapter9/ch9-Stan-model.stan\")\n",
    "cmdstan_model(model, compile = FALSE)$check_syntax(pedantic = TRUE)"
   ]
  },
  {
   "cell_type": "markdown",
   "id": "39d09dae",
   "metadata": {},
   "source": [
    "##### Compile model"
   ]
  },
  {
   "cell_type": "code",
   "execution_count": null,
   "id": "a64b1fb6",
   "metadata": {
    "vscode": {
     "languageId": "r"
    }
   },
   "outputs": [],
   "source": [
    "model <- cmdstan_model(model, \n",
    "    force_recompile = TRUE\n",
    ")"
   ]
  },
  {
   "cell_type": "markdown",
   "id": "e4711e28",
   "metadata": {},
   "source": [
    "#### Data\n"
   ]
  },
  {
   "cell_type": "code",
   "execution_count": 3,
   "id": "606c5bba",
   "metadata": {
    "vscode": {
     "languageId": "r"
    }
   },
   "outputs": [],
   "source": [
    "data <- list(\n",
    "    N = c(28, 27, 25, 28, 33, 26, 18, 26, 17, 24, 26, 24, 24, 30, 23, 24, 29, \n",
    "        27, 34, 18, 20, 14, 27, 28, 28, 26, 43, 32, 43, 43, 41, 47, 45, 41, 25, \n",
    "        36, 32, 36, 44, 36, 32, 37, 36, 27, 38, 34, 39, 40, 37, 37),\n",
    "    kk = c(0, 28, 55, 80, 108, 141, 167, 185, 211, 228, 252, 278, 302, 326, \n",
    "        356, 379, 403, 432, 459, 493, 511, 531, 545, 572, 600, 628, 654, 697, \n",
    "        729, 772, 815, 856, 903, 948, 989, 1014, 1050, 1082, 1118, 1162, 1198, \n",
    "        1230, 1267, 1303, 1330, 1368, 1402, 1441, 1481, 1518),\n",
    "    R0 = structure(\n",
    "        .Data = c(1.940, 0.775, 0.775, 0.600),\n",
    "        .Dim = c(2, 2)\n",
    "    ), \n",
    "    R1 = structure(\n",
    "        .Data = c(13.6, -0.61, 0.48, -0.61, 0.24, 0.06, 0.48, 0.06, 0.22),\n",
    "        .Dim = c(3, 3)\n",
    "    ), \n",
    "    y = read.csv(\n",
    "            \"./Chapter9/ch9-WinBUGS-data.dat\",\n",
    "            header = FALSE,\n",
    "            skip = 2\n",
    "            ) %>%\n",
    "        .[,1:(ncol(.) - 1)] %>%\n",
    "        as.matrix() %>%\n",
    "        unname()\n",
    ")"
   ]
  },
  {
   "cell_type": "code",
   "execution_count": 4,
   "id": "af830568",
   "metadata": {
    "vscode": {
     "languageId": "r"
    }
   },
   "outputs": [
    {
     "data": {
      "text/html": [
       "50"
      ],
      "text/latex": [
       "50"
      ],
      "text/markdown": [
       "50"
      ],
      "text/plain": [
       "[1] 50"
      ]
     },
     "metadata": {},
     "output_type": "display_data"
    }
   ],
   "source": [
    "data$N %>% length()"
   ]
  },
  {
   "cell_type": "code",
   "execution_count": null,
   "id": "325d2ea9",
   "metadata": {
    "vscode": {
     "languageId": "r"
    }
   },
   "outputs": [],
   "source": []
  },
  {
   "cell_type": "markdown",
   "id": "37426309",
   "metadata": {},
   "source": [
    "#### Three different initial values"
   ]
  },
  {
   "cell_type": "code",
   "execution_count": null,
   "id": "1031c828",
   "metadata": {
    "vscode": {
     "languageId": "r"
    }
   },
   "outputs": [],
   "source": [
    "inits <- function() {\n",
    "    list(\n",
    "        lb = c(0.6, 0.6, 0.5, 2.2, 0.6, 0.4),\n",
    "        lw = c(0.3, 0.3, 0.3, 0.3, 0.3, 0.3),\n",
    "        mu = c(3.0, 3.5, 3.3, 1.0, 2.0, 2.2, 0.2, 0.0, 0.2), \n",
    "        psi = c(0.3,  0.3,  0.3,  0.3,  0.3,  0.3, 0.3, 0.3, 0.3),\n",
    "        psd = 0.6,\n",
    "        gam = c(0.2, 1.0, -0.4), \n",
    "        phip = structure(\n",
    "            .Data = c(0.7, -0.1, 0.0, -0.1, 0.2, 0.0, 0.0, 0.0, 0.18),\n",
    "            .Dim = c(3, 3)\n",
    "        ), \n",
    "        phi = structure(\n",
    "            .Data = c(0.7,  0.4, 0.4, 0.7),\n",
    "            .Dim = c(2, 2)\n",
    "        )\n",
    "    ),\n",
    "\n",
    "    list(\n",
    "        lb = c(0.8, 0.8, 0.7, 2.5, 0.8, 0.6),\n",
    "        lw = c(0.7, 0.7, 0.7, 0.7, 0.7, 0.7),\n",
    "        mu = c(4.0, 4.0, 4.0, 2.0, 3.0, 3.0, 0.5, 0.4, 0.6),\n",
    "        psi = c(0.5,  0.5,  0.5,  0.5,  0.5,  0.5, 0.5, 0.5, 0.5),\n",
    "        psd = 0.36,\n",
    "        gam = c(0.5, 1.7, 0.6),\n",
    "        phip = structure(\n",
    "            .Data = c(0.5, 0.1, -0.1, 0.1, 0.2, 0.0, -0.1, 0.0, 0.5),\n",
    "            .Dim = c(3, 3)\n",
    "        ), \n",
    "        phi = structure(\n",
    "            .Data = c(0.5,  0.1, 0.1, 0.5),\n",
    "            .Dim = c(2, 2)\n",
    "        )\n",
    "    ),\n",
    "\n",
    "    list(\n",
    "        lb = c(1.0, 1.0, 1.0, 3.0, 1.0, 1.0),\n",
    "        lw = c(1.0, 1.0, 1.0, 1.0, 1.0, 1.0),\n",
    "        mu = c(4.8, 4.8, 4.8, 3.5, 4.0, 4.2, 0.8, 0.8, 0.8),\n",
    "        psi = c(0.8,  0.8,  0.8,  0.8,  0.8,  0.8, 0.8, 0.8, 0.8),\n",
    "        psd = 0.9,\n",
    "        gam = c(0.8, 1.2, 0.0), \n",
    "        phip = structure(\n",
    "            .Data = c(0.6, -0.2, 0.2, -0.2, 0.4, 0.1, 0.2, 0.1, 0.3),\n",
    "            .Dim = c(3, 3)\n",
    "        ), \n",
    "        phi = structure(\n",
    "            .Data = c(0.9,  0.0, 0.0, 0.6),\n",
    "            .Dim = c(2, 2)\n",
    "        )\n",
    "    )\n",
    "}"
   ]
  },
  {
   "cell_type": "code",
   "execution_count": 17,
   "id": "533abc4b",
   "metadata": {
    "vscode": {
     "languageId": "r"
    }
   },
   "outputs": [],
   "source": [
    "param <- c(\"lb\", \"lw\", \"psi\", \"gam\", \"phi\", \"mu\", \"xi\")\n",
    "n.iter <- 5000\n",
    "n.burnin  <- 2000"
   ]
  },
  {
   "cell_type": "code",
   "execution_count": 12,
   "id": "c362b8a0",
   "metadata": {
    "vscode": {
     "languageId": "r"
    }
   },
   "outputs": [
    {
     "ename": "ERROR",
     "evalue": "Error in bugs.run(n.burnin, bugs.directory, WINE = WINE, useWINE = useWINE, : Look at the log file and\ntry again with 'debug=TRUE' to figure out what went wrong within Bugs.\n",
     "output_type": "error",
     "traceback": [
      "Error in bugs.run(n.burnin, bugs.directory, WINE = WINE, useWINE = useWINE, : Look at the log file and\ntry again with 'debug=TRUE' to figure out what went wrong within Bugs.\nTraceback:\n",
      "1. R2WinBUGS::bugs(data, inits, param[-length(param)], model.file = model, \n .     n.chains = 2, n.iter = n.iter, n.burnin = n.burnin, debug = TRUE, \n .     codaPkg = TRUE, bugs.directory = paste0(Sys.getenv(\"HOME\"), \n .         \"/.wine/drive_c/Program Files (x86)/WinBUGS14/\"), program = \"WinBUGS\", \n .     working.directory = paste0(getwd(), \"/Chapter9/bugs-output\"), \n .     WINE = \"/usr/bin/wine\", WINEPATH = \"/usr/bin/winepath\")",
      "2. bugs.run(n.burnin, bugs.directory, WINE = WINE, useWINE = useWINE, \n .     newWINE = newWINE, WINEPATH = WINEPATH)",
      "3. stop(\"Look at the log file and\\ntry again with 'debug=TRUE' to figure out what went wrong within Bugs.\")"
     ]
    }
   ],
   "source": [
    "model.out <- R2WinBUGS::bugs(\n",
    "    data, \n",
    "    inits, \n",
    "    param[-length(param)], \n",
    "    model.file = model,\n",
    "    n.chains = 2,\n",
    "    n.iter = n.iter,\n",
    "    n.burnin = n.burnin,\n",
    "    debug = TRUE,\n",
    "    codaPkg = TRUE,\n",
    "    bugs.directory = paste0(Sys.getenv(\"HOME\"), \"/.wine/drive_c/Program Files (x86)/WinBUGS14/\"),\n",
    "    program = \"WinBUGS\",\n",
    "    working.directory = paste0(getwd(), \"/Chapter9/bugs-output\"),\n",
    "    WINE = \"/usr/bin/wine\",\n",
    "    WINEPATH = \"/usr/bin/winepath\"\n",
    ")\n"
   ]
  },
  {
   "cell_type": "code",
   "execution_count": 20,
   "id": "b600e565",
   "metadata": {
    "vscode": {
     "languageId": "r"
    }
   },
   "outputs": [
    {
     "ename": "ERROR",
     "evalue": "Error in bugs.run(n.burnin, OpenBUGS.pgm, debug = debug, WINE = WINE, : Look at the log file in  /home/pal_bjartan/Backup/PhD/SEM-test-model/Lee2007/Chapter9/bugs-output  and\ntry again with 'debug=TRUE' to figure out what went wrong within OpenBUGS.\n",
     "output_type": "error",
     "traceback": [
      "Error in bugs.run(n.burnin, OpenBUGS.pgm, debug = debug, WINE = WINE, : Look at the log file in  /home/pal_bjartan/Backup/PhD/SEM-test-model/Lee2007/Chapter9/bugs-output  and\ntry again with 'debug=TRUE' to figure out what went wrong within OpenBUGS.\nTraceback:\n",
      "1. R2OpenBUGS::bugs(data, inits, param[-length(param)], n.iter, \n .     model.file = model.path, n.chains = 2, n.burnin = n.burnin, \n .     codaPkg = TRUE, working.directory = glue(\"{getwd()}/Chapter9/bugs-output\"))",
      "2. bugs.run(n.burnin, OpenBUGS.pgm, debug = debug, WINE = WINE, \n .     useWINE = useWINE, newWINE = newWINE, WINEPATH = WINEPATH)",
      "3. stop(paste(\"Look at the log file in \", getwd(), \" and\\ntry again with 'debug=TRUE' to figure out what went wrong within OpenBUGS.\"))"
     ]
    }
   ],
   "source": [
    "model.out <- R2OpenBUGS::bugs(\n",
    "    data, \n",
    "    inits, \n",
    "    param[-length(param)],  \n",
    "    n.iter,\n",
    "    model.file = model.path,\n",
    "    n.chains = 2,\n",
    "    n.burnin = n.burnin,\n",
    "    # debug = TRUE,\n",
    "    codaPkg = TRUE,\n",
    "    # OpenBUGS.pgm = paste0(Sys.getenv(\"HOME\"), \"/.wine/drive_c/Program Files (x86)/OpenBUGS/OpenBUGS323/OpenBUGS.exe\"),\n",
    "    working.directory = glue(\"{getwd()}/Chapter9/bugs-output\")# ,\n",
    "    # useWINE = TRUE,\n",
    "    # WINE = \"/usr/bin/wine\",\n",
    "    # WINEPATH = \"/usr/bin/winepath\"\n",
    ")\n"
   ]
  },
  {
   "cell_type": "code",
   "execution_count": 22,
   "id": "049e268c",
   "metadata": {
    "vscode": {
     "languageId": "r"
    }
   },
   "outputs": [
    {
     "name": "stdout",
     "output_type": "stream",
     "text": [
      "Compiling model graph\n",
      "   Resolving undeclared variables\n",
      "   Allocating nodes\n",
      "Deleting model\n",
      "\n"
     ]
    },
    {
     "ename": "ERROR",
     "evalue": "Error in rjags::jags.model(glue(\"{getwd()}/Chapter9/ch9-BUGS-model.txt\"), : RUNTIME ERROR:\nUnable to resolve the following parameters:\nmu[4] (line 15)\nEither supply values for these nodes with the data\nor define them on the left hand side of a relation.\n\n\n",
     "output_type": "error",
     "traceback": [
      "Error in rjags::jags.model(glue(\"{getwd()}/Chapter9/ch9-BUGS-model.txt\"), : RUNTIME ERROR:\nUnable to resolve the following parameters:\nmu[4] (line 15)\nEither supply values for these nodes with the data\nor define them on the left hand side of a relation.\n\n\nTraceback:\n",
      "1. rjags::jags.model(glue(\"{getwd()}/Chapter9/ch9-BUGS-model.txt\"), \n .     data, inits, n.chains = 2, n.adapt = n.burnin)"
     ]
    }
   ],
   "source": [
    "rjags::jags.model(\n",
    "    model.path,\n",
    "    data,\n",
    "    inits,\n",
    "    n.chains = 2,\n",
    "    n.adapt = n.burnin\n",
    ")"
   ]
  },
  {
   "cell_type": "code",
   "execution_count": null,
   "id": "937ab81b",
   "metadata": {
    "vscode": {
     "languageId": "r"
    }
   },
   "outputs": [],
   "source": []
  }
 ],
 "metadata": {
  "kernelspec": {
   "display_name": "R",
   "language": "R",
   "name": "ir"
  },
  "language_info": {
   "codemirror_mode": "r",
   "file_extension": ".r",
   "mimetype": "text/x-r-source",
   "name": "R",
   "pygments_lexer": "r",
   "version": "4.3.1"
  }
 },
 "nbformat": 4,
 "nbformat_minor": 5
}
