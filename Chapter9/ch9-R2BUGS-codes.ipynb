{
 "cells": [
  {
   "cell_type": "markdown",
   "id": "08afe86c",
   "metadata": {},
   "source": [
    "### This is a WinBUGS Codes for the artificial example in Chapter 9,  Section 9.7.\n",
    "\n",
    "#### Model: Two-level nonlinear structural equation model\n",
    "\n",
    "Data Set Name:  YO.dat\n",
    "\n",
    "Sample Size: N = 1555\n",
    "\n",
    "Note: pi[g, j] is for omega(2g, j),  lb and lw are for lambda2 and lambda_1,  respectively."
   ]
  },
  {
   "cell_type": "code",
   "execution_count": 2,
   "id": "7bbc5e25",
   "metadata": {
    "vscode": {
     "languageId": "r"
    }
   },
   "outputs": [
    {
     "name": "stderr",
     "output_type": "stream",
     "text": [
      "Loading required package: coda\n",
      "\n",
      "Loading required package: boot\n",
      "\n",
      "This is cmdstanr version 0.6.1\n",
      "\n",
      "- CmdStanR documentation and vignettes: mc-stan.org/cmdstanr\n",
      "\n",
      "- CmdStan path: /home/pal_bjartan/.cmdstan/cmdstan-2.33.1\n",
      "\n",
      "- CmdStan version: 2.33.1\n",
      "\n",
      "This is bayesplot version 1.10.0\n",
      "\n",
      "- Online documentation and vignettes at mc-stan.org/bayesplot\n",
      "\n",
      "- bayesplot theme set to bayesplot::theme_default()\n",
      "\n",
      "   * Does _not_ affect other ggplot2 plots\n",
      "\n",
      "   * See ?bayesplot_theme_set for details on theme setting\n",
      "\n"
     ]
    }
   ],
   "source": [
    "source(\".Rprofile\")"
   ]
  },
  {
   "cell_type": "code",
   "execution_count": 5,
   "id": "f69035f4",
   "metadata": {
    "vscode": {
     "languageId": "r"
    }
   },
   "outputs": [],
   "source": [
    "model <- function() {\n",
    "    for(g in 1:50) {\n",
    "\t\tfor(i in 1:N[g]) { \n",
    "\t\t\tfor(j in 1:9) { \n",
    "\t\t\t\ty[kk[g] + i, j] ~ dnorm(u[kk[g] + i, j], psi[j]) \n",
    "\t\t\t\tephat[kk[g] + i, j] <- y[kk[g] + i, j]-u[kk[g] + i, j]\n",
    "\t\t\t}\n",
    "            u[kk[g] + i, 1] <- mu[1] + pi[g, 1] + eta[g, i]\n",
    "            u[kk[g] + i, 2] <- mu[2] + lb[1] * pi[g, 1] + lw[1] * eta[g, i]\n",
    "            u[kk[g] + i, 3] <- mu[3] + lb[2] * pi[g, 1] + lw[2] * eta[g, i]\n",
    "            u[kk[g] + i, 4] <- mu[4] + pi[g, 2] + xi[g, i, 1]\n",
    "            u[kk[g] + i, 5] <- mu[5] + lb[3] * pi[g, 2] + lw[3] * xi[g, i, 1]\n",
    "            u[kk[g] + i, 6] <- mu[6] + lb[4] * pi[g, 2] + lw[4] * xi[g, i, 1]\n",
    "            u[kk[g] + i, 7] <- mu[7] + pi[g, 3] + xi[g, i, 2]\n",
    "            u[kk[g] + i, 8] <- mu[8] + lb[5] * pi[g, 3] + lw[5] * xi[g, i, 2]\n",
    "            u[kk[g] + i, 9] <- mu[9] + lb[6] * pi[g, 3] + lw[6] * xi[g, i, 2]\n",
    "            xi[g, i, 1:2] ~ dmnorm(ux[1:2], phi[1:2, 1:2])      # ux = [0 0]^T  is fixed constant\n",
    "            eta[g, i] ~ dnorm(nu[g, i],  psd)\n",
    "            nu[g, i] <- gam[1] * xi[g, i, 1] + gam[2] * xi[g, i, 2] + gam[3] * xi[g, i, 1] * xi[g, i, 2]\n",
    "\t\t\tdthat[g, i] <- eta[g, i]-nu[g, i]\n",
    "\t\t}# end of i\n",
    "        pi[g, 1:3] ~ dmnorm(uu[1:3], phip[1:3, 1:3])\n",
    "\t}# end of g\n",
    "\n",
    "    uu[1] <- 0.0\n",
    "    uu[2] <- 0.0\n",
    "    uu[3] <- 0.0\n",
    "    ux[1] <- 0.0\n",
    "    ux[2] <- 0.0  \n",
    "\n",
    "    # priors on loadings and coefficients\n",
    "    mu[1] ~ dnorm(4.248, 4.0)\n",
    "    mu[2] ~ dnorm(4.668, 4.0)\n",
    "    mu[3] ~ dnorm(4.56, 4.0)\n",
    "    mu[5] ~ dnorm(3.161, 4.0)\n",
    "    mu[6] ~ dnorm(3.445, 4.0)\n",
    "    mu[7] ~ dnorm(0.526, 4.0)\n",
    "    mu[8] ~ dnorm(0.375, 4.0)\n",
    "    mu[9] ~ dnorm(0.596, 4.0)\n",
    "\n",
    "    var.bw[1] <- 4.0 * psi[2]\n",
    "    var.bw[2] <- 4.0 * psi[3]\n",
    "    var.bw[3] <- 4.0 * psi[5]\n",
    "    var.bw[4] <- 4.0 * psi[6]\n",
    "    var.bw[5] <- 4.0 * psi[8]\n",
    "    var.bw[6] <- 4.0 * psi[9]\n",
    "\n",
    "    lb[1] ~ dnorm(1.096, var.bw[1])\n",
    "    lb[2] ~ dnorm(0.861, var.bw[2])\n",
    "    lb[3] ~ dnorm(0.590, var.bw[3])\n",
    "    lb[4] ~ dnorm(1.470, var.bw[4])\n",
    "    lb[5] ~ dnorm(0.787, var.bw[5])\n",
    "    lb[6] ~ dnorm(0.574, var.bw[6])\n",
    "\n",
    "    lw[1] ~ dnorm(0.825, var.bw[1])\n",
    "    lw[2] ~ dnorm(0.813, var.bw[2])\n",
    "    lw[3] ~ dnorm(0.951, var.bw[3])\n",
    "    lw[4] ~ dnorm(0.692, var.bw[4])\n",
    "    lw[5] ~ dnorm(0.986, var.bw[5])\n",
    "    lw[6] ~ dnorm(0.800, var.bw[6])\n",
    "\n",
    "    var.gam <- 4.0 * psd\n",
    "\n",
    "    gam[1] ~ dnorm(0.577, var.gam)\n",
    "    gam[2] ~ dnorm(1.712, var.gam)\n",
    "    gam[3] ~ dnorm(-0.571, var.gam)\n",
    "\n",
    "    # priors on precisions\n",
    "    for(j in 1:9){\n",
    "        psi[j] ~ dgamma(10.0, 4.0)\n",
    "        ivpsi[j] <- 1/psi[j]\n",
    "    }\n",
    "\n",
    "    psd ~ dgamma(10.0, 4.0)\n",
    "    ivpsd <- 1/psd\n",
    "\n",
    "    phi[1:2, 1:2] ~ dwish(R0[1:2, 1:2], 5)\n",
    "    phx[1:2, 1:2] <- inverse(phi[1:2, 1:2])\n",
    "\n",
    "    phip[1:3, 1:3] ~ dwish(R1[1:3, 1:3], 5)\n",
    "    php[1:3, 1:3] <- inverse(phip[1:3, 1:3])\n",
    "\n",
    "}# end of model\n",
    "\n",
    "model.path <- glue(\"{getwd()}/Chapter9/ch9-BUGS-model.txt\")\n",
    "write.model(model, con = model.path)"
   ]
  },
  {
   "cell_type": "markdown",
   "id": "e4711e28",
   "metadata": {},
   "source": [
    "#### Data\n"
   ]
  },
  {
   "cell_type": "code",
   "execution_count": 8,
   "id": "606c5bba",
   "metadata": {
    "vscode": {
     "languageId": "r"
    }
   },
   "outputs": [],
   "source": [
    "data <- list(\n",
    "    N = c(28, 27, 25, 28, 33, 26, 18, 26, 17, 24, 26, 24, 24, 30, 23, 24, 29, \n",
    "        27, 34, 18, 20, 14, 27, 28, 28, 26, 43, 32, 43, 43, 41, 47, 45, 41, 25, \n",
    "        36, 32, 36, 44, 36, 32, 37, 36, 27, 38, 34, 39, 40, 37, 37),\n",
    "    kk = c(0, 28, 55, 80, 108, 141, 167, 185, 211, 228, 252, 278, 302, 326, \n",
    "        356, 379, 403, 432, 459, 493, 511, 531, 545, 572, 600, 628, 654, 697, \n",
    "        729, 772, 815, 856, 903, 948, 989, 1014, 1050, 1082, 1118, 1162, 1198, \n",
    "        1230, 1267, 1303, 1330, 1368, 1402, 1441, 1481, 1518),\n",
    "    R0 = structure(\n",
    "        .Data = c(1.940, 0.775, 0.775, 0.600),\n",
    "        .Dim = c(2, 2)\n",
    "    ), \n",
    "    R1 = structure(\n",
    "        .Data = c(13.6, -0.61, 0.48, -0.61, 0.24, 0.06, 0.48, 0.06, 0.22),\n",
    "        .Dim = c(3, 3)\n",
    "    ), \n",
    "    y = read.csv(\n",
    "            \"./Chapter9/ch9-WinBUGS-data.dat\",\n",
    "            header = FALSE,\n",
    "            skip = 2\n",
    "            ) %>%\n",
    "        .[,1:(ncol(.) - 1)] %>%\n",
    "        as.matrix() %>%\n",
    "        unname()\n",
    ")"
   ]
  },
  {
   "cell_type": "markdown",
   "id": "37426309",
   "metadata": {},
   "source": [
    "#### Three different initial values"
   ]
  },
  {
   "cell_type": "code",
   "execution_count": null,
   "id": "1031c828",
   "metadata": {
    "vscode": {
     "languageId": "r"
    }
   },
   "outputs": [],
   "source": [
    "inits <- function() {\n",
    "    list(\n",
    "        lb = c(0.6, 0.6, 0.5, 2.2, 0.6, 0.4),\n",
    "        lw = c(0.3, 0.3, 0.3, 0.3, 0.3, 0.3),\n",
    "        mu = c(3.0, 3.5, 3.3, 1.0, 2.0, 2.2, 0.2, 0.0, 0.2), \n",
    "        psi = c(0.3,  0.3,  0.3,  0.3,  0.3,  0.3, 0.3, 0.3, 0.3),\n",
    "        psd = 0.6,\n",
    "        gam = c(0.2, 1.0, -0.4), \n",
    "        phip = structure(\n",
    "            .Data = c(0.7, -0.1, 0.0, -0.1, 0.2, 0.0, 0.0, 0.0, 0.18),\n",
    "            .Dim = c(3, 3)\n",
    "        ), \n",
    "        phi = structure(\n",
    "            .Data = c(0.7,  0.4, 0.4, 0.7),\n",
    "            .Dim = c(2, 2)\n",
    "        )\n",
    "    ),\n",
    "\n",
    "    list(\n",
    "        lb = c(0.8, 0.8, 0.7, 2.5, 0.8, 0.6),\n",
    "        lw = c(0.7, 0.7, 0.7, 0.7, 0.7, 0.7),\n",
    "        mu = c(4.0, 4.0, 4.0, 2.0, 3.0, 3.0, 0.5, 0.4, 0.6),\n",
    "        psi = c(0.5,  0.5,  0.5,  0.5,  0.5,  0.5, 0.5, 0.5, 0.5),\n",
    "        psd = 0.36,\n",
    "        gam = c(0.5, 1.7, 0.6),\n",
    "        phip = structure(\n",
    "            .Data = c(0.5, 0.1, -0.1, 0.1, 0.2, 0.0, -0.1, 0.0, 0.5),\n",
    "            .Dim = c(3, 3)\n",
    "        ), \n",
    "        phi = structure(\n",
    "            .Data = c(0.5,  0.1, 0.1, 0.5),\n",
    "            .Dim = c(2, 2)\n",
    "        )\n",
    "    ),\n",
    "\n",
    "    list(\n",
    "        lb = c(1.0, 1.0, 1.0, 3.0, 1.0, 1.0),\n",
    "        lw = c(1.0, 1.0, 1.0, 1.0, 1.0, 1.0),\n",
    "        mu = c(4.8, 4.8, 4.8, 3.5, 4.0, 4.2, 0.8, 0.8, 0.8),\n",
    "        psi = c(0.8,  0.8,  0.8,  0.8,  0.8,  0.8, 0.8, 0.8, 0.8),\n",
    "        psd = 0.9,\n",
    "        gam = c(0.8, 1.2, 0.0), \n",
    "        phip = structure(\n",
    "            .Data = c(0.6, -0.2, 0.2, -0.2, 0.4, 0.1, 0.2, 0.1, 0.3),\n",
    "            .Dim = c(3, 3)\n",
    "        ), \n",
    "        phi = structure(\n",
    "            .Data = c(0.9,  0.0, 0.0, 0.6),\n",
    "            .Dim = c(2, 2)\n",
    "        )\n",
    "    )\n",
    "}"
   ]
  },
  {
   "cell_type": "code",
   "execution_count": 17,
   "id": "533abc4b",
   "metadata": {
    "vscode": {
     "languageId": "r"
    }
   },
   "outputs": [],
   "source": [
    "param <- c(\"lb\", \"lw\", \"psi\", \"gam\", \"phi\", \"mu\", \"xi\")\n",
    "n.iter <- 5000\n",
    "n.burnin  <- 2000"
   ]
  },
  {
   "cell_type": "code",
   "execution_count": 12,
   "id": "c362b8a0",
   "metadata": {
    "vscode": {
     "languageId": "r"
    }
   },
   "outputs": [
    {
     "ename": "ERROR",
     "evalue": "Error in bugs.run(n.burnin, bugs.directory, WINE = WINE, useWINE = useWINE, : Look at the log file and\ntry again with 'debug=TRUE' to figure out what went wrong within Bugs.\n",
     "output_type": "error",
     "traceback": [
      "Error in bugs.run(n.burnin, bugs.directory, WINE = WINE, useWINE = useWINE, : Look at the log file and\ntry again with 'debug=TRUE' to figure out what went wrong within Bugs.\nTraceback:\n",
      "1. R2WinBUGS::bugs(data, inits, param[-length(param)], model.file = model, \n .     n.chains = 2, n.iter = n.iter, n.burnin = n.burnin, debug = TRUE, \n .     codaPkg = TRUE, bugs.directory = paste0(Sys.getenv(\"HOME\"), \n .         \"/.wine/drive_c/Program Files (x86)/WinBUGS14/\"), program = \"WinBUGS\", \n .     working.directory = paste0(getwd(), \"/Chapter9/bugs-output\"), \n .     WINE = \"/usr/bin/wine\", WINEPATH = \"/usr/bin/winepath\")",
      "2. bugs.run(n.burnin, bugs.directory, WINE = WINE, useWINE = useWINE, \n .     newWINE = newWINE, WINEPATH = WINEPATH)",
      "3. stop(\"Look at the log file and\\ntry again with 'debug=TRUE' to figure out what went wrong within Bugs.\")"
     ]
    }
   ],
   "source": [
    "model.out <- R2WinBUGS::bugs(\n",
    "    data, \n",
    "    inits, \n",
    "    param[-length(param)], \n",
    "    model.file = model,\n",
    "    n.chains = 2,\n",
    "    n.iter = n.iter,\n",
    "    n.burnin = n.burnin,\n",
    "    debug = TRUE,\n",
    "    codaPkg = TRUE,\n",
    "    bugs.directory = paste0(Sys.getenv(\"HOME\"), \"/.wine/drive_c/Program Files (x86)/WinBUGS14/\"),\n",
    "    program = \"WinBUGS\",\n",
    "    working.directory = paste0(getwd(), \"/Chapter9/bugs-output\"),\n",
    "    WINE = \"/usr/bin/wine\",\n",
    "    WINEPATH = \"/usr/bin/winepath\"\n",
    ")\n"
   ]
  },
  {
   "cell_type": "code",
   "execution_count": 20,
   "id": "b600e565",
   "metadata": {
    "vscode": {
     "languageId": "r"
    }
   },
   "outputs": [
    {
     "ename": "ERROR",
     "evalue": "Error in bugs.run(n.burnin, OpenBUGS.pgm, debug = debug, WINE = WINE, : Look at the log file in  /home/pal_bjartan/Backup/PhD/SEM-test-model/Lee2007/Chapter9/bugs-output  and\ntry again with 'debug=TRUE' to figure out what went wrong within OpenBUGS.\n",
     "output_type": "error",
     "traceback": [
      "Error in bugs.run(n.burnin, OpenBUGS.pgm, debug = debug, WINE = WINE, : Look at the log file in  /home/pal_bjartan/Backup/PhD/SEM-test-model/Lee2007/Chapter9/bugs-output  and\ntry again with 'debug=TRUE' to figure out what went wrong within OpenBUGS.\nTraceback:\n",
      "1. R2OpenBUGS::bugs(data, inits, param[-length(param)], n.iter, \n .     model.file = model.path, n.chains = 2, n.burnin = n.burnin, \n .     codaPkg = TRUE, working.directory = glue(\"{getwd()}/Chapter9/bugs-output\"))",
      "2. bugs.run(n.burnin, OpenBUGS.pgm, debug = debug, WINE = WINE, \n .     useWINE = useWINE, newWINE = newWINE, WINEPATH = WINEPATH)",
      "3. stop(paste(\"Look at the log file in \", getwd(), \" and\\ntry again with 'debug=TRUE' to figure out what went wrong within OpenBUGS.\"))"
     ]
    }
   ],
   "source": [
    "model.out <- R2OpenBUGS::bugs(\n",
    "    data, \n",
    "    inits, \n",
    "    param[-length(param)],  \n",
    "    n.iter,\n",
    "    model.file = model.path,\n",
    "    n.chains = 2,\n",
    "    n.burnin = n.burnin,\n",
    "    # debug = TRUE,\n",
    "    codaPkg = TRUE,\n",
    "    # OpenBUGS.pgm = paste0(Sys.getenv(\"HOME\"), \"/.wine/drive_c/Program Files (x86)/OpenBUGS/OpenBUGS323/OpenBUGS.exe\"),\n",
    "    working.directory = glue(\"{getwd()}/Chapter9/bugs-output\")# ,\n",
    "    # useWINE = TRUE,\n",
    "    # WINE = \"/usr/bin/wine\",\n",
    "    # WINEPATH = \"/usr/bin/winepath\"\n",
    ")\n"
   ]
  },
  {
   "cell_type": "code",
   "execution_count": 22,
   "id": "049e268c",
   "metadata": {
    "vscode": {
     "languageId": "r"
    }
   },
   "outputs": [
    {
     "name": "stdout",
     "output_type": "stream",
     "text": [
      "Compiling model graph\n",
      "   Resolving undeclared variables\n",
      "   Allocating nodes\n",
      "Deleting model\n",
      "\n"
     ]
    },
    {
     "ename": "ERROR",
     "evalue": "Error in rjags::jags.model(glue(\"{getwd()}/Chapter9/ch9-BUGS-model.txt\"), : RUNTIME ERROR:\nUnable to resolve the following parameters:\nmu[4] (line 15)\nEither supply values for these nodes with the data\nor define them on the left hand side of a relation.\n\n\n",
     "output_type": "error",
     "traceback": [
      "Error in rjags::jags.model(glue(\"{getwd()}/Chapter9/ch9-BUGS-model.txt\"), : RUNTIME ERROR:\nUnable to resolve the following parameters:\nmu[4] (line 15)\nEither supply values for these nodes with the data\nor define them on the left hand side of a relation.\n\n\nTraceback:\n",
      "1. rjags::jags.model(glue(\"{getwd()}/Chapter9/ch9-BUGS-model.txt\"), \n .     data, inits, n.chains = 2, n.adapt = n.burnin)"
     ]
    }
   ],
   "source": [
    "rjags::jags.model(\n",
    "    model.path,\n",
    "    data,\n",
    "    inits,\n",
    "    n.chains = 2,\n",
    "    n.adapt = n.burnin\n",
    ")"
   ]
  },
  {
   "cell_type": "code",
   "execution_count": null,
   "id": "937ab81b",
   "metadata": {
    "vscode": {
     "languageId": "r"
    }
   },
   "outputs": [],
   "source": []
  }
 ],
 "metadata": {
  "kernelspec": {
   "display_name": "R",
   "language": "R",
   "name": "ir"
  },
  "language_info": {
   "codemirror_mode": "r",
   "file_extension": ".r",
   "mimetype": "text/x-r-source",
   "name": "R",
   "pygments_lexer": "r",
   "version": "4.3.1"
  }
 },
 "nbformat": 4,
 "nbformat_minor": 5
}
