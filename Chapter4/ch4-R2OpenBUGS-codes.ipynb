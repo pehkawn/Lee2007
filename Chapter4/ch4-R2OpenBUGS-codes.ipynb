{
 "cells": [
  {
   "cell_type": "markdown",
   "id": "d3227c58",
   "metadata": {},
   "source": [
    "### This is an R2OpenBUGS program for the artificial example in Chapter 4, Section 4.5.\n",
    "\n",
    "Model: Standard Structural Equation Model\n",
    "Data Set Name: YO.dat\n",
    "Sample Size: N=300\n",
    "\n",
    "\n",
    "#### (A) Codes for specification of the model using R language"
   ]
  },
  {
   "cell_type": "code",
   "execution_count": 4,
   "id": "9592abc1",
   "metadata": {
    "vscode": {
     "languageId": "r"
    }
   },
   "outputs": [
    {
     "name": "stderr",
     "output_type": "stream",
     "text": [
      "── \u001b[1mAttaching core tidyverse packages\u001b[22m ──────────────────────── tidyverse 2.0.0 ──\n",
      "\u001b[32m✔\u001b[39m \u001b[34mdplyr    \u001b[39m 1.1.2     \u001b[32m✔\u001b[39m \u001b[34mreadr    \u001b[39m 2.1.4\n",
      "\u001b[32m✔\u001b[39m \u001b[34mforcats  \u001b[39m 1.0.0     \u001b[32m✔\u001b[39m \u001b[34mstringr  \u001b[39m 1.5.0\n",
      "\u001b[32m✔\u001b[39m \u001b[34mggplot2  \u001b[39m 3.4.2     \u001b[32m✔\u001b[39m \u001b[34mtibble   \u001b[39m 3.2.1\n",
      "\u001b[32m✔\u001b[39m \u001b[34mlubridate\u001b[39m 1.9.2     \u001b[32m✔\u001b[39m \u001b[34mtidyr    \u001b[39m 1.3.0\n",
      "\u001b[32m✔\u001b[39m \u001b[34mpurrr    \u001b[39m 1.0.1     \n",
      "── \u001b[1mConflicts\u001b[22m ────────────────────────────────────────── tidyverse_conflicts() ──\n",
      "\u001b[31m✖\u001b[39m \u001b[34mdplyr\u001b[39m::\u001b[32mfilter()\u001b[39m masks \u001b[34mstats\u001b[39m::filter()\n",
      "\u001b[31m✖\u001b[39m \u001b[34mdplyr\u001b[39m::\u001b[32mlag()\u001b[39m    masks \u001b[34mstats\u001b[39m::lag()\n",
      "\u001b[36mℹ\u001b[39m Use the conflicted package (\u001b[3m\u001b[34m<http://conflicted.r-lib.org/>\u001b[39m\u001b[23m) to force all conflicts to become errors\n",
      "\n",
      "Attaching package: ‘magrittr’\n",
      "\n",
      "\n",
      "The following object is masked from ‘package:purrr’:\n",
      "\n",
      "    set_names\n",
      "\n",
      "\n",
      "The following object is masked from ‘package:tidyr’:\n",
      "\n",
      "    extract\n",
      "\n",
      "\n",
      "Loading required package: StanHeaders\n",
      "\n",
      "rstan (Version 2.21.8, GitRev: 2e1f913d3ca3)\n",
      "\n",
      "For execution on a local, multicore CPU with excess RAM we recommend calling\n",
      "options(mc.cores = parallel::detectCores()).\n",
      "To avoid recompilation of unchanged Stan programs, we recommend calling\n",
      "rstan_options(auto_write = TRUE)\n",
      "\n",
      "\n",
      "Attaching package: ‘rstan’\n",
      "\n",
      "\n",
      "The following object is masked from ‘package:R2OpenBUGS’:\n",
      "\n",
      "    monitor\n",
      "\n",
      "\n",
      "The following object is masked from ‘package:magrittr’:\n",
      "\n",
      "    extract\n",
      "\n",
      "\n",
      "The following object is masked from ‘package:tidyr’:\n",
      "\n",
      "    extract\n",
      "\n",
      "\n"
     ]
    }
   ],
   "source": [
    "source(\".Rprofile\")"
   ]
  },
  {
   "cell_type": "code",
   "execution_count": 1,
   "id": "e8c3ce3a",
   "metadata": {
    "vscode": {
     "languageId": "r"
    }
   },
   "outputs": [],
   "source": [
    "model  <- function() {\n",
    "    for(i in 1:N){\n",
    "        #measurement equation model\n",
    "        for(j in 1:P){\n",
    "            y[i,j] ~ dnorm(mu[i,j],psi[j])\n",
    "            ephat[i,j] <- y[i,j] - mu[i,j]\n",
    "        }\n",
    "        mu[i,1] <- eta[i]+alp[1]\n",
    "        mu[i,2] <- lam[1] * eta[i] + alp[2]\n",
    "        mu[i,3] <- lam[2] * eta[i] + alp[3]\n",
    "        mu[i,4] <- xi[i,1] + alp[4]\n",
    "        mu[i,5] <- lam[3] * xi[i,1] + alp[5]\n",
    "        mu[i,6] <- lam[4] * xi[i,1] + alp[6]\n",
    "        mu[i,7] <- xi[i,2] + alp[7]\n",
    "        mu[i,8] <- lam[5] * xi[i,2] + alp[8]\n",
    "        mu[i,9] <- lam[6] * xi[i,2] + alp[9]\n",
    "\n",
    "        #structural equation model\n",
    "        xi[i,1:2] ~ dmnorm(u[1:2], phi[1:2,1:2])\n",
    "        eta[i] ~ dnorm(nu[i], psd)\n",
    "        nu[i] <- gam[1] * xi[i,1] + gam[2] * xi[i,2]\n",
    "        dthat[i] <- eta[i] - nu[i]\n",
    "    } #end of i\n",
    "\n",
    "   #priors on loadings and coefficients\n",
    "   lam[1] ~ dnorm(0.8, psi[2])\n",
    "   lam[2] ~ dnorm(0.8, psi[3])\n",
    "   lam[3] ~ dnorm(0.8, psi[5])\n",
    "   lam[4] ~ dnorm(0.8, psi[6])\n",
    "   lam[5] ~ dnorm(0.8, psi[8])\n",
    "   lam[6] ~ dnorm(0.8, psi[9])\n",
    "   for(j in 1:2){ gam[j] ~ dnorm(0.5, psd) }\n",
    "   \n",
    "   #priors on precisions\n",
    "   for(j in 1:P){\n",
    "       psi[j] ~ dgamma(9.0, 4.0)\n",
    "       sgm[j] <- 1/psi[j]\n",
    "   }\n",
    "   psd ~ dgamma(9.0, 4.0)\n",
    "   sgd <- 1/psd\n",
    "   phi[1:2,1:2] ~ dwish(R[1:2,1:2], 5)\n",
    "   phx[1:2,1:2] <- inverse(phi[1:2, 1:2])\n",
    "\n",
    "} #end of model"
   ]
  },
  {
   "cell_type": "code",
   "execution_count": 6,
   "id": "121e6a7f",
   "metadata": {
    "vscode": {
     "languageId": "r"
    }
   },
   "outputs": [],
   "source": [
    "write.model(model, con = \"./Chapter4/ch4-R2OpenBUGS-model.bug\")"
   ]
  },
  {
   "cell_type": "markdown",
   "id": "194db34e",
   "metadata": {},
   "source": [
    "\n",
    "#### (B) Check model\n",
    "\n",
    "Click Model on the tool bar once.\n",
    "\n",
    "Highlight the Specification option and click once.\n",
    "\n",
    "Highlight the word model at the beginning of the aforementioned written code.\n",
    "\n",
    "Click check model in the Specification Tool window once.\n",
    "\n",
    "Errors messages will be show in the status bar at the bottom left of the WinBUGS\n",
    "program window, and the cursor will be at the place where the error was found. If\n",
    "there are no errors,\n",
    "then the message `model is syntactically correct' will appear at the bottom left of\n",
    "the WinBUGS program window.\n",
    "\n",
    "\n",
    "#### (C) Load data\n",
    "\n",
    "Continue to input the following format for the data in the codes window (follow the\n",
    "last line of the codes that is given in (A)) or in a new blank white window.\n",
    "\n",
    "##### Data"
   ]
  },
  {
   "cell_type": "code",
   "execution_count": 9,
   "id": "1314f3ed",
   "metadata": {
    "vscode": {
     "languageId": "r"
    }
   },
   "outputs": [
    {
     "ename": "ERROR",
     "evalue": "Error in attributes(.Data) <- c(attributes(.Data), attrib): dims [product 2700] do not match the length of object [1]\n",
     "output_type": "error",
     "traceback": [
      "Error in attributes(.Data) <- c(attributes(.Data), attrib): dims [product 2700] do not match the length of object [1]\nTraceback:\n",
      "1. structure(.Data = c(\"./ch4-WinBUGS-data.dat\"), .Dim = c(300, \n .     9))"
     ]
    }
   ],
   "source": [
    "data <- list(\n",
    "   N=300, P=9, u=c(0,0),\n",
    "   y=structure(\n",
    "   .Data=c(paste YO.dat here),\n",
    "      .Dim=c(300,9)),\n",
    "   R=structure(\n",
    "      .Data=c(1.0, 0.0,\n",
    "               0.0, 1.0),.Dim=c(2,2))\n",
    ")"
   ]
  },
  {
   "cell_type": "markdown",
   "id": "164a9276",
   "metadata": {},
   "source": [
    "Highlight the word list in this format.\n",
    "\n",
    "Click load data in the Specification Tool window once.\n",
    "\n",
    "When the data have been successfully loaded, the message `data loaded' should\n",
    "appear at the bottom left of the WinBUGS program window.\n",
    "\n",
    "#### (D) Compile model\n",
    "\n",
    "By default, the program simulate one chain of observations. To generate three\n",
    "chains with three different sets of initial values, type 3 in the box labeled num of\n",
    "chains in the Specification Tool window.\n",
    "\n",
    "Click compile in the Specification Tool window once. The message `model\n",
    "compiled' should appear at the bottom left of the WinBUGS program window.\n",
    "\n",
    "#### (E) Load initial values\n",
    "\n",
    "Continue to input the following format in the codes window or a new blank\n",
    "window.\n",
    "\n",
    "##### Three different initial values"
   ]
  },
  {
   "cell_type": "code",
   "execution_count": null,
   "id": "b208688e",
   "metadata": {
    "vscode": {
     "languageId": "r"
    }
   },
   "outputs": [],
   "source": [
    "list(alp=c(0.0, 0.0, 0.0, 0.0, 0.0, 0.0, 0.0, 0.0, 0.0),\n",
    "     lam=c(0.0, 0.0, 0.0, 0.0, 0.0, 0.0),\n",
    "     psi=c(1.0, 1.0, 1.0, 1.0, 1.0, 1.0, 1.0, 1.0, 1.0),\n",
    "     psd=1.0,     gam=c(1.0, 1.0),\n",
    "     phi=structure(\n",
    "        .Data=c(0.2, 0.1,\n",
    "                 0.1, 0.9),\n",
    "        .Dim=c(2,2)))\n",
    "\n",
    "list(alp=c(-2.0, -2.0, -2.0, -2.0, -2.0, -2.0, -2.0, -2.0, -2.0),\n",
    "     lam=c(-1.0, 0.0, 0.3, 0.6, 0.9, 1.0),\n",
    "     psi=c(1.5, 1.5, 1.5, 1.5, 1.5, 1.5, 1.5, 1.5, 1.5),\n",
    "     psd=1.5,     gam=c(-1.0,-1.0),\n",
    "     phi=structure(\n",
    "        .Data=c(0.5, 0.2,\n",
    "                 0.2, 0.6),\n",
    "        .Dim=c(2,2)))\n",
    "\n",
    "list(alp=c(2.0, 2.0, 2.0, 2.0, 2.0, 2.0, 2.0, 2.0, 2.0),\n",
    "     lam=c(1.0, 0.3, 0.4, 0.5, 1.0, -1.0),\n",
    "     psi=c(0.3, 0.3, 0.3, 0.3, 0.3, 0.3, 0.3, 0.3, 0.3),\n",
    "     psd=0.3,     gam=c(2.0, 2.0),\n",
    "     phi=structure(\n",
    "        .Data=c(0.9, 0.3,\n",
    "                 0.3, 0.8),\n",
    "        .Dim=c(2,2)))"
   ]
  },
  {
   "cell_type": "markdown",
   "id": "9c216340",
   "metadata": {},
   "source": [
    "Highlight the word list in these formats to input the first initial values.\n",
    "\n",
    "Click load inits in the Specification Tool window once.\n",
    "\n",
    "Click the gen inits button in the Specification Tool window once. This is\n",
    "necessary to generate the nodes xis' in the MCMC algorithm.\n",
    " If the model is fully initialized after loading the initial values, then a message\n",
    "saying 'initial values loaded: model initialized' will appear at the bottom left of the\n",
    "WinBUGS program\n",
    "window. Otherwise, the message 'initial values loaded: model contains\n",
    "uninitialized nodes' will appear at the bottom left of the WinBUGS program\n",
    "window.\n",
    "\n",
    "#### (F) Run simulation and check convergence\n",
    "\n",
    "##### Step 1: Input the monitored parameters\n",
    "\n",
    "Click Inference on the tool bar once.\n",
    "\n",
    "Click Samples once. A Sample Monitor Tool window will appear.\n",
    "\n",
    "Type the node of the parameters (for example, the parameter vector bb) to be\n",
    "monitored into the box marked node in the Sample Monitor Tool window.\n",
    "\n",
    "Click set in the Sample Monitor Tool window once.\n",
    "\n",
    "##### Step 2: Sample observations for the monitored node\n",
    "\n",
    "Click Model on the tool bar once.\n",
    "\n",
    "Click Update option once. A Update Tool window will appear.\n",
    "\n",
    "Type the total number of MCMC iterations (for example, 5000 or 10000; the\n",
    "default value is 1000) into the box named updates in the Update Tool window.\n",
    "\n",
    "Type the number of refresh (i.e., that are requested how often the screen is\n",
    "refreshed to show how the sampling is proceeding) into the box marked refresh\n",
    "in the Update Tool window. The default value is 100.\n",
    "\n",
    "Type the number of thin (for example, k, i.e., the samples from every k-th\n",
    "iteration can be stored) into the box marked thin. The default is 1.\n",
    "\n",
    "Click update in the Update Tool window once. Wait for the program to finish\n",
    "simulating the specified number of iterations.\n",
    "\n",
    "When finished, the message `updates took ***s' will appear in the bottom left of\n",
    "the WinBUGS program window.\n",
    "\n",
    "##### Step 3: Check convergence\n",
    "\n",
    "Point to the Sample Monitor Tool window in Step 1.\n",
    " Type the previously monitored node that is given in Step 1 (for example, bb) into\n",
    "the box marked node in the Sample Monitor Tool window.\n",
    "\n",
    "The first few thousand iterations (say J) should be treated as burn-in iterations.\n",
    "This is carried out by specifying the number J in the box marked beg in the\n",
    "Sample Monitor Tool window. The remaining iteration will be used to obtain the\n",
    "Bayesian statistics.\n",
    "\n",
    "Click trace in the Sample Monitor Tool window once. Plots of the simulated\n",
    "observations against the number of iterations for all of the parameters in bb will\n",
    "be shown for checking whether the algorithm has converged.\n",
    "\n",
    "##### Step 4: Obtain Bayesian statistics\n",
    "\n",
    "Click stats in the Sample Monitor Tool window once. The results for statistics\n",
    "inference, for example, the mean (the Bayesian estimates), standard deviation,\n",
    "Monte Carlo error, will be given.\n",
    "\n",
    "To get estimates for omega_i (i.e. node xi), repeat the aforementioned steps 1-3\n",
    "with additional iterations (for example, 4000 or 5000). Note that the output results\n",
    "are displayed\n",
    "by a column vector"
   ]
  },
  {
   "cell_type": "code",
   "execution_count": null,
   "id": "1c3cb979",
   "metadata": {
    "vscode": {
     "languageId": "r"
    }
   },
   "outputs": [],
   "source": [
    "(xi[1,1],xi[1,2],xi[1,3],xi[2,1],xi[2,2],xi[2,3],......,xi[100,1],xi[100,2],xi[100,3])"
   ]
  },
  {
   "cell_type": "markdown",
   "id": "5b2525fd",
   "metadata": {},
   "source": [
    "To get the corresponding DIC values, one can do as follows after the program\n",
    "was converged:\n",
    "\n",
    "Click Inference on the tool bar once.\n",
    "\n",
    "Click DIC once. A DIC window will appear, and then click Set in this window.\n",
    "Return to the update window, and let the program run some iterations, say 5000\n",
    "iterations, then go back to the DIC window and click DIC. A window which\n",
    "contains the DIC value will pop up."
   ]
  },
  {
   "cell_type": "markdown",
   "id": "a4d1817c",
   "metadata": {},
   "source": []
  }
 ],
 "metadata": {
  "kernelspec": {
   "display_name": "R",
   "language": "R",
   "name": "ir"
  },
  "language_info": {
   "codemirror_mode": "r",
   "file_extension": ".r",
   "mimetype": "text/x-r-source",
   "name": "R",
   "pygments_lexer": "r",
   "version": "4.3.1"
  }
 },
 "nbformat": 4,
 "nbformat_minor": 5
}
