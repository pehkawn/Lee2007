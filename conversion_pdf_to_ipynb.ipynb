{
 "cells": [
  {
   "cell_type": "code",
   "execution_count": 2,
   "metadata": {
    "vscode": {
     "languageId": "r"
    }
   },
   "outputs": [
    {
     "data": {
      "text/html": [
       "<style>\n",
       ".list-inline {list-style: none; margin:0; padding: 0}\n",
       ".list-inline>li {display: inline-block}\n",
       ".list-inline>li:not(:last-child)::after {content: \"\\00b7\"; padding: 0 .5ex}\n",
       "</style>\n",
       "<ol class=list-inline><li>'./Chapter10/ch10-WinBUGS-M1-codes.pdf'</li><li>'./Chapter10/ch10-WinBUGS-M2-codes.pdf'</li><li>'./Chapter10/ch10-WinBUGS-M3-codes.pdf'</li><li>'./Chapter11/ch11-WinBUGS-codes.pdf'</li><li>'./Chapter12/ch12-WinBUGS-codes.pdf'</li><li>'./Chapter13/ch13-WinBUGS1-codes.pdf'</li><li>'./Chapter13/ch13-WinBUGS2-codes.pdf'</li><li>'./Chapter4/ch4-WinBUGS-codes.pdf'</li><li>'./Chapter6/ch6-WinBUGS-codes.pdf'</li><li>'./Chapter7/ch7-WinBUGS1-codes.pdf'</li><li>'./Chapter7/ch7-WinBUGS2-codes.pdf'</li><li>'./Chapter8/ch8-WinBUGS-codes.pdf'</li><li>'./Chapter9/ch9-WinBUGS-codes.pdf'</li></ol>\n"
      ],
      "text/latex": [
       "\\begin{enumerate*}\n",
       "\\item './Chapter10/ch10-WinBUGS-M1-codes.pdf'\n",
       "\\item './Chapter10/ch10-WinBUGS-M2-codes.pdf'\n",
       "\\item './Chapter10/ch10-WinBUGS-M3-codes.pdf'\n",
       "\\item './Chapter11/ch11-WinBUGS-codes.pdf'\n",
       "\\item './Chapter12/ch12-WinBUGS-codes.pdf'\n",
       "\\item './Chapter13/ch13-WinBUGS1-codes.pdf'\n",
       "\\item './Chapter13/ch13-WinBUGS2-codes.pdf'\n",
       "\\item './Chapter4/ch4-WinBUGS-codes.pdf'\n",
       "\\item './Chapter6/ch6-WinBUGS-codes.pdf'\n",
       "\\item './Chapter7/ch7-WinBUGS1-codes.pdf'\n",
       "\\item './Chapter7/ch7-WinBUGS2-codes.pdf'\n",
       "\\item './Chapter8/ch8-WinBUGS-codes.pdf'\n",
       "\\item './Chapter9/ch9-WinBUGS-codes.pdf'\n",
       "\\end{enumerate*}\n"
      ],
      "text/markdown": [
       "1. './Chapter10/ch10-WinBUGS-M1-codes.pdf'\n",
       "2. './Chapter10/ch10-WinBUGS-M2-codes.pdf'\n",
       "3. './Chapter10/ch10-WinBUGS-M3-codes.pdf'\n",
       "4. './Chapter11/ch11-WinBUGS-codes.pdf'\n",
       "5. './Chapter12/ch12-WinBUGS-codes.pdf'\n",
       "6. './Chapter13/ch13-WinBUGS1-codes.pdf'\n",
       "7. './Chapter13/ch13-WinBUGS2-codes.pdf'\n",
       "8. './Chapter4/ch4-WinBUGS-codes.pdf'\n",
       "9. './Chapter6/ch6-WinBUGS-codes.pdf'\n",
       "10. './Chapter7/ch7-WinBUGS1-codes.pdf'\n",
       "11. './Chapter7/ch7-WinBUGS2-codes.pdf'\n",
       "12. './Chapter8/ch8-WinBUGS-codes.pdf'\n",
       "13. './Chapter9/ch9-WinBUGS-codes.pdf'\n",
       "\n",
       "\n"
      ],
      "text/plain": [
       " [1] \"./Chapter10/ch10-WinBUGS-M1-codes.pdf\" \"./Chapter10/ch10-WinBUGS-M2-codes.pdf\"\n",
       " [3] \"./Chapter10/ch10-WinBUGS-M3-codes.pdf\" \"./Chapter11/ch11-WinBUGS-codes.pdf\"   \n",
       " [5] \"./Chapter12/ch12-WinBUGS-codes.pdf\"    \"./Chapter13/ch13-WinBUGS1-codes.pdf\"  \n",
       " [7] \"./Chapter13/ch13-WinBUGS2-codes.pdf\"   \"./Chapter4/ch4-WinBUGS-codes.pdf\"     \n",
       " [9] \"./Chapter6/ch6-WinBUGS-codes.pdf\"      \"./Chapter7/ch7-WinBUGS1-codes.pdf\"    \n",
       "[11] \"./Chapter7/ch7-WinBUGS2-codes.pdf\"     \"./Chapter8/ch8-WinBUGS-codes.pdf\"     \n",
       "[13] \"./Chapter9/ch9-WinBUGS-codes.pdf\"     "
      ]
     },
     "metadata": {},
     "output_type": "display_data"
    }
   ],
   "source": [
    "code.files <- list.files(\n",
    "    path = \".\", \n",
    "    pattern = \".pdf$\", \n",
    "    all.files = TRUE,\n",
    "    full.names = TRUE, \n",
    "    recursive = TRUE,\n",
    "    ignore.case = TRUE\n",
    ")\n",
    "code.files"
   ]
  },
  {
   "cell_type": "code",
   "execution_count": 3,
   "metadata": {
    "vscode": {
     "languageId": "r"
    }
   },
   "outputs": [
    {
     "data": {
      "text/html": [
       "<ol>\n",
       "\t<li>TRUE</li>\n",
       "\t<li>TRUE</li>\n",
       "\t<li>TRUE</li>\n",
       "\t<li>TRUE</li>\n",
       "\t<li>TRUE</li>\n",
       "\t<li>TRUE</li>\n",
       "\t<li>TRUE</li>\n",
       "\t<li>TRUE</li>\n",
       "\t<li>TRUE</li>\n",
       "\t<li>TRUE</li>\n",
       "\t<li>TRUE</li>\n",
       "\t<li>TRUE</li>\n",
       "\t<li>TRUE</li>\n",
       "</ol>\n"
      ],
      "text/latex": [
       "\\begin{enumerate}\n",
       "\\item TRUE\n",
       "\\item TRUE\n",
       "\\item TRUE\n",
       "\\item TRUE\n",
       "\\item TRUE\n",
       "\\item TRUE\n",
       "\\item TRUE\n",
       "\\item TRUE\n",
       "\\item TRUE\n",
       "\\item TRUE\n",
       "\\item TRUE\n",
       "\\item TRUE\n",
       "\\item TRUE\n",
       "\\end{enumerate}\n"
      ],
      "text/markdown": [
       "1. TRUE\n",
       "2. TRUE\n",
       "3. TRUE\n",
       "4. TRUE\n",
       "5. TRUE\n",
       "6. TRUE\n",
       "7. TRUE\n",
       "8. TRUE\n",
       "9. TRUE\n",
       "10. TRUE\n",
       "11. TRUE\n",
       "12. TRUE\n",
       "13. TRUE\n",
       "\n",
       "\n"
      ],
      "text/plain": [
       "[[1]]\n",
       "[1] TRUE\n",
       "\n",
       "[[2]]\n",
       "[1] TRUE\n",
       "\n",
       "[[3]]\n",
       "[1] TRUE\n",
       "\n",
       "[[4]]\n",
       "[1] TRUE\n",
       "\n",
       "[[5]]\n",
       "[1] TRUE\n",
       "\n",
       "[[6]]\n",
       "[1] TRUE\n",
       "\n",
       "[[7]]\n",
       "[1] TRUE\n",
       "\n",
       "[[8]]\n",
       "[1] TRUE\n",
       "\n",
       "[[9]]\n",
       "[1] TRUE\n",
       "\n",
       "[[10]]\n",
       "[1] TRUE\n",
       "\n",
       "[[11]]\n",
       "[1] TRUE\n",
       "\n",
       "[[12]]\n",
       "[1] TRUE\n",
       "\n",
       "[[13]]\n",
       "[1] TRUE\n"
      ]
     },
     "metadata": {},
     "output_type": "display_data"
    }
   ],
   "source": [
    "lapply(\n",
    "    #Files to convert\n",
    "    code.files, \n",
    "    function(x) {\n",
    "        # Extract text from PDF\n",
    "        pdftools::pdf_text(x) %>%\n",
    "        cat(file = xfun::with_ext(x , \"txt\"))\n",
    "        # Generate system call for converting text file to ipynb with notedown\n",
    "        f <- paste( \"notedown\", xfun::with_ext(x , \"txt\"), \">\", xfun::with_ext(x , \"ipynb\") )\n",
    "        system(f, intern = TRUE)\n",
    "        # Remove intermediate txt file\n",
    "        file.remove(xfun::with_ext(x , \"txt\"))\n",
    "    }\n",
    ")"
   ]
  },
  {
   "cell_type": "code",
   "execution_count": 1,
   "metadata": {
    "vscode": {
     "languageId": "r"
    }
   },
   "outputs": [
    {
     "data": {
      "text/html": [
       "<style>\n",
       ".list-inline {list-style: none; margin:0; padding: 0}\n",
       ".list-inline>li {display: inline-block}\n",
       ".list-inline>li:not(:last-child)::after {content: \"\\00b7\"; padding: 0 .5ex}\n",
       "</style>\n",
       "<ol class=list-inline><li>TRUE</li><li>TRUE</li><li>TRUE</li><li>TRUE</li><li>TRUE</li><li>TRUE</li><li>TRUE</li><li>TRUE</li><li>TRUE</li><li>TRUE</li><li>TRUE</li><li>TRUE</li><li>TRUE</li><li>TRUE</li><li>TRUE</li><li>TRUE</li><li>TRUE</li><li>TRUE</li><li>TRUE</li><li>TRUE</li><li>TRUE</li><li>TRUE</li><li>TRUE</li><li>TRUE</li><li>TRUE</li><li>TRUE</li></ol>\n"
      ],
      "text/latex": [
       "\\begin{enumerate*}\n",
       "\\item TRUE\n",
       "\\item TRUE\n",
       "\\item TRUE\n",
       "\\item TRUE\n",
       "\\item TRUE\n",
       "\\item TRUE\n",
       "\\item TRUE\n",
       "\\item TRUE\n",
       "\\item TRUE\n",
       "\\item TRUE\n",
       "\\item TRUE\n",
       "\\item TRUE\n",
       "\\item TRUE\n",
       "\\item TRUE\n",
       "\\item TRUE\n",
       "\\item TRUE\n",
       "\\item TRUE\n",
       "\\item TRUE\n",
       "\\item TRUE\n",
       "\\item TRUE\n",
       "\\item TRUE\n",
       "\\item TRUE\n",
       "\\item TRUE\n",
       "\\item TRUE\n",
       "\\item TRUE\n",
       "\\item TRUE\n",
       "\\end{enumerate*}\n"
      ],
      "text/markdown": [
       "1. TRUE\n",
       "2. TRUE\n",
       "3. TRUE\n",
       "4. TRUE\n",
       "5. TRUE\n",
       "6. TRUE\n",
       "7. TRUE\n",
       "8. TRUE\n",
       "9. TRUE\n",
       "10. TRUE\n",
       "11. TRUE\n",
       "12. TRUE\n",
       "13. TRUE\n",
       "14. TRUE\n",
       "15. TRUE\n",
       "16. TRUE\n",
       "17. TRUE\n",
       "18. TRUE\n",
       "19. TRUE\n",
       "20. TRUE\n",
       "21. TRUE\n",
       "22. TRUE\n",
       "23. TRUE\n",
       "24. TRUE\n",
       "25. TRUE\n",
       "26. TRUE\n",
       "\n",
       "\n"
      ],
      "text/plain": [
       " [1] TRUE TRUE TRUE TRUE TRUE TRUE TRUE TRUE TRUE TRUE TRUE TRUE TRUE TRUE TRUE TRUE TRUE TRUE TRUE TRUE TRUE TRUE TRUE\n",
       "[24] TRUE TRUE TRUE"
      ]
     },
     "metadata": {},
     "output_type": "display_data"
    }
   ],
   "source": [
    "list.files(\n",
    "    path = \".\", \n",
    "    pattern = \"^ch.+(md|html|txt|ipynb)$\", \n",
    "    all.files = TRUE,\n",
    "    full.names = TRUE, \n",
    "    recursive = TRUE,\n",
    "    ignore.case = TRUE\n",
    ") %>% file.remove()"
   ]
  },
  {
   "cell_type": "code",
   "execution_count": null,
   "metadata": {
    "vscode": {
     "languageId": "r"
    }
   },
   "outputs": [],
   "source": []
  }
 ],
 "metadata": {
  "kernelspec": {
   "display_name": "R",
   "language": "R",
   "name": "ir"
  },
  "language_info": {
   "codemirror_mode": "r",
   "file_extension": ".r",
   "mimetype": "text/x-r-source",
   "name": "R",
   "pygments_lexer": "r",
   "version": "4.3.1"
  },
  "orig_nbformat": 4
 },
 "nbformat": 4,
 "nbformat_minor": 2
}
