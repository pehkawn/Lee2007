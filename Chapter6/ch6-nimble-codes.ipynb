{
 "cells": [
  {
   "cell_type": "markdown",
   "id": "e12d470d",
   "metadata": {},
   "source": [
    "### This is a WinBUGS program for the real example in Chapter 6, Section 6.6.2.\n",
    "\n",
    "Model: Structural Equation Model with Ordered Categorical Variables\n",
    "\n",
    "Data Set Names: YO.dat, and XI.dat, where XI.dat are input initial values for xi.\n",
    "\n",
    "Sample Size: N = 338"
   ]
  },
  {
   "cell_type": "code",
   "execution_count": 1,
   "id": "c7e97c79",
   "metadata": {
    "vscode": {
     "languageId": "r"
    }
   },
   "outputs": [
    {
     "name": "stderr",
     "output_type": "stream",
     "text": [
      "── \u001b[1mAttaching core tidyverse packages\u001b[22m ──────────────────────── tidyverse 2.0.0 ──\n",
      "\u001b[32m✔\u001b[39m \u001b[34mdplyr    \u001b[39m 1.1.3     \u001b[32m✔\u001b[39m \u001b[34mreadr    \u001b[39m 2.1.4\n",
      "\u001b[32m✔\u001b[39m \u001b[34mforcats  \u001b[39m 1.0.0     \u001b[32m✔\u001b[39m \u001b[34mstringr  \u001b[39m 1.5.0\n",
      "\u001b[32m✔\u001b[39m \u001b[34mggplot2  \u001b[39m 3.4.3     \u001b[32m✔\u001b[39m \u001b[34mtibble   \u001b[39m 3.2.1\n",
      "\u001b[32m✔\u001b[39m \u001b[34mlubridate\u001b[39m 1.9.2     \u001b[32m✔\u001b[39m \u001b[34mtidyr    \u001b[39m 1.3.0\n",
      "\u001b[32m✔\u001b[39m \u001b[34mpurrr    \u001b[39m 1.0.2     \n",
      "── \u001b[1mConflicts\u001b[22m ────────────────────────────────────────── tidyverse_conflicts() ──\n",
      "\u001b[31m✖\u001b[39m \u001b[34mdplyr\u001b[39m::\u001b[32mfilter()\u001b[39m masks \u001b[34mstats\u001b[39m::filter()\n",
      "\u001b[31m✖\u001b[39m \u001b[34mdplyr\u001b[39m::\u001b[32mlag()\u001b[39m    masks \u001b[34mstats\u001b[39m::lag()\n",
      "\u001b[36mℹ\u001b[39m Use the conflicted package (\u001b[3m\u001b[34m<http://conflicted.r-lib.org/>\u001b[39m\u001b[23m) to force all conflicts to become errors\n",
      "\n",
      "Attaching package: ‘magrittr’\n",
      "\n",
      "\n",
      "The following object is masked from ‘package:purrr’:\n",
      "\n",
      "    set_names\n",
      "\n",
      "\n",
      "The following object is masked from ‘package:tidyr’:\n",
      "\n",
      "    extract\n",
      "\n",
      "\n",
      "This is cmdstanr version 0.6.1\n",
      "\n",
      "- CmdStanR documentation and vignettes: mc-stan.org/cmdstanr\n",
      "\n",
      "- CmdStan path: /home/pal_bjartan/.cmdstan/cmdstan-2.33.1\n",
      "\n",
      "- CmdStan version: 2.33.1\n",
      "\n",
      "nimble version 1.0.1 is loaded.\n",
      "For more information on NIMBLE and a User Manual,\n",
      "please visit https://R-nimble.org.\n",
      "\n",
      "Note for advanced users who have written their own MCMC samplers:\n",
      "  As of version 0.13.0, NIMBLE's protocol for handling posterior\n",
      "  predictive nodes has changed in a way that could affect user-defined\n",
      "  samplers in some situations. Please see Section 15.5.1 of the User Manual.\n",
      "\n",
      "\n",
      "Attaching package: ‘nimble’\n",
      "\n",
      "\n",
      "The following object is masked from ‘package:stats’:\n",
      "\n",
      "    simulate\n",
      "\n",
      "\n"
     ]
    }
   ],
   "source": [
    "source(\".Rprofile\")\n",
    "library(nimble)"
   ]
  },
  {
   "cell_type": "markdown",
   "id": "0ab9dc08",
   "metadata": {},
   "source": [
    "#### Model"
   ]
  },
  {
   "cell_type": "code",
   "execution_count": 26,
   "id": "90b88ead",
   "metadata": {
    "vscode": {
     "languageId": "r"
    }
   },
   "outputs": [
    {
     "ename": "ERROR",
     "evalue": "Error in parse(text = modelText): <text>:48:0: unexpected end of input\n46:      \n47: }\n   ^\n",
     "output_type": "error",
     "traceback": [
      "Error in parse(text = modelText): <text>:48:0: unexpected end of input\n46:      \n47: }\n   ^\nTraceback:\n",
      "1. readBUGSmodel(paste0(getwd(), \"/Chapter6/ch6-R2OpenBUGS-model.txt\"))",
      "2. parse(text = modelText)"
     ]
    }
   ],
   "source": [
    "model <- readBUGSmodel(paste0(getwd(), \"/Chapter6/ch6-R2OpenBUGS-model.txt\"))"
   ]
  },
  {
   "cell_type": "markdown",
   "id": "6f0d0a27",
   "metadata": {},
   "source": [
    "#### Data Set"
   ]
  },
  {
   "cell_type": "code",
   "execution_count": 5,
   "id": "52b657f1",
   "metadata": {
    "vscode": {
     "languageId": "r"
    }
   },
   "outputs": [],
   "source": [
    "constants <- list(\n",
    "    N = 338, \n",
    "    P = 26\n",
    ")\n",
    "\n",
    "data <- list(\n",
    "    R = structure(\n",
    "        .Data = c(\n",
    "            8.0, 0.0, 0.0, 0.0,\n",
    "            0.0, 8.0, 0.0, 0.0,\n",
    "            0.0, 0.0, 8.0, 0.0,\n",
    "            0.0, 0.0, 0.0, 8.0\n",
    "        ),\n",
    "        .Dim = c(4,4)),\n",
    "    thd = structure(\n",
    "        .Data = c(\n",
    "            -200.000,-2.517,-1.245,-0.444, 0.848,200.000,\n",
    "            -200.000,-1.447,-0.420, 0.119, 1.245,200.000,\n",
    "            -200.000,-1.671,-0.869,-0.194, 0.679,200.000,\n",
    "            -200.000,-1.642,-0.869,-0.293, 0.332,200.000,\n",
    "            -200.000,-1.671,-0.827, 0.052, 0.756,200.000,\n",
    "            -200.000,-1.769,-1.098,-0.469, 0.255,200.000,\n",
    "            -200.000,-1.490,-0.670,-0.082, 0.880,200.000,\n",
    "            -200.000,-1.933,-0.880,-0.317, 1.008,200.000,\n",
    "            -200.000,-1.587,-0.624, 0.000, 1.008,200.000,\n",
    "            -200.000,-1.983,-1.348,-0.348, 1.045,200.000,\n",
    "            -200.000,-1.983,-1.229,-0.247, 0.869,200.000,\n",
    "            -200.000,-2.262,-1.426, 0.037, 1.330,200.000,\n",
    "            -200.000,-2.371,-1.295,-0.224, 0.651,200.000,\n",
    "            -200.000,-2.039,-1.112,-0.149, 1.169,200.000,\n",
    "            -200.000,-2.262,-1.198,-0.309, 1.198,200.000,\n",
    "            -200.000,-2.176,-1.537,-0.717, 0.597,200.000,\n",
    "            -200.000,-1.447,-0.786, 0.119, 1.008,200.000,\n",
    "            -200.000,-2.039,-1.769,-0.661, 0.642,200.000,\n",
    "            -200.000,-2.262,-1.468, 0.015, 1.214,200.000,\n",
    "            -200.000,-2.039,-1.406, 0.000, 1.140,200.000,\n",
    "            -200.000,-1.702,-1.058, 0.149, 0.902,200.000,\n",
    "            -200.000,-2.262,-1.426,-0.309, 0.971,200.000,\n",
    "            -200.000,-1.702,-0.615, 0.179, 1.229,200.000,\n",
    "            -200.000,-2.262,-1.671,-1.033, 0.420,200.000,\n",
    "            -200.000,-2.262,-1.468,-0.689, 1.045,200.000,\n",
    "            -200.000,-2.176,-1.537,-0.880, 0.661,200.000\n",
    "        ),\n",
    "        .Dim = c(26,6)),\n",
    "    z = read.csv(\n",
    "            \"./Chapter6/ch6-WinBUGS-data.dat\",\n",
    "            header = FALSE,\n",
    "            nrows = 338,\n",
    "            skip = 2,\n",
    "            strip.white = TRUE\n",
    "            ) %>%\n",
    "        .[,1:(ncol(.) - 1)] %>%\n",
    "        as.matrix() %>%\n",
    "        unname()\n",
    ")"
   ]
  },
  {
   "cell_type": "markdown",
   "id": "67b16a81",
   "metadata": {},
   "source": [
    "#### Two different Initial Values"
   ]
  },
  {
   "cell_type": "code",
   "execution_count": 4,
   "id": "9147a4f9",
   "metadata": {
    "vscode": {
     "languageId": "r"
    }
   },
   "outputs": [],
   "source": [
    "χ_priors <- read.csv(\n",
    "    \"./Chapter6/ch6-WinBUGS-data.dat\",\n",
    "    header = FALSE,\n",
    "    # nrows = 338,\n",
    "    skip = 342,\n",
    "    strip.white = TRUE\n",
    "    ) %>%\n",
    ".[,1:(ncol(.) - 1)] %>%\n",
    "as.matrix() %>% \n",
    "unname()\n",
    "\n",
    "inits <- list(\n",
    "    lam = c(0.0, 0.0, 0.0, 0.0, 0.0, 0.0, 0.0, 0.0, 0.0, 0.0, 0.0, 0.0, 0.0, 0.0, 0.0, 0.0, 0.0, 0.0, 0.0, 0.0, 0.0),\n",
    "    psi = c(1.0, 1.0, 1.0, 1.0, 1.0, 1.0, 1.0, 1.0, 1.0, 1.0, 1.0, 1.0, 1.0, 1.0, 1.0, 1.0, 1.0, 1.0, 1.0, 1.0, 1.0, 1.0, 1.0, 1.0, 1.0, 1.0),\n",
    "    psd = 1.0,\n",
    "    gam = c(1.0, 1.0, 1.0, 1.0),\n",
    "    phi = structure(\n",
    "        .Data = c(1.0, 0.0, 0.0, 0.0,\n",
    "                    0.0, 1.0, 0.0, 0.0,\n",
    "                    0.0, 0.0, 1.0, 0.0,\n",
    "                    0.0, 0.0, 0.0, 1.0),\n",
    "        .Dim = c(4,4)),\n",
    "    xi = χ_priors\n",
    ")\n",
    "\n",
    "# list(\n",
    "#     lam = c(0.5, 0.5, 0.5, 0.5, 0.5, 0.5, 0.5, 0.5, 0.5, 0.5, 0.5, 0.5, 0.5, 0.5, 0.5, 0.5, 0.5, 0.5, 0.5, 0.5, 0.5),\n",
    "#     psi = c(0.5, 0.5, 0.5, 0.5, 0.5, 0.5, 0.5, 0.5, 0.5, 0.5, 0.5, 0.5, 0.5, 0.5, 0.5, 0.5, 0.5, 0.5, 0.5, 0.5, 0.5, 0.5, 0.5, 0.5, 0.5, 0.5),\n",
    "#     psd = 0.6,\n",
    "#     gam = c(0.0, 0.0, 0.0, 0.0),\n",
    "#     phi = structure(\n",
    "#         .Data = c(0.5, 0.0, 0.0, 0.0,\n",
    "#                 0.0, 0.5, 0.0, 0.0,\n",
    "#                 0.0, 0.0, 0.5, 0.0,\n",
    "#                 0.0, 0.0, 0.0, 0.5),\n",
    "#         .Dim = c(4,4)),\n",
    "#     xi = χ_priors\n",
    "# )"
   ]
  },
  {
   "cell_type": "code",
   "execution_count": 6,
   "id": "7943b196",
   "metadata": {
    "vscode": {
     "languageId": "r"
    }
   },
   "outputs": [
    {
     "name": "stderr",
     "output_type": "stream",
     "text": [
      "Defining model\n",
      "\n",
      "  [Note] Registering '*' as a distribution based on its use in BUGS code. If you make changes to the nimbleFunctions for the distribution, you must call 'deregisterDistributions' before using the distribution in BUGS code for those changes to take effect.\n",
      "\n"
     ]
    },
    {
     "ename": "ERROR",
     "evalue": "Error in FUN(X[[i]], ...): checkDistributionFunctions: expression '*' found where a density function is expected. Did you mistakenly use `~` instead of `<-`?\n",
     "output_type": "error",
     "traceback": [
      "Error in FUN(X[[i]], ...): checkDistributionFunctions: expression '*' found where a density function is expected. Did you mistakenly use `~` instead of `<-`?\nTraceback:\n",
      "1. nimbleModel(model, constants = constants, data = data, inits = inits)",
      "2. md$setupModel(code = code, constants = constants, dimensions = dimensions, \n .     inits = inits, data = data, userEnv = userEnv, debug = debug)",
      "3. processBUGScode(userEnv = userEnv)",
      "4. processBUGScode(recurseCode, nextContextID, lineNumber = lineNumber, \n .     userEnv = userEnv)",
      "5. processBUGScode(recurseCode, nextContextID, lineNumber = lineNumber, \n .     userEnv = userEnv)",
      "6. checkUserDefinedDistribution(code[[i]], userEnv)",
      "7. registerDistributions(dist, userEnv)",
      "8. sapply(distributionsInput, checkDistributionFunctions, userEnv = userEnv)",
      "9. lapply(X = X, FUN = FUN, ...)",
      "10. FUN(X[[i]], ...)",
      "11. stop(paste0(\"checkDistributionFunctions: expression '\", densityName, \n  .     \"' found where a density function is expected. Did you mistakenly use `~` instead of `<-`?\"))"
     ]
    }
   ],
   "source": [
    "param <- c(\"lam\", \"psi\", \"gam\", \"phi\", \"xi\")\n",
    "n.iter <- 5000\n",
    "n.burnin  <- 2000\n",
    "\n",
    "model.out <- nimbleModel(\n",
    "    model,\n",
    "    constants = constants,\n",
    "    data = data, \n",
    "    inits = inits\n",
    ")\n"
   ]
  },
  {
   "cell_type": "code",
   "execution_count": 83,
   "id": "84e6bb91",
   "metadata": {
    "vscode": {
     "languageId": "r"
    }
   },
   "outputs": [
    {
     "ename": "ERROR",
     "evalue": "Error in scan(output.file, what = list(iter = 0, val = 0), quiet = TRUE): scan() expected 'a real', got 'OpenBUGS'\n",
     "output_type": "error",
     "traceback": [
      "Error in scan(output.file, what = list(iter = 0, val = 0), quiet = TRUE): scan() expected 'a real', got 'OpenBUGS'\nTraceback:\n",
      "1. read.bugs(model.out)",
      "2. mcmc.list(lapply(codafiles, read.coda, index.file = file.path(dirname(codafiles[1]), \n .     \"CODAindex.txt\"), ...))",
      "3. lapply(codafiles, read.coda, index.file = file.path(dirname(codafiles[1]), \n .     \"CODAindex.txt\"), ...)",
      "4. FUN(X[[i]], ...)",
      "5. scan(output.file, what = list(iter = 0, val = 0), quiet = TRUE)"
     ]
    }
   ],
   "source": [
    "codaobject <- read.bugs(model.out)\n",
    "plot(codaobject)\n",
    "save.image()"
   ]
  },
  {
   "cell_type": "code",
   "execution_count": 84,
   "id": "32b6874a",
   "metadata": {
    "vscode": {
     "languageId": "r"
    }
   },
   "outputs": [
    {
     "ename": "ERROR",
     "evalue": "Error in bugs.run(n.burnin, OpenBUGS.pgm, debug = debug, WINE = WINE, : Look at the log file in  /home/pal_bjartan/Backup/PhD/SEM-test-model/Lee2007/Chapter4/bugs-output  and\ntry again with 'debug=TRUE' to figure out what went wrong within OpenBUGS.\n",
     "output_type": "error",
     "traceback": [
      "Error in bugs.run(n.burnin, OpenBUGS.pgm, debug = debug, WINE = WINE, : Look at the log file in  /home/pal_bjartan/Backup/PhD/SEM-test-model/Lee2007/Chapter4/bugs-output  and\ntry again with 'debug=TRUE' to figure out what went wrong within OpenBUGS.\nTraceback:\n",
      "1. bugs(data, inits, param, model.file = model, 2 * n.iter, n.burnin = n.burnin, \n .     codaPkg = FALSE, working.directory = paste0(getwd(), \"/Chapter4/bugs-output\"))",
      "2. bugs.run(n.burnin, OpenBUGS.pgm, debug = debug, WINE = WINE, \n .     useWINE = useWINE, newWINE = newWINE, WINEPATH = WINEPATH)",
      "3. stop(paste(\"Look at the log file in \", getwd(), \" and\\ntry again with 'debug=TRUE' to figure out what went wrong within OpenBUGS.\"))"
     ]
    }
   ],
   "source": [
    "model.out <- bugs(\n",
    "    data, \n",
    "    inits, \n",
    "    param, \n",
    "    model.file = model, \n",
    "    2*n.iter, \n",
    "    n.burnin = n.burnin, \n",
    "    codaPkg = FALSE,  # Get bugs object\n",
    "    working.directory = paste0(getwd(), \"/Chapter4/bugs-output\")\n",
    ")\n",
    "model.out\n",
    "# save.image()"
   ]
  },
  {
   "cell_type": "code",
   "execution_count": null,
   "id": "514bdb1e",
   "metadata": {
    "vscode": {
     "languageId": "r"
    }
   },
   "outputs": [],
   "source": []
  }
 ],
 "metadata": {
  "kernelspec": {
   "display_name": "R",
   "language": "R",
   "name": "ir"
  },
  "language_info": {
   "codemirror_mode": "r",
   "file_extension": ".r",
   "mimetype": "text/x-r-source",
   "name": "R",
   "pygments_lexer": "r",
   "version": "4.3.1"
  }
 },
 "nbformat": 4,
 "nbformat_minor": 5
}
