{
 "cells": [
  {
   "cell_type": "markdown",
   "id": "e12d470d",
   "metadata": {},
   "source": [
    "### This is a WinBUGS program for the real example in Chapter 6, Section 6.6.2.\n",
    "\n",
    "Model: Structural Equation Model with Ordered Categorical Variables\n",
    "\n",
    "Data Set Names: YO.dat, and XI.dat, where XI.dat are input initial values for xi.\n",
    "\n",
    "Sample Size: N = 338"
   ]
  },
  {
   "cell_type": "code",
   "execution_count": 1,
   "id": "c7e97c79",
   "metadata": {
    "vscode": {
     "languageId": "r"
    }
   },
   "outputs": [
    {
     "name": "stderr",
     "output_type": "stream",
     "text": [
      "── \u001b[1mAttaching core tidyverse packages\u001b[22m ──────────────────────── tidyverse 2.0.0 ──\n",
      "\u001b[32m✔\u001b[39m \u001b[34mdplyr    \u001b[39m 1.1.3     \u001b[32m✔\u001b[39m \u001b[34mreadr    \u001b[39m 2.1.4\n",
      "\u001b[32m✔\u001b[39m \u001b[34mforcats  \u001b[39m 1.0.0     \u001b[32m✔\u001b[39m \u001b[34mstringr  \u001b[39m 1.5.0\n",
      "\u001b[32m✔\u001b[39m \u001b[34mggplot2  \u001b[39m 3.4.3     \u001b[32m✔\u001b[39m \u001b[34mtibble   \u001b[39m 3.2.1\n",
      "\u001b[32m✔\u001b[39m \u001b[34mlubridate\u001b[39m 1.9.2     \u001b[32m✔\u001b[39m \u001b[34mtidyr    \u001b[39m 1.3.0\n",
      "\u001b[32m✔\u001b[39m \u001b[34mpurrr    \u001b[39m 1.0.2     \n",
      "── \u001b[1mConflicts\u001b[22m ────────────────────────────────────────── tidyverse_conflicts() ──\n",
      "\u001b[31m✖\u001b[39m \u001b[34mdplyr\u001b[39m::\u001b[32mfilter()\u001b[39m masks \u001b[34mstats\u001b[39m::filter()\n",
      "\u001b[31m✖\u001b[39m \u001b[34mdplyr\u001b[39m::\u001b[32mlag()\u001b[39m    masks \u001b[34mstats\u001b[39m::lag()\n",
      "\u001b[36mℹ\u001b[39m Use the conflicted package (\u001b[3m\u001b[34m<http://conflicted.r-lib.org/>\u001b[39m\u001b[23m) to force all conflicts to become errors\n",
      "\n",
      "Attaching package: ‘magrittr’\n",
      "\n",
      "\n",
      "The following object is masked from ‘package:purrr’:\n",
      "\n",
      "    set_names\n",
      "\n",
      "\n",
      "The following object is masked from ‘package:tidyr’:\n",
      "\n",
      "    extract\n",
      "\n",
      "\n",
      "Loading required package: coda\n",
      "\n",
      "Loading required package: boot\n",
      "\n",
      "This is cmdstanr version 0.6.1\n",
      "\n",
      "- CmdStanR documentation and vignettes: mc-stan.org/cmdstanr\n",
      "\n",
      "- CmdStan path: /home/pal_bjartan/.cmdstan/cmdstan-2.33.1\n",
      "\n",
      "- CmdStan version: 2.33.1\n",
      "\n"
     ]
    }
   ],
   "source": [
    "source(\".Rprofile\")"
   ]
  },
  {
   "cell_type": "markdown",
   "id": "0ab9dc08",
   "metadata": {},
   "source": [
    "#### Model"
   ]
  },
  {
   "cell_type": "code",
   "execution_count": 12,
   "id": "90b88ead",
   "metadata": {
    "vscode": {
     "languageId": "r"
    }
   },
   "outputs": [],
   "source": [
    "# model <- function() {\n",
    "#     for(i in 1:N){\n",
    "#         #measurement equation model\n",
    "#         for(j in 1:P){\n",
    "#             y[i,j] ~ dnorm(mu[i,j], psi[j])I(thd[j, z[i, j]], thd[j, z[i, j] + 1])\n",
    "#             ephat[i,j] <- y[i,j] - mu[i,j]\n",
    "#         }\n",
    "#         mu[i,1] <- eta[i]\n",
    "#         mu[i,2] <- lam[1] * eta[i]\n",
    "#         mu[i,3] <- xi[i,1]\n",
    "#         mu[i,4] <- lam[2] * xi[i,1]\n",
    "#         mu[i,5] <- lam[3] * xi[i,1]\n",
    "#         mu[i,6] <- lam[4] * xi[i,1]\n",
    "#         mu[i,7] <- lam[5] * xi[i,1]\n",
    "#         mu[i,8] <- lam[6] * xi[i,1]\n",
    "#         mu[i,9] <- lam[7] * xi[i,1]\n",
    "#         mu[i,10] <- xi[i,2]\n",
    "#         mu[i,11] <- lam[8] * xi[i,2]\n",
    "#         mu[i,12] <- lam[9] * xi[i,2]\n",
    "#         mu[i,13] <- lam[10] * xi[i,2]\n",
    "#         mu[i,14] <- lam[11] * xi[i,2]\n",
    "#         mu[i,15] <- lam[12] * xi[i,2]\n",
    "#         mu[i,16] <- xi[i,3]\n",
    "#         mu[i,17] <- lam[13] * xi[i,3]\n",
    "#         mu[i,18] <- lam[14] * xi[i,3]\n",
    "#         mu[i,19] <- xi[i,4]\n",
    "#         mu[i,20] <- lam[15] * xi[i,4]\n",
    "#         mu[i,21] <- lam[16] * xi[i,4]\n",
    "#         mu[i,22] <- lam[17] * xi[i,4]\n",
    "#         mu[i,23] <- lam[18] * xi[i,4]\n",
    "#         mu[i,24] <- lam[19] * xi[i,4]\n",
    "#         mu[i,25] <- lam[20] * xi[i,4]\n",
    "#         mu[i,26] <- lam[21] * xi[i,4]\n",
    "\n",
    "#         #structural equation model\n",
    "#         xi[i,1:4] ~ dmnorm(u[1:4], phi[1:4,1:4])\n",
    "#         eta[i] ~ dnorm(nu[i], psd)\n",
    "#         nu[i] <- gam[1] * xi[i,1] + gam[2] * xi[i,2] + gam[3] * xi[i,3] + gam[4] * xi[i,4]\n",
    "#         dthat[i] <- eta[i] - nu[i]\n",
    "#     }# end of i\n",
    "\n",
    "#     for(i in 1:4){\n",
    "#         u[i] <- 0.0\n",
    "#     }\n",
    "\n",
    "#     #priors on loadings and coefficients\n",
    "#     var.lam[1] <- 4.0 * psi[2]\n",
    "#     var.lam[2] <- 4.0 * psi[4]\n",
    "#     var.lam[3] <- 4.0 * psi[5]\n",
    "#     var.lam[4] <- 4.0 * psi[6]\n",
    "#     var.lam[5] <- 4.0 * psi[7]\n",
    "#     var.lam[6] <- 4.0 * psi[8]\n",
    "#     var.lam[7] <- 4.0 * psi[9]\n",
    "#     var.lam[8] <- 4.0 * psi[11]\n",
    "#     var.lam[9] <- 4.0 * psi[12]\n",
    "#     var.lam[10] <- 4.0 * psi[13]\n",
    "#     var.lam[11] <- 4.0 * psi[14]\n",
    "#     var.lam[12] <- 4.0 * psi[15]\n",
    "#     var.lam[13] <- 4.0 * psi[17]\n",
    "#     var.lam[14] <- 4.0 * psi[18]\n",
    "#     var.lam[15] <- 4.0 * psi[20]\n",
    "#     var.lam[16] <- 4.0 * psi[21]\n",
    "#     var.lam[17] <- 4.0 * psi[22]\n",
    "#     var.lam[18] <- 4.0 * psi[23]\n",
    "#     var.lam[19] <- 4.0 * psi[24]\n",
    "#     var.lam[20] <- 4.0 * psi[25]\n",
    "#     var.lam[21] <- 4.0 * psi[26]\n",
    "    \n",
    "#     for(i in 1:21){\n",
    "#         lam[i] ~ dnorm(0.8,var.lam[i])\n",
    "#     }\n",
    "\n",
    "#     var.gam <- 4.0 * psd\n",
    "#     gam[1] ~ dnorm(0.6,var.gam)\n",
    "#     gam[2] ~ dnorm(0.6,var.gam)\n",
    "#     gam[3] ~ dnorm(0.4,var.gam)\n",
    "#     gam[4] ~ dnorm(0.4,var.gam)\n",
    "\n",
    "#     #priors on precisions\n",
    "#     for(j in 1:P){\n",
    "#         psi[j] ~ dgamma(10,8)\n",
    "#         sgm[j] <- 1/psi[j]\n",
    "#     }\n",
    "#     psd ~ dgamma(10,8)\n",
    "#     sgd <- 1/psd\n",
    "#     phi[1:4,1:4] ~ dwish(R[1:4,1:4], 30)\n",
    "#     phx[1:4,1:4] <- inverse(phi[1:4, 1:4])\n",
    "\n",
    "# } #end of model\n",
    "\n",
    "# write.model(model, con = \"./Chapter6/ch6-R2OpenBUGS-model.txt\")\n",
    "model <- paste0(getwd(), \"/Chapter6/ch6-R2OpenBUGS-model.txt\")"
   ]
  },
  {
   "cell_type": "markdown",
   "id": "6f0d0a27",
   "metadata": {},
   "source": [
    "#### Data Set"
   ]
  },
  {
   "cell_type": "code",
   "execution_count": 3,
   "id": "52b657f1",
   "metadata": {
    "vscode": {
     "languageId": "r"
    }
   },
   "outputs": [],
   "source": [
    "data <- list(\n",
    "    N = 338, \n",
    "    P = 26,\n",
    "    R = structure(\n",
    "        .Data = c(\n",
    "            8.0, 0.0, 0.0, 0.0,\n",
    "            0.0, 8.0, 0.0, 0.0,\n",
    "            0.0, 0.0, 8.0, 0.0,\n",
    "            0.0, 0.0, 0.0, 8.0\n",
    "        ),\n",
    "        .Dim = c(4,4)),\n",
    "    thd = structure(\n",
    "        .Data = c(\n",
    "            -200.000,-2.517,-1.245,-0.444, 0.848,200.000,\n",
    "            -200.000,-1.447,-0.420, 0.119, 1.245,200.000,\n",
    "            -200.000,-1.671,-0.869,-0.194, 0.679,200.000,\n",
    "            -200.000,-1.642,-0.869,-0.293, 0.332,200.000,\n",
    "            -200.000,-1.671,-0.827, 0.052, 0.756,200.000,\n",
    "            -200.000,-1.769,-1.098,-0.469, 0.255,200.000,\n",
    "            -200.000,-1.490,-0.670,-0.082, 0.880,200.000,\n",
    "            -200.000,-1.933,-0.880,-0.317, 1.008,200.000,\n",
    "            -200.000,-1.587,-0.624, 0.000, 1.008,200.000,\n",
    "            -200.000,-1.983,-1.348,-0.348, 1.045,200.000,\n",
    "            -200.000,-1.983,-1.229,-0.247, 0.869,200.000,\n",
    "            -200.000,-2.262,-1.426, 0.037, 1.330,200.000,\n",
    "            -200.000,-2.371,-1.295,-0.224, 0.651,200.000,\n",
    "            -200.000,-2.039,-1.112,-0.149, 1.169,200.000,\n",
    "            -200.000,-2.262,-1.198,-0.309, 1.198,200.000,\n",
    "            -200.000,-2.176,-1.537,-0.717, 0.597,200.000,\n",
    "            -200.000,-1.447,-0.786, 0.119, 1.008,200.000,\n",
    "            -200.000,-2.039,-1.769,-0.661, 0.642,200.000,\n",
    "            -200.000,-2.262,-1.468, 0.015, 1.214,200.000,\n",
    "            -200.000,-2.039,-1.406, 0.000, 1.140,200.000,\n",
    "            -200.000,-1.702,-1.058, 0.149, 0.902,200.000,\n",
    "            -200.000,-2.262,-1.426,-0.309, 0.971,200.000,\n",
    "            -200.000,-1.702,-0.615, 0.179, 1.229,200.000,\n",
    "            -200.000,-2.262,-1.671,-1.033, 0.420,200.000,\n",
    "            -200.000,-2.262,-1.468,-0.689, 1.045,200.000,\n",
    "            -200.000,-2.176,-1.537,-0.880, 0.661,200.000\n",
    "        ),\n",
    "        .Dim = c(26,6)),\n",
    "    z = read.csv(\n",
    "            \"./Chapter6/ch6-WinBUGS-data.dat\",\n",
    "            header = FALSE,\n",
    "            nrows = 338,\n",
    "            skip = 2,\n",
    "            strip.white = TRUE\n",
    "            ) %>%\n",
    "        .[,1:(ncol(.) - 1)] %>%\n",
    "        as.matrix() %>%\n",
    "        unname()\n",
    ")"
   ]
  },
  {
   "cell_type": "markdown",
   "id": "67b16a81",
   "metadata": {},
   "source": [
    "#### Two different Initial Values"
   ]
  },
  {
   "cell_type": "code",
   "execution_count": 4,
   "id": "9147a4f9",
   "metadata": {
    "vscode": {
     "languageId": "r"
    }
   },
   "outputs": [],
   "source": [
    "χ_priors <- read.csv(\n",
    "    \"./Chapter6/ch6-WinBUGS-data.dat\",\n",
    "    header = FALSE,\n",
    "    # nrows = 338,\n",
    "    skip = 342,\n",
    "    strip.white = TRUE\n",
    "    ) %>%\n",
    ".[,1:(ncol(.) - 1)] %>%\n",
    "as.matrix() %>% \n",
    "unname()\n",
    "\n",
    "inits <- function() {\n",
    "    list(\n",
    "        lam = c(0.0, 0.0, 0.0, 0.0, 0.0, 0.0, 0.0, 0.0, 0.0, 0.0, 0.0, 0.0, 0.0, 0.0, 0.0, 0.0, 0.0, 0.0, 0.0, 0.0, 0.0),\n",
    "        psi = c(1.0, 1.0, 1.0, 1.0, 1.0, 1.0, 1.0, 1.0, 1.0, 1.0, 1.0, 1.0, 1.0, 1.0, 1.0, 1.0, 1.0, 1.0, 1.0, 1.0, 1.0, 1.0, 1.0, 1.0, 1.0, 1.0),\n",
    "        psd = 1.0,\n",
    "        gam = c(1.0, 1.0, 1.0, 1.0),\n",
    "        phi = structure(\n",
    "            .Data = c(1.0, 0.0, 0.0, 0.0,\n",
    "                        0.0, 1.0, 0.0, 0.0,\n",
    "                        0.0, 0.0, 1.0, 0.0,\n",
    "                        0.0, 0.0, 0.0, 1.0),\n",
    "            .Dim = c(4,4)),\n",
    "        xi = χ_priors\n",
    "    )\n",
    "\n",
    "    list(\n",
    "        lam = c(0.5, 0.5, 0.5, 0.5, 0.5, 0.5, 0.5, 0.5, 0.5, 0.5, 0.5, 0.5, 0.5, 0.5, 0.5, 0.5, 0.5, 0.5, 0.5, 0.5, 0.5),\n",
    "        psi = c(0.5, 0.5, 0.5, 0.5, 0.5, 0.5, 0.5, 0.5, 0.5, 0.5, 0.5, 0.5, 0.5, 0.5, 0.5, 0.5, 0.5, 0.5, 0.5, 0.5, 0.5, 0.5, 0.5, 0.5, 0.5, 0.5),\n",
    "        psd = 0.6,\n",
    "        gam = c(0.0, 0.0, 0.0, 0.0),\n",
    "        phi = structure(\n",
    "            .Data = c(0.5, 0.0, 0.0, 0.0,\n",
    "                    0.0, 0.5, 0.0, 0.0,\n",
    "                    0.0, 0.0, 0.5, 0.0,\n",
    "                    0.0, 0.0, 0.0, 0.5),\n",
    "            .Dim = c(4,4)),\n",
    "        xi = χ_priors\n",
    "    )\n",
    "}"
   ]
  },
  {
   "cell_type": "code",
   "execution_count": 5,
   "id": "7943b196",
   "metadata": {
    "vscode": {
     "languageId": "r"
    }
   },
   "outputs": [],
   "source": [
    "param <- c(\"lam\", \"psi\", \"gam\", \"phi\", \"xi\")\n",
    "n.iter <- 5000\n",
    "n.burnin  <- 2000"
   ]
  },
  {
   "cell_type": "code",
   "execution_count": null,
   "id": "946c28f6",
   "metadata": {
    "vscode": {
     "languageId": "r"
    }
   },
   "outputs": [],
   "source": [
    "\n",
    "model.out <- bugs(\n",
    "    data, \n",
    "    inits, \n",
    "    param[-5], \n",
    "    n.iter,\n",
    "    model.file = model,\n",
    "    n.chains = 2,\n",
    "    n.burnin = n.burnin,\n",
    "    debug = TRUE,\n",
    "    codaPkg = TRUE,\n",
    "    OpenBUGS.pgm = paste0(Sys.getenv(\"HOME\"), \"/.wine/drive_c/Program Files (x86)/OpenBUGS/OpenBUGS323/OpenBUGS.exe\"),\n",
    "    working.directory = paste0(getwd(), \"/Chapter6/bugs-output\"),\n",
    "    useWINE = TRUE,\n",
    "    WINE = \"/usr/bin/wine\",\n",
    "    WINEPATH = \"/usr/bin/winepath\"\n",
    ")\n"
   ]
  },
  {
   "cell_type": "code",
   "execution_count": 7,
   "id": "214d3800",
   "metadata": {
    "vscode": {
     "languageId": "r"
    }
   },
   "outputs": [
    {
     "ename": "ERROR",
     "evalue": "Error in bugs.run(n.burnin, bugs.directory, WINE = WINE, useWINE = useWINE, : Look at the log file and\ntry again with 'debug=TRUE' to figure out what went wrong within Bugs.\n",
     "output_type": "error",
     "traceback": [
      "Error in bugs.run(n.burnin, bugs.directory, WINE = WINE, useWINE = useWINE, : Look at the log file and\ntry again with 'debug=TRUE' to figure out what went wrong within Bugs.\nTraceback:\n",
      "1. R2WinBUGS::bugs(data, inits, param[-5], model.file = model, n.chains = 2, \n .     n.iter = n.iter, n.burnin = n.burnin, debug = FALSE, codaPkg = FALSE, \n .     bugs.directory = paste0(Sys.getenv(\"HOME\"), \"/.wine/drive_c/Program Files (x86)/WinBUGS14/\"), \n .     program = \"WinBUGS\", working.directory = paste0(getwd(), \n .         \"/Chapter6/bugs-output\"), WINE = \"/usr/bin/wine\", WINEPATH = \"/usr/bin/winepath\")",
      "2. bugs.run(n.burnin, bugs.directory, WINE = WINE, useWINE = useWINE, \n .     newWINE = newWINE, WINEPATH = WINEPATH)",
      "3. stop(\"Look at the log file and\\ntry again with 'debug=TRUE' to figure out what went wrong within Bugs.\")"
     ]
    }
   ],
   "source": [
    "model.out <- R2WinBUGS::bugs(\n",
    "    data, \n",
    "    inits, \n",
    "    param[-5], \n",
    "    model.file = model,\n",
    "    n.chains = 2,\n",
    "    n.iter = n.iter,\n",
    "    n.burnin = n.burnin,\n",
    "    debug = FALSE,\n",
    "    codaPkg = FALSE,\n",
    "    bugs.directory = paste0(Sys.getenv(\"HOME\"), \"/.wine/drive_c/Program Files (x86)/WinBUGS14/\"),\n",
    "    program = \"WinBUGS\",\n",
    "    working.directory = paste0(getwd(), \"/Chapter6/bugs-output\"),\n",
    "    WINE = \"/usr/bin/wine\",\n",
    "    WINEPATH = \"/usr/bin/winepath\"\n",
    ")\n"
   ]
  },
  {
   "cell_type": "code",
   "execution_count": 14,
   "id": "7184ee8b",
   "metadata": {
    "vscode": {
     "languageId": "r"
    }
   },
   "outputs": [
    {
     "name": "stdout",
     "output_type": "stream",
     "text": [
      "Compiling model graph\n",
      "   Resolving undeclared variables\n",
      "   Allocating nodes\n",
      "Deleting model\n",
      "\n"
     ]
    },
    {
     "ename": "ERROR",
     "evalue": "Error in rjags::jags.model(model, data, inits, n.chains = 2, n.adapt = n.burnin): RUNTIME ERROR:\nCompilation error on line 5.\nBUGS I(,) notation is only allowed if all parameters are fixed\n\n\n",
     "output_type": "error",
     "traceback": [
      "Error in rjags::jags.model(model, data, inits, n.chains = 2, n.adapt = n.burnin): RUNTIME ERROR:\nCompilation error on line 5.\nBUGS I(,) notation is only allowed if all parameters are fixed\n\n\nTraceback:\n",
      "1. rjags::jags.model(model, data, inits, n.chains = 2, n.adapt = n.burnin)"
     ]
    }
   ],
   "source": [
    "rjags::jags.model(\n",
    "    model,\n",
    "    data,\n",
    "    inits,\n",
    "    n.chains = 2,\n",
    "    n.adapt = n.burnin\n",
    ")"
   ]
  },
  {
   "cell_type": "code",
   "execution_count": 83,
   "id": "84e6bb91",
   "metadata": {
    "vscode": {
     "languageId": "r"
    }
   },
   "outputs": [
    {
     "ename": "ERROR",
     "evalue": "Error in scan(output.file, what = list(iter = 0, val = 0), quiet = TRUE): scan() expected 'a real', got 'OpenBUGS'\n",
     "output_type": "error",
     "traceback": [
      "Error in scan(output.file, what = list(iter = 0, val = 0), quiet = TRUE): scan() expected 'a real', got 'OpenBUGS'\nTraceback:\n",
      "1. read.bugs(model.out)",
      "2. mcmc.list(lapply(codafiles, read.coda, index.file = file.path(dirname(codafiles[1]), \n .     \"CODAindex.txt\"), ...))",
      "3. lapply(codafiles, read.coda, index.file = file.path(dirname(codafiles[1]), \n .     \"CODAindex.txt\"), ...)",
      "4. FUN(X[[i]], ...)",
      "5. scan(output.file, what = list(iter = 0, val = 0), quiet = TRUE)"
     ]
    }
   ],
   "source": [
    "codaobject <- read.bugs(model.out)\n",
    "plot(codaobject)\n",
    "save.image()"
   ]
  },
  {
   "cell_type": "code",
   "execution_count": 84,
   "id": "32b6874a",
   "metadata": {
    "vscode": {
     "languageId": "r"
    }
   },
   "outputs": [
    {
     "ename": "ERROR",
     "evalue": "Error in bugs.run(n.burnin, OpenBUGS.pgm, debug = debug, WINE = WINE, : Look at the log file in  /home/pal_bjartan/Backup/PhD/SEM-test-model/Lee2007/Chapter4/bugs-output  and\ntry again with 'debug=TRUE' to figure out what went wrong within OpenBUGS.\n",
     "output_type": "error",
     "traceback": [
      "Error in bugs.run(n.burnin, OpenBUGS.pgm, debug = debug, WINE = WINE, : Look at the log file in  /home/pal_bjartan/Backup/PhD/SEM-test-model/Lee2007/Chapter4/bugs-output  and\ntry again with 'debug=TRUE' to figure out what went wrong within OpenBUGS.\nTraceback:\n",
      "1. bugs(data, inits, param, model.file = model, 2 * n.iter, n.burnin = n.burnin, \n .     codaPkg = FALSE, working.directory = paste0(getwd(), \"/Chapter4/bugs-output\"))",
      "2. bugs.run(n.burnin, OpenBUGS.pgm, debug = debug, WINE = WINE, \n .     useWINE = useWINE, newWINE = newWINE, WINEPATH = WINEPATH)",
      "3. stop(paste(\"Look at the log file in \", getwd(), \" and\\ntry again with 'debug=TRUE' to figure out what went wrong within OpenBUGS.\"))"
     ]
    }
   ],
   "source": [
    "model.out <- bugs(\n",
    "    data, \n",
    "    inits, \n",
    "    param, \n",
    "    model.file = model, \n",
    "    2*n.iter, \n",
    "    n.burnin = n.burnin, \n",
    "    codaPkg = FALSE,  # Get bugs object\n",
    "    working.directory = paste0(getwd(), \"/Chapter4/bugs-output\")\n",
    ")\n",
    "model.out\n",
    "# save.image()"
   ]
  },
  {
   "cell_type": "code",
   "execution_count": null,
   "id": "514bdb1e",
   "metadata": {
    "vscode": {
     "languageId": "r"
    }
   },
   "outputs": [],
   "source": []
  }
 ],
 "metadata": {
  "kernelspec": {
   "display_name": "R",
   "language": "R",
   "name": "ir"
  },
  "language_info": {
   "codemirror_mode": "r",
   "file_extension": ".r",
   "mimetype": "text/x-r-source",
   "name": "R",
   "pygments_lexer": "r",
   "version": "4.3.1"
  }
 },
 "nbformat": 4,
 "nbformat_minor": 5
}
