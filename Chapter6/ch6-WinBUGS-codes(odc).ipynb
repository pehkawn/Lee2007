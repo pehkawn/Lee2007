{
 "cells": [
  {
   "cell_type": "markdown",
   "id": "0056e97b",
   "metadata": {},
   "source": [
    "### This is a WinBUGS program for the real example in Chapter 6, Section 6.6.2.\n",
    "\n",
    "Model: Structural Equation Model with Ordered Categorical Variables\n",
    "Data Set Names:  YO.dat, and XI.dat, where XI.dat are input initial values for xi.\n",
    "\n",
    "Sample Size: N=338"
   ]
  },
  {
   "cell_type": "code",
   "execution_count": null,
   "id": "8e2670fa",
   "metadata": {
    "vscode": {
     "languageId": "r"
    }
   },
   "outputs": [],
   "source": [
    "model{\n",
    "\tfor(i in 1:N){\n",
    "\t\t#measurement equation model\n",
    "\t\tfor(j in 1:P){\n",
    "\t\t\ty[i,j]~dnorm(mu[i,j],psi[j])I(thd[j,z[i,j]],thd[j,z[i,j]+1])\n",
    "\t\t\tephat[i,j]<-y[i,j]-mu[i,j]\n",
    "\t\t}\n",
    "\t\tmu[i,1]<-eta[i]\n",
    "\t\tmu[i,2]<-lam[1]*eta[i]\n",
    "\t\tmu[i,3]<-xi[i,1]\n",
    "\t\tmu[i,4]<-lam[2]*xi[i,1]\n",
    "\t\tmu[i,5]<-lam[3]*xi[i,1]\n",
    "\t\tmu[i,6]<-lam[4]*xi[i,1]\n",
    "\t\tmu[i,7]<-lam[5]*xi[i,1]\n",
    "\t\tmu[i,8]<-lam[6]*xi[i,1]\n",
    "\t\tmu[i,9]<-lam[7]*xi[i,1]\n",
    "\t\tmu[i,10]<-xi[i,2]\n",
    "\t\tmu[i,11]<-lam[8]*xi[i,2]\n",
    "\t\tmu[i,12]<-lam[9]*xi[i,2]\n",
    "\t\tmu[i,13]<-lam[10]*xi[i,2]\n",
    "\t\tmu[i,14]<-lam[11]*xi[i,2]\n",
    "    \tmu[i,15]<-lam[12]*xi[i,2]\n",
    "\t\tmu[i,16]<-xi[i,3]\n",
    "\t\tmu[i,17]<-lam[13]*xi[i,3]\n",
    "\t\tmu[i,18]<-lam[14]*xi[i,3]\t\t\n",
    "\t\tmu[i,19]<-xi[i,4]\t\t\n",
    "\t\tmu[i,20]<-lam[15]*xi[i,4]\t\t\n",
    "\t\tmu[i,21]<-lam[16]*xi[i,4]\t\t\n",
    "\t\tmu[i,22]<-lam[17]*xi[i,4]\t\t\n",
    "\t\tmu[i,23]<-lam[18]*xi[i,4]\t\t\n",
    "\t\tmu[i,24]<-lam[19]*xi[i,4]\t\t\n",
    "\t\tmu[i,25]<-lam[20]*xi[i,4]\t\t\n",
    "\t\tmu[i,26]<-lam[21]*xi[i,4]\n",
    "\t#structural equation model\n",
    "\txi[i,1:4]~dmnorm(u[1:4],phi[1:4,1:4])\n",
    "\teta[i]~dnorm(nu[i],psd)\n",
    "\tnu[i]<-gam[1]*xi[i,1]+gam[2]*xi[i,2]+gam[3]*xi[i,3]+gam[4]*xi[i,4]\n",
    "\tdthat[i]<-eta[i]-nu[i]\n",
    "}# end of i\n",
    "\n",
    "for(i in 1:4){u[i]<-0.0}\n",
    "\n",
    "#priors on loadings and coefficients\n",
    "var.lam[1]<-4.0*psi[2]\t   var.lam[2]<-4.0*psi[4]\t    var.lam[3]<-4.0*psi[5]\n",
    "var.lam[4]<-4.0*psi[6]\t   var.lam[5]<-4.0*psi[7]\t    var.lam[6]<-4.0*psi[8]\n",
    "var.lam[7]<-4.0*psi[9]\t   var.lam[8]<-4.0*psi[11]\t  var.lam[9]<-4.0*psi[12]\n",
    "var.lam[10]<-4.0*psi[13]\tvar.lam[11]<-4.0*psi[14]\tvar.lam[12]<-4.0*psi[15]\n",
    "var.lam[13]<-4.0*psi[17]\tvar.lam[14]<-4.0*psi[18]\tvar.lam[15]<-4.0*psi[20]\n",
    "var.lam[16]<-4.0*psi[21]\tvar.lam[17]<-4.0*psi[22]\tvar.lam[18]<-4.0*psi[23]\n",
    "var.lam[19]<-4.0*psi[24]\tvar.lam[20]<-4.0*psi[25]\tvar.lam[21]<-4.0*psi[26]\n",
    "for(i in 1:21){lam[i]~dnorm(0.8,var.lam[i])}\t\n",
    "\n",
    "var.gam<-4.0*psd\n",
    "gam[1]~dnorm(0.6,var.gam)    gam[2]~dnorm(0.6,var.gam)    \n",
    "gam[3]~dnorm(0.4,var.gam)    gam[4]~dnorm(0.4,var.gam)\n",
    "\n",
    "#priors on precisions\n",
    "for(j in 1:P){\n",
    "\tpsi[j]~dgamma(10,8)\n",
    "\tsgm[j]<-1/psi[j]\n",
    "}\n",
    "psd~dgamma(10,8)\n",
    "sgd<-1/psd\n",
    "phi[1:4,1:4]~dwish(R[1:4,1:4], 30)\n",
    "phx[1:4,1:4]<-inverse(phi[1:4,1:4])\n",
    "} #end of model\n"
   ]
  },
  {
   "cell_type": "markdown",
   "id": "dfdee4a3",
   "metadata": {},
   "source": [
    "Data Set"
   ]
  },
  {
   "cell_type": "code",
   "execution_count": 1,
   "id": "f6e03215",
   "metadata": {
    "vscode": {
     "languageId": "r"
    }
   },
   "outputs": [
    {
     "ename": "ERROR",
     "evalue": "Error in parse(text = x, srcfile = src): <text>:37:31: unexpected symbol\n36:         z=structure(\n37:                 .Data=c(paste YO.dat\n                                  ^\n",
     "output_type": "error",
     "traceback": [
      "Error in parse(text = x, srcfile = src): <text>:37:31: unexpected symbol\n36:         z=structure(\n37:                 .Data=c(paste YO.dat\n                                  ^\nTraceback:\n"
     ]
    }
   ],
   "source": [
    "list(N=338, P=26, \n",
    "\tR=structure(\n",
    "\t\t.Data=c(8.0, 0.0, 0.0, 0.0,\n",
    "                    0.0, 8.0, 0.0, 0.0,\n",
    "                    0.0, 0.0, 8.0, 0.0,\n",
    "                    0.0, 0.0, 0.0, 8.0),\n",
    "\t\t.Dim=c(4,4)),\n",
    "\tthd=structure(\n",
    "\t      .Data=c(-200.000,-2.517,-1.245,-0.444, 0.848,200.000,\n",
    "-200.000,-1.447,-0.420, 0.119, 1.245,200.000,\n",
    "-200.000,-1.671,-0.869,-0.194, 0.679,200.000,\n",
    "-200.000,-1.642,-0.869,-0.293, 0.332,200.000,\n",
    "-200.000,-1.671,-0.827, 0.052, 0.756,200.000,\n",
    "-200.000,-1.769,-1.098,-0.469, 0.255,200.000,\n",
    "-200.000,-1.490,-0.670,-0.082, 0.880,200.000,\n",
    "-200.000,-1.933,-0.880,-0.317, 1.008,200.000,\n",
    "-200.000,-1.587,-0.624, 0.000, 1.008,200.000,\n",
    "-200.000,-1.983,-1.348,-0.348, 1.045,200.000,\n",
    "-200.000,-1.983,-1.229,-0.247, 0.869,200.000,\n",
    "-200.000,-2.262,-1.426, 0.037, 1.330,200.000,\n",
    "-200.000,-2.371,-1.295,-0.224, 0.651,200.000,\n",
    "-200.000,-2.039,-1.112,-0.149, 1.169,200.000,\n",
    "-200.000,-2.262,-1.198,-0.309, 1.198,200.000,\n",
    "-200.000,-2.176,-1.537,-0.717, 0.597,200.000,\n",
    "-200.000,-1.447,-0.786, 0.119, 1.008,200.000,\n",
    "-200.000,-2.039,-1.769,-0.661, 0.642,200.000,\n",
    "-200.000,-2.262,-1.468, 0.015, 1.214,200.000,\n",
    "-200.000,-2.039,-1.406, 0.000, 1.140,200.000,\n",
    "-200.000,-1.702,-1.058, 0.149, 0.902,200.000,\n",
    "-200.000,-2.262,-1.426,-0.309, 0.971,200.000,\n",
    "-200.000,-1.702,-0.615, 0.179, 1.229,200.000,\n",
    "-200.000,-2.262,-1.671,-1.033, 0.420,200.000,\n",
    "-200.000,-2.262,-1.468,-0.689, 1.045,200.000,\n",
    "-200.000,-2.176,-1.537,-0.880, 0.661,200.000),\n",
    "\t      .Dim=c(26,6)),\n",
    "\tz=structure(\n",
    "\t\t.Data=c(paste YO.dat here),\n",
    "\t\t.Dim=c(338,26)))"
   ]
  },
  {
   "cell_type": "markdown",
   "id": "fed94887",
   "metadata": {},
   "source": [
    "Two different Initial Values"
   ]
  },
  {
   "cell_type": "code",
   "execution_count": null,
   "id": "1e00b02d",
   "metadata": {
    "vscode": {
     "languageId": "r"
    }
   },
   "outputs": [],
   "source": [
    "list(\n",
    "\tlam=c(0.0, 0.0, 0.0, 0.0, 0.0, 0.0, 0.0, 0.0, 0.0, 0.0, 0.0, 0.0, 0.0, 0.0, 0.0, 0.0, 0.0, 0.0, 0.0, 0.0, 0.0),\n",
    "\tpsi=c(1.0, 1.0, 1.0, 1.0, 1.0, 1.0, 1.0, 1.0, 1.0, 1.0, 1.0, 1.0, 1.0, 1.0, 1.0, 1.0, 1.0, 1.0, 1.0, 1.0, 1.0, 1.0, 1.0, 1.0, 1.0, 1.0),\n",
    "\tpsd=1.0,\n",
    "\tgam=c(1.0, 1.0, 1.0, 1.0),\n",
    "\tphi=structure(\n",
    "\t\t.Data=c(1.0, 0.0, 0.0, 0.0, \n",
    "\t\t             0.0, 1.0, 0.0, 0.0,\n",
    "\t\t             0.0, 0.0, 1.0, 0.0,\n",
    "\t\t             0.0, 0.0, 0.0, 1.0),\n",
    "\t\t.Dim=c(4,4)),\n",
    "\txi=structure(\n",
    "\t\t.Data=c(paste XI.dat here),\n",
    "\t\t.Dim=c(338,4)))\n",
    "\n",
    "list(\n",
    "\tlam=c(0.5, 0.5, 0.5, 0.5, 0.5, 0.5, 0.5, 0.5, 0.5, 0.5, 0.5, 0.5, 0.5, 0.5, 0.5, 0.5, 0.5, 0.5, 0.5, 0.5, 0.5),\n",
    "\tpsi=c(0.5, 0.5, 0.5, 0.5, 0.5, 0.5, 0.5, 0.5, 0.5, 0.5, 0.5, 0.5, 0.5, 0.5, 0.5, 0.5, 0.5, 0.5, 0.5, 0.5, 0.5, 0.5, 0.5, 0.5, 0.5, 0.5),\n",
    "\tpsd=0.6,\n",
    "\tgam=c(0.0, 0.0, 0.0, 0.0),\n",
    "\tphi=structure(\n",
    "\t\t.Data=c(0.5, 0.0, 0.0, 0.0, \n",
    "\t\t             0.0, 0.5, 0.0, 0.0,\n",
    "\t\t             0.0, 0.0, 0.5, 0.0,\n",
    "\t\t             0.0, 0.0, 0.0, 0.5),\n",
    "\t\t.Dim=c(4,4)),\n",
    "\txi=structure(\n",
    "\t\t.Data=c(paste XI.dat here),\n",
    "\t\t.Dim=c(338,4)))"
   ]
  }
 ],
 "metadata": {
  "kernelspec": {
   "display_name": "R",
   "language": "R",
   "name": "ir"
  },
  "language_info": {
   "codemirror_mode": "r",
   "file_extension": ".r",
   "mimetype": "text/x-r-source",
   "name": "R",
   "pygments_lexer": "r",
   "version": "4.3.1"
  }
 },
 "nbformat": 4,
 "nbformat_minor": 5
}
