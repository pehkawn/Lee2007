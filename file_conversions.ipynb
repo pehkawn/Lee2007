{
 "cells": [
  {
   "cell_type": "markdown",
   "metadata": {},
   "source": [
    "### Importing code from PDF to Jupyter notebook"
   ]
  },
  {
   "cell_type": "code",
   "execution_count": 4,
   "metadata": {
    "vscode": {
     "languageId": "r"
    }
   },
   "outputs": [
    {
     "data": {
      "text/html": [
       "<ol>\n",
       "\t<li>TRUE</li>\n",
       "\t<li>TRUE</li>\n",
       "\t<li>TRUE</li>\n",
       "\t<li>TRUE</li>\n",
       "\t<li>TRUE</li>\n",
       "\t<li>TRUE</li>\n",
       "\t<li>TRUE</li>\n",
       "\t<li>TRUE</li>\n",
       "\t<li>TRUE</li>\n",
       "\t<li>TRUE</li>\n",
       "\t<li>TRUE</li>\n",
       "\t<li>TRUE</li>\n",
       "\t<li>TRUE</li>\n",
       "</ol>\n"
      ],
      "text/latex": [
       "\\begin{enumerate}\n",
       "\\item TRUE\n",
       "\\item TRUE\n",
       "\\item TRUE\n",
       "\\item TRUE\n",
       "\\item TRUE\n",
       "\\item TRUE\n",
       "\\item TRUE\n",
       "\\item TRUE\n",
       "\\item TRUE\n",
       "\\item TRUE\n",
       "\\item TRUE\n",
       "\\item TRUE\n",
       "\\item TRUE\n",
       "\\end{enumerate}\n"
      ],
      "text/markdown": [
       "1. TRUE\n",
       "2. TRUE\n",
       "3. TRUE\n",
       "4. TRUE\n",
       "5. TRUE\n",
       "6. TRUE\n",
       "7. TRUE\n",
       "8. TRUE\n",
       "9. TRUE\n",
       "10. TRUE\n",
       "11. TRUE\n",
       "12. TRUE\n",
       "13. TRUE\n",
       "\n",
       "\n"
      ],
      "text/plain": [
       "[[1]]\n",
       "[1] TRUE\n",
       "\n",
       "[[2]]\n",
       "[1] TRUE\n",
       "\n",
       "[[3]]\n",
       "[1] TRUE\n",
       "\n",
       "[[4]]\n",
       "[1] TRUE\n",
       "\n",
       "[[5]]\n",
       "[1] TRUE\n",
       "\n",
       "[[6]]\n",
       "[1] TRUE\n",
       "\n",
       "[[7]]\n",
       "[1] TRUE\n",
       "\n",
       "[[8]]\n",
       "[1] TRUE\n",
       "\n",
       "[[9]]\n",
       "[1] TRUE\n",
       "\n",
       "[[10]]\n",
       "[1] TRUE\n",
       "\n",
       "[[11]]\n",
       "[1] TRUE\n",
       "\n",
       "[[12]]\n",
       "[1] TRUE\n",
       "\n",
       "[[13]]\n",
       "[1] TRUE\n"
      ]
     },
     "metadata": {},
     "output_type": "display_data"
    }
   ],
   "source": [
    "pdf.files <- list.files(\n",
    "    path = \".\", \n",
    "    pattern = \".pdf$\", \n",
    "    all.files = TRUE,\n",
    "    full.names = TRUE, \n",
    "    recursive = TRUE,\n",
    "    ignore.case = TRUE\n",
    ")\n",
    "\n",
    "pdf.files <- pdf.files[!file.exists(xfun::with_ext(pdf.files, \"ipynb\"))]\n",
    "\n",
    "lapply(\n",
    "    #Files to convert\n",
    "    pdf.files, \n",
    "    function(x) {\n",
    "        # Extract text from PDF\n",
    "        pdftools::pdf_text(x) %>%\n",
    "        cat(file = xfun::with_ext(x , \"txt\"))\n",
    "        # Generate system call for converting text file to ipynb with notedown\n",
    "        f <- paste( \"notedown\", xfun::with_ext(x , \"txt\"), \">\", xfun::with_ext(x , \"ipynb\") )\n",
    "        system(f, intern = TRUE, timeout = 60)\n",
    "        # Remove intermediate txt file\n",
    "        file.remove(xfun::with_ext(x , \"txt\"))\n",
    "    }\n",
    ")"
   ]
  },
  {
   "cell_type": "markdown",
   "metadata": {},
   "source": [
    "### Importing code from RMarkdown to Jupyter notebook"
   ]
  },
  {
   "cell_type": "code",
   "execution_count": 5,
   "metadata": {
    "vscode": {
     "languageId": "r"
    }
   },
   "outputs": [
    {
     "data": {
      "text/html": [
       "<style>\n",
       ".list-inline {list-style: none; margin:0; padding: 0}\n",
       ".list-inline>li {display: inline-block}\n",
       ".list-inline>li:not(:last-child)::after {content: \"\\00b7\"; padding: 0 .5ex}\n",
       "</style>\n",
       "<ol class=list-inline><li>'./cmdrstan-vignettes/children/_settings-knitr.Rmd'</li><li>'./cmdrstan-vignettes/cmdstanr-internals.Rmd'</li><li>'./cmdrstan-vignettes/cmdstanr.Rmd'</li><li>'./cmdrstan-vignettes/deprecations.Rmd'</li><li>'./cmdrstan-vignettes/OpenCL-example/opencl.Rmd'</li><li>'./cmdrstan-vignettes/posterior.Rmd'</li><li>'./cmdrstan-vignettes/profiling.Rmd'</li><li>'./cmdrstan-vignettes/r-markdown.Rmd'</li></ol>\n"
      ],
      "text/latex": [
       "\\begin{enumerate*}\n",
       "\\item './cmdrstan-vignettes/children/\\_settings-knitr.Rmd'\n",
       "\\item './cmdrstan-vignettes/cmdstanr-internals.Rmd'\n",
       "\\item './cmdrstan-vignettes/cmdstanr.Rmd'\n",
       "\\item './cmdrstan-vignettes/deprecations.Rmd'\n",
       "\\item './cmdrstan-vignettes/OpenCL-example/opencl.Rmd'\n",
       "\\item './cmdrstan-vignettes/posterior.Rmd'\n",
       "\\item './cmdrstan-vignettes/profiling.Rmd'\n",
       "\\item './cmdrstan-vignettes/r-markdown.Rmd'\n",
       "\\end{enumerate*}\n"
      ],
      "text/markdown": [
       "1. './cmdrstan-vignettes/children/_settings-knitr.Rmd'\n",
       "2. './cmdrstan-vignettes/cmdstanr-internals.Rmd'\n",
       "3. './cmdrstan-vignettes/cmdstanr.Rmd'\n",
       "4. './cmdrstan-vignettes/deprecations.Rmd'\n",
       "5. './cmdrstan-vignettes/OpenCL-example/opencl.Rmd'\n",
       "6. './cmdrstan-vignettes/posterior.Rmd'\n",
       "7. './cmdrstan-vignettes/profiling.Rmd'\n",
       "8. './cmdrstan-vignettes/r-markdown.Rmd'\n",
       "\n",
       "\n"
      ],
      "text/plain": [
       "[1] \"./cmdrstan-vignettes/children/_settings-knitr.Rmd\" \"./cmdrstan-vignettes/cmdstanr-internals.Rmd\"      \n",
       "[3] \"./cmdrstan-vignettes/cmdstanr.Rmd\"                 \"./cmdrstan-vignettes/deprecations.Rmd\"            \n",
       "[5] \"./cmdrstan-vignettes/OpenCL-example/opencl.Rmd\"    \"./cmdrstan-vignettes/posterior.Rmd\"               \n",
       "[7] \"./cmdrstan-vignettes/profiling.Rmd\"                \"./cmdrstan-vignettes/r-markdown.Rmd\"              "
      ]
     },
     "metadata": {},
     "output_type": "display_data"
    }
   ],
   "source": [
    "rmd.files <- list.files(\n",
    "    path = \".\", \n",
    "    pattern = \".[Rr]md$\", \n",
    "    all.files = TRUE,\n",
    "    full.names = TRUE, \n",
    "    recursive = TRUE,\n",
    "    ignore.case = TRUE\n",
    ")\n",
    "\n",
    "rmd.files <- rmd.files[!file.exists(xfun::with_ext(rmd.files, \"ipynb\"))]\n",
    "\n",
    "lapply(\n",
    "    #Files to convert\n",
    "    rmd.files, \n",
    "    function(x) {\n",
    "        # Generate system call for converting text file to ipynb with notedown\n",
    "        f <- paste( \"notedown\", x, \"--knit >\", xfun::with_ext(x , \"ipynb\") )\n",
    "        system(f, intern = TRUE, timeout = 60)\n",
    "    }\n",
    ")"
   ]
  },
  {
   "cell_type": "markdown",
   "metadata": {
    "vscode": {
     "languageId": "r"
    }
   },
   "source": [
    "### Export to R script"
   ]
  },
  {
   "cell_type": "code",
   "execution_count": 2,
   "metadata": {
    "vscode": {
     "languageId": "r"
    }
   },
   "outputs": [
    {
     "name": "stderr",
     "output_type": "stream",
     "text": [
      "Loading required package: rmarkdown\n",
      "\n",
      "Loading required package: knitr\n",
      "\n",
      "\n",
      "\n",
      "processing file: ./Chapter4/ch4-R2OpenBUGS-codes.Rmd\n",
      "\n"
     ]
    },
    {
     "name": "stdout",
     "output_type": "stream",
     "text": [
      "                                                                                                                                                              [unnamed-chunk-2]                     [unnamed-chunk-3]                     [unnamed-chunk-4]                     [unnamed-chunk-5]                     [unnamed-chunk-6]                     [unnamed-chunk-7]                     [unnamed-chunk-8]                     [unnamed-chunk-9]                     [unnamed-chunk-10]                   \n"
     ]
    },
    {
     "name": "stderr",
     "output_type": "stream",
     "text": [
      "output file: ./Chapter4/ch4-R2OpenBUGS-codes.R\n",
      "\n",
      "\n"
     ]
    },
    {
     "data": {
      "text/html": [
       "TRUE"
      ],
      "text/latex": [
       "TRUE"
      ],
      "text/markdown": [
       "TRUE"
      ],
      "text/plain": [
       "[1] TRUE"
      ]
     },
     "metadata": {},
     "output_type": "display_data"
    }
   ],
   "source": [
    "convert_ipynb_to_r(\"./Chapter4/ch4-R2OpenBUGS-codes.ipynb\")"
   ]
  },
  {
   "cell_type": "code",
   "execution_count": null,
   "metadata": {
    "vscode": {
     "languageId": "r"
    }
   },
   "outputs": [],
   "source": []
  }
 ],
 "metadata": {
  "kernelspec": {
   "display_name": "R",
   "language": "R",
   "name": "ir"
  },
  "language_info": {
   "codemirror_mode": "r",
   "file_extension": ".r",
   "mimetype": "text/x-r-source",
   "name": "R",
   "pygments_lexer": "r",
   "version": "4.3.1"
  },
  "orig_nbformat": 4
 },
 "nbformat": 4,
 "nbformat_minor": 2
}
