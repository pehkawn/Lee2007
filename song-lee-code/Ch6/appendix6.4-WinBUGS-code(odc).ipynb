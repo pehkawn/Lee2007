{
 "cells": [
  {
   "cell_type": "markdown",
   "id": "6f96e66b",
   "metadata": {},
   "source": [
    "model {\n",
    "\tfor (g in 1:G) {\n",
    "\t\t#second level\n",
    "\t\tfor (j in 1:P) { vg[g,j]~dnorm(u2[g,j],psi2[j]) }"
   ]
  },
  {
   "cell_type": "code",
   "execution_count": null,
   "id": "639192bb",
   "metadata": {},
   "outputs": [],
   "source": [
    "\tu2[g,1]<-1.0*xi2[g,1]\n",
    "\tu2[g,2]<-lb[1]*xi2[g,1]\n",
    "\tu2[g,3]<-lb[2]*xi2[g,1]\n",
    "\n",
    "\tu2[g,4]<-1.0*xi2[g,2]\n",
    "\tu2[g,5]<-lb[3]*xi2[g,2]\n",
    "\tu2[g,6]<-lb[4]*xi2[g,2]\n",
    "\n",
    "\tu2[g,7]<-1.0*xi2[g,3]\n",
    "\tu2[g,8]<-lb[5]*xi2[g,3]\n",
    "\tu2[g,9]<-lb[6]*xi2[g,3]\n",
    "\t\n",
    "\txi2[g,1:3]~dmnorm(ux2[1:3],phip[1:3,1:3])\n",
    "   \n",
    "\t#first model\n",
    "\tfor (i in 1:N[g]) {\n",
    "\n",
    "\t\tfor (j in 1:6) {\n",
    "\t\t\tw[kk[g]+i,j]~dcat(p[kk[g]+i,j,1:C])\n",
    "\t\t\tp[kk[g]+i,j,1]<-Q[kk[g]+i,j,1]\n",
    "\t\t\tfor (t in 2:C-1) { p[kk[g]+i,j,t]<-Q[kk[g]+i,j,t]-Q[kk[g]+i,j,t-1] }\n",
    "\t\t\tp[kk[g]+i,j,C]<-1-Q[kk[g]+i,j,C-1]\n",
    "\t\t\tfor (t in 1:C-1) { Q[kk[g]+i,j,t]<-phi((alph[j,t]-u1[kk[g]+i,j])*sqrt(psi11[j])) }\n",
    "\t\t}\n",
    "\t\t#Note: the coding for the ordered categorical variable is 1,2,...,C\n",
    "\n",
    "\t\tfor (j in 7:9) { w[kk[g]+i,j]~dnorm(u1[kk[g]+i,j],psi1[j]) }\n",
    "      \n",
    "\t\tu1[kk[g]+i,1]<-vg[g,1]+1.0*eta1[g,i]\n",
    "\t\tu1[kk[g]+i,2]<-vg[g,2]+lw[1]*eta1[g,i]\n",
    "\t\tu1[kk[g]+i,3]<-vg[g,3]+lw[2]*eta1[g,i]\n",
    "\n",
    "\t\tu1[kk[g]+i,4]<-vg[g,4]+1.0*xi1[g,i,1]\n",
    "\t\tu1[kk[g]+i,5]<-vg[g,5]+lw[3]*xi1[g,i,1]\n",
    "\t\tu1[kk[g]+i,6]<-vg[g,6]+lw[4]*xi1[g,i,1]\n",
    "\n",
    "\t\tu1[kk[g]+i,7]<-vg[g,7]+1.0*xi1[g,i,2]\n",
    "\t\tu1[kk[g]+i,8]<-vg[g,8]+lw[5]*xi1[g,i,2]\n",
    "\t\tu1[kk[g]+i,9]<-vg[g,9]+lw[6]*xi1[g,i,2]\n",
    "\n",
    "\t\t#Structural Equation model\n",
    "\t\teta1[g,i]~dnorm(nu1[g,i], psd)\n",
    "\t\tnu1[g,i]<-gam[1]*xi1[g,i,1]+gam[2]*xi1[g,i,2]+gam[3]*xi1[g,i,1]*xi1[g,i,2]+gam[4]*xi1[g,i,1]*xi1[g,i,1]+gam[5]*xi1[g,i,2]*xi1[g,i,2]\n",
    "\t\t\n",
    "\t\txi1[g,i,1:2]~dmnorm(ux1[1:2],phi1[1:2,1:2])\n",
    "\t} # end of i\n",
    "       \n",
    "} # end of g \n",
    "\n",
    "for (i in 1:2) { ux1[i]<-0.0 }\n",
    "for (i in 1:3) { ux2[i]<-0.0 }"
   ]
  },
  {
   "cell_type": "markdown",
   "id": "58c2898b",
   "metadata": {},
   "source": [
    "# priors on loadings and coefficients\n",
    "\tlb[1]~dnorm(lbp[1],psi2[2])\tlb[2]~dnorm(lbp[2],psi2[3])\tlb[3]~dnorm(lbp[3],psi2[5]) \n",
    "\tlb[4]~dnorm(lbp[4],psi2[6])\tlb[5]~dnorm(lbp[5],psi2[8])\tlb[6]~dnorm(lbp[6],psi2[9])"
   ]
  },
  {
   "cell_type": "code",
   "execution_count": null,
   "id": "cad79656",
   "metadata": {},
   "outputs": [],
   "source": [
    "lw[1]~dnorm(lwp[1],psi1[2])\tlw[2]~dnorm(lwp[2],psi1[3])\tlw[3]~dnorm(lwp[3],psi1[5]) \n",
    "lw[4]~dnorm(lwp[4],psi1[6])\tlw[5]~dnorm(lwp[5],psi1[8])\tlw[6]~dnorm(lwp[6],psi1[9])\n",
    "\n",
    "for (i in 1:5) { gam[i]~dnorm(gamp[i], psd) }\n",
    "   \n",
    "# priors on thresholds\n",
    "for (j in 1:6) {\n",
    "\talph[j,1]<-a\n",
    "\talph[j,2]~dnorm(0,0.01)I(alph[j,1],alph[j,3])\n",
    "\talph[j,3]~dnorm(0,0.01)I(alph[j,2],alph[j,4])\n",
    "\talph[j,4]<-b\n",
    "}\n",
    "# a, b are fixed to identify the ordered categorical variable\n",
    "\n",
    "# priors on precisions\n",
    "\n",
    "for (j in 1:9) {\n",
    "\tpsi1[j]~dgamma(10.0,8.0)\n",
    "\tsgm1[j]<-1/psi1[j] \n",
    "}\n",
    "\n",
    "for (j in 1:6) { psi2[j]<-1.0/0.3 }\n",
    "    \n",
    "for (j in 7:9) {\n",
    "\tpsi2[j]~dgamma(10.0,8.0)\n",
    "\tsgm2[j]<-1/psi2[j] \n",
    "}"
   ]
  },
  {
   "cell_type": "markdown",
   "id": "ca7d3a27",
   "metadata": {},
   "source": [
    "psd~dgamma(10.0,8.0)\n",
    "    sgd<-1/psd"
   ]
  },
  {
   "cell_type": "code",
   "execution_count": null,
   "id": "1de789a9",
   "metadata": {},
   "outputs": [],
   "source": [
    "phi1[1:2,1:2]~dwish(R1[1:2,1:2],5)\n",
    "phx1[1:2,1:2]<-inverse(phi1[1:2,1:2])\n",
    "\n",
    "phi2[1:3,1:3]~dwish(R2[1:2,1:2],5)\n",
    "phx2[1:3,1:3]<-inverse(phi2[1:3,1:3])"
   ]
  },
  {
   "cell_type": "markdown",
   "id": "7c7dfa85",
   "metadata": {},
   "source": [
    "} # end of model"
   ]
  }
 ],
 "metadata": {},
 "nbformat": 4,
 "nbformat_minor": 5
}
